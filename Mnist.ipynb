{
 "cells": [
  {
   "cell_type": "code",
   "execution_count": 52,
   "metadata": {},
   "outputs": [],
   "source": [
    "import fastai.basics as fai\n",
    "import fastai.vision as fv\n",
    "\n",
    "import torch\n",
    "import torch.nn as nn\n",
    "import torch.nn.functional as F\n",
    "\n",
    "import gc\n",
    "from pathlib import Path\n",
    "\n",
    "import random as rd\n",
    "import matplotlib.pyplot as plt\n",
    "import matplotlib.patches as patches\n",
    "\n",
    "from sklearn.cluster import KMeans\n",
    "import tensorflow as tf\n",
    "import warnings"
   ]
  },
  {
   "cell_type": "code",
   "execution_count": 2,
   "metadata": {},
   "outputs": [],
   "source": [
    "import numpy as np\n",
    "from PIL import ImageGrab\n",
    "import cv2\n",
    "import time\n",
    "from IPython.display import clear_output\n",
    "import ctypes\n",
    "import pyautogui\n",
    "import os\n",
    "\n",
    "import fastai as fai\n",
    "import fastai.vision as fv\n",
    "import torch\n",
    "import torch.nn as nn\n",
    "import torch.optim as optim\n",
    "import torch.nn.functional as F\n",
    "import os\n",
    "import numpy as np\n",
    "from pathlib import Path\n",
    "import random as rd\n",
    "import gc\n",
    "import math\n",
    "from copy import copy\n",
    "\n",
    "from torch.utils.data import Dataset\n",
    "from torchvision import transforms, utils\n",
    "\n",
    "import PIL\n",
    "import time\n",
    "#import win32gui, win32ui, win32con, win32api"
   ]
  },
  {
   "cell_type": "code",
   "execution_count": 3,
   "metadata": {},
   "outputs": [],
   "source": [
    "%matplotlib inline"
   ]
  },
  {
   "cell_type": "markdown",
   "metadata": {},
   "source": [
    "---\n",
    "\n",
    "## Importando el data set\n",
    "\n",
    "Para el proyecto se usara el data set de mnist"
   ]
  },
  {
   "cell_type": "code",
   "execution_count": 4,
   "metadata": {},
   "outputs": [],
   "source": [
    "(x_train, y_train), (x_test, y_test) = tf.keras.datasets.mnist.load_data()"
   ]
  },
  {
   "cell_type": "code",
   "execution_count": 160,
   "metadata": {},
   "outputs": [
    {
     "name": "stdout",
     "output_type": "stream",
     "text": [
      "1\n"
     ]
    },
    {
     "data": {
      "text/plain": [
       "(-0.5, 27.5, 27.5, -0.5)"
      ]
     },
     "execution_count": 160,
     "metadata": {},
     "output_type": "execute_result"
    },
    {
     "data": {
      "image/png": "[encoded data removed]",
      "text/plain": [
       "<Figure size 432x288 with 1 Axes>"
      ]
     },
     "metadata": {
      "needs_background": "light"
     },
     "output_type": "display_data"
    }
   ],
   "source": [
    "_a = rd.randint(0,10000)\n",
    "_a = 6\n",
    "print(y_train[_a]) # The label is 0\n",
    "fig,ax = plt.subplots()\n",
    "\n",
    "ax.imshow(x_train[_a], cmap=\"Greys\")\n",
    "\n",
    "#plt.imshow(x_train[_a], cmap='Greys')\n",
    "#plt.Rectangle((0,0),10,10,color=\"green\")\n",
    "\n",
    "#rect = patches.Rectangle((10,3),5,5,linewidth=2,edgecolor='r',facecolor='none')\n",
    "\n",
    "#ax.add_patch(rect)\n",
    "plt.axis(\"equal\")"
   ]
  },
  {
   "cell_type": "code",
   "execution_count": 158,
   "metadata": {},
   "outputs": [
    {
     "data": {
      "text/plain": [
       "(600, 28, 28)"
      ]
     },
     "execution_count": 158,
     "metadata": {},
     "output_type": "execute_result"
    }
   ],
   "source": [
    "x_test.shape"
   ]
  },
  {
   "cell_type": "markdown",
   "metadata": {},
   "source": [
    "---\n",
    "\n",
    "## Seleccionando el data set\n",
    "\n",
    "Como el data set de mnist es demasiado grande lo reduciremos hasta 5000 imagenes de las 60000 imagenes originales en el train, para test se usaran solo 600"
   ]
  },
  {
   "cell_type": "code",
   "execution_count": 110,
   "metadata": {},
   "outputs": [],
   "source": [
    "def separarDataSet(Xtrain:np.array, ytrain:np.array, Xtest:np.array, ytest:np.array, x_train_max:int=5000, x_test_max:int=600):\n",
    "    \"\"\"\n",
    "        sperarDataSet sirve para separar el data set hasta un cierto datos seleccionado\n",
    "        \n",
    "        PRAMETROS\n",
    "        =========\n",
    "        \n",
    "            Xtrain: np.array, obligatoria\n",
    "                el conjunto de entrenamiento X\n",
    "            \n",
    "            ytrain: np.array, obligatoria\n",
    "                el conjunto de entrenamiento\n",
    "            \n",
    "            Xtest: np.array, obligatoria\n",
    "                el conjunto de prueba X\n",
    "            \n",
    "            ytest: np.array, obligatoria\n",
    "                el conjunto de prueba y\n",
    "        \n",
    "            x_train_max: int, default=5000\n",
    "                separa el conjunto de entrenamiento hasta un cierto numero, ytrain sera separado del mismo tamaño que este parametro\n",
    "                \n",
    "            x_test_max: int, default=600\n",
    "                separa el conjunto de entrenamiento hasta un cierto numero, ytest sera separado del mismo tamaño que este parametro\n",
    "                \n",
    "        \n",
    "        REGRESA\n",
    "        =======\n",
    "            4 subconjuntos de datos del data set original (x_train,y_train,x_test,y_test)\n",
    "    \"\"\"\n",
    "    \n",
    "                            ###################################\n",
    "                            # Validacion de valores iniciales #\n",
    "                            ###################################\n",
    "                \n",
    "    \n",
    "    #Si x_train_max es un flotante todabia se hace el intento al convertirlo en int pero con una advertencia\n",
    "    if(isinstance(x_train_max,int) or isinstance(x_train_max,float)):\n",
    "        if(isinstance(x_train_max,float)):\n",
    "            warnings.warn(\"x_train_max is a float It was converted to int \" + str(x_train_max) + \" -> \" + str(int(x_train_max)))\n",
    "        x_train_max = int(x_train_max)\n",
    "    #Si x_train_max no es un int o float entonces regresamos error\n",
    "    else:\n",
    "        raise TypeError(\"x_train_max must be a int not a \" + str(type(x_train_max)))\n",
    "    \n",
    "    #Si x_test_max es float todabia se hace el intento al convertirlo en int pero con una advertencia \n",
    "    if(isinstance(x_test_max,int) or isinstance(x_test_max,float)):\n",
    "        if(isinstance(x_test_max,float)):\n",
    "            warnings.warn(\"x_test_max is a float It was converted to int \" + str(x_test_max) + \" -> \" + str(int(x_test_max)))\n",
    "        x_test_max = int(x_test_max)\n",
    "    #Si x_test_max no es int o float entonces regresamos error\n",
    "    else:\n",
    "        raise TypeError(\"x_test_max must be a int not a \" + str(type(x_test_max)))\n",
    "    \n",
    "    #Si Xtrain no es un np.array entonces regresamos error\n",
    "    if(type(Xtrain) != type(np.array([]))):\n",
    "        raise TypeError(\"Xtrain must be a np.array not a \" + str(type(Xtrain)))\n",
    "    \n",
    "    #Si ytrain no es un np.array entonces regresamos error\n",
    "    if(type(ytrain) != type(np.array([]))):\n",
    "        raise TypeError(\"ytrain must be a np.array not a \" + str(type(ytrain)))\n",
    "    \n",
    "    #Si Xtest no es np.array entonces regresamos error\n",
    "    if(type(Xtest) != type(np.array([]))):\n",
    "        raise TypeError(\"Xtest must be a np.array not a \" + str(type(Xtest)))\n",
    "    \n",
    "    #Si ytrain no es np.array entonces regresamos error\n",
    "    if(type(ytrain) != type(np.array([]))):\n",
    "        raise TypeError(\"ytrain must be a np.array not a \" + str(type(ytrain)))\n",
    "    \n",
    "    #Si x_train_max es mayor que el conjunto de datos de Xtrain.shape[0] entonces regresamos error\n",
    "    if(x_train_max > Xtrain.shape[0]):\n",
    "        raise TypeError(\"x_train_max:\" + str(x_train_max) + \" must be less than Xtrain.shape[0]:\" + str(X.train.shape[0]))\n",
    "    \n",
    "    #Si x_test_max es mayor que el conjunto de datos de Xtest.shape[0] entonces regresamos error\n",
    "    if(x_test_max > Xtest.shape[0]):\n",
    "        raise TypeError(\"x_test_max:\" + str(x_test_max) + \" must be less than Xtest.shape[0]:\" + str(X.test.shape[0]))\n",
    "        \n",
    "        \n",
    "                            #####################\n",
    "                            # Ejcutar el codigo #\n",
    "                            #####################\n",
    "    #Si todo las condiciones son correctas entonces ahora si podemos ejecutar el codigo normal\n",
    "    \n",
    "    return Xtrain[:x_train_max],ytrain[:x_train_max],Xtest[:x_test_max],ytest[:x_test_max]"
   ]
  },
  {
   "cell_type": "code",
   "execution_count": 111,
   "metadata": {},
   "outputs": [],
   "source": [
    "x_train, y_train, x_test, y_test = separarDataSet(x_train,y_train,x_test,y_test)"
   ]
  },
  {
   "cell_type": "code",
   "execution_count": 163,
   "metadata": {},
   "outputs": [
    {
     "data": {
      "text/plain": [
       "array([  0,   0,   0,   0,   0,   0,   0,   0,   0,   0,   0,   0,   0,  61, 190, 128,  23,   6,   0,   0,   0,   0,\n",
       "         0,   0,   0,   0,   0,   0], dtype=uint8)"
      ]
     },
     "execution_count": 163,
     "metadata": {},
     "output_type": "execute_result"
    }
   ],
   "source": [
    "x_test[6][24]"
   ]
  },
  {
   "cell_type": "markdown",
   "metadata": {},
   "source": []
  },
  {
   "cell_type": "code",
   "execution_count": null,
   "metadata": {},
   "outputs": [],
   "source": []
  },
  {
   "cell_type": "markdown",
   "metadata": {},
   "source": [
    "## Referencias\n",
    "\n",
    "https://towardsdatascience.com/image-classification-in-10-minutes-with-mnist-dataset-54c35b77a38d"
   ]
  },
  {
   "cell_type": "code",
   "execution_count": null,
   "metadata": {},
   "outputs": [],
   "source": []
  }
 ],
 "metadata": {
  "kernelspec": {
   "display_name": "Python 3",
   "language": "python",
   "name": "python3"
  },
  "language_info": {
   "codemirror_mode": {
    "name": "ipython",
    "version": 3
   },
   "file_extension": ".py",
   "mimetype": "text/x-python",
   "name": "python",
   "nbconvert_exporter": "python",
   "pygments_lexer": "ipython3",
   "version": "3.6.7"
  }
 },
 "nbformat": 4,
 "nbformat_minor": 2
}
