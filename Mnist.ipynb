{
 "cells": [
  {
   "cell_type": "markdown",
   "metadata": {},
   "source": [
    "# Object Detection con aprendizaje no supervisado\n",
    "\n",
    "Dentro del mundo de Machine Learning "
   ]
  },
  {
   "cell_type": "code",
   "execution_count": 1,
   "metadata": {},
   "outputs": [
    {
     "name": "stderr",
     "output_type": "stream",
     "text": [
      "C:\\Users\\Donovan\\Anaconda3\\envs\\fastai\\lib\\site-packages\\tensorflow\\python\\framework\\dtypes.py:526: FutureWarning: Passing (type, 1) or '1type' as a synonym of type is deprecated; in a future version of numpy, it will be understood as (type, (1,)) / '(1,)type'.\n",
      "  _np_qint8 = np.dtype([(\"qint8\", np.int8, 1)])\n",
      "C:\\Users\\Donovan\\Anaconda3\\envs\\fastai\\lib\\site-packages\\tensorflow\\python\\framework\\dtypes.py:527: FutureWarning: Passing (type, 1) or '1type' as a synonym of type is deprecated; in a future version of numpy, it will be understood as (type, (1,)) / '(1,)type'.\n",
      "  _np_quint8 = np.dtype([(\"quint8\", np.uint8, 1)])\n",
      "C:\\Users\\Donovan\\Anaconda3\\envs\\fastai\\lib\\site-packages\\tensorflow\\python\\framework\\dtypes.py:528: FutureWarning: Passing (type, 1) or '1type' as a synonym of type is deprecated; in a future version of numpy, it will be understood as (type, (1,)) / '(1,)type'.\n",
      "  _np_qint16 = np.dtype([(\"qint16\", np.int16, 1)])\n",
      "C:\\Users\\Donovan\\Anaconda3\\envs\\fastai\\lib\\site-packages\\tensorflow\\python\\framework\\dtypes.py:529: FutureWarning: Passing (type, 1) or '1type' as a synonym of type is deprecated; in a future version of numpy, it will be understood as (type, (1,)) / '(1,)type'.\n",
      "  _np_quint16 = np.dtype([(\"quint16\", np.uint16, 1)])\n",
      "C:\\Users\\Donovan\\Anaconda3\\envs\\fastai\\lib\\site-packages\\tensorflow\\python\\framework\\dtypes.py:530: FutureWarning: Passing (type, 1) or '1type' as a synonym of type is deprecated; in a future version of numpy, it will be understood as (type, (1,)) / '(1,)type'.\n",
      "  _np_qint32 = np.dtype([(\"qint32\", np.int32, 1)])\n",
      "C:\\Users\\Donovan\\Anaconda3\\envs\\fastai\\lib\\site-packages\\tensorflow\\python\\framework\\dtypes.py:535: FutureWarning: Passing (type, 1) or '1type' as a synonym of type is deprecated; in a future version of numpy, it will be understood as (type, (1,)) / '(1,)type'.\n",
      "  np_resource = np.dtype([(\"resource\", np.ubyte, 1)])\n"
     ]
    }
   ],
   "source": [
    "from pathlib import Path\n",
    "\n",
    "import random as rd\n",
    "import matplotlib.pyplot as plt\n",
    "import matplotlib.patches as patches\n",
    "\n",
    "from sklearn.cluster import KMeans\n",
    "import tensorflow as tf\n",
    "import warnings"
   ]
  },
  {
   "cell_type": "code",
   "execution_count": 2,
   "metadata": {},
   "outputs": [],
   "source": [
    "import numpy as np\n",
    "import time\n",
    "from IPython.display import clear_output\n",
    "import ctypes\n",
    "import pyautogui\n",
    "import os\n",
    "\n",
    "import math\n",
    "from copy import copy\n",
    "\n",
    "import PIL\n",
    "import time\n",
    "#import win32gui, win32ui, win32con, win32api"
   ]
  },
  {
   "cell_type": "code",
   "execution_count": 3,
   "metadata": {},
   "outputs": [],
   "source": [
    "%matplotlib inline"
   ]
  },
  {
   "cell_type": "markdown",
   "metadata": {},
   "source": [
    "---\n",
    "\n",
    "## Importando el data set\n",
    "\n",
    "Para el proyecto se usara el data set de mnist y un ejemplo manual de lo que deberia ser el resultado"
   ]
  },
  {
   "cell_type": "code",
   "execution_count": 4,
   "metadata": {},
   "outputs": [],
   "source": [
    "(x_train, y_train), (x_test, y_test) = tf.keras.datasets.mnist.load_data()"
   ]
  },
  {
   "cell_type": "code",
   "execution_count": 5,
   "metadata": {},
   "outputs": [
    {
     "name": "stdout",
     "output_type": "stream",
     "text": [
      "1\n"
     ]
    },
    {
     "data": {
      "text/plain": [
       "(-0.5, 27.5, 27.5, -0.5)"
      ]
     },
     "execution_count": 5,
     "metadata": {},
     "output_type": "execute_result"
    },
    {
     "data": {
      "image/png": "[encoded data removed]",
      "text/plain": [
       "<Figure size 432x288 with 1 Axes>"
      ]
     },
     "metadata": {
      "needs_background": "light"
     },
     "output_type": "display_data"
    }
   ],
   "source": [
    "_a = rd.randint(0,10000)\n",
    "_a = 6\n",
    "print(y_train[_a]) # The label is 0\n",
    "fig,ax = plt.subplots()\n",
    "\n",
    "ax.imshow(x_train[_a], cmap=\"Greys\")\n",
    "\n",
    "#plt.imshow(x_train[_a], cmap='Greys')\n",
    "#plt.Rectangle((9,3),35,90,color=\"green\")\n",
    "\n",
    "rect = patches.Rectangle((10,3),9,21,linewidth=2,edgecolor='r',facecolor='none')\n",
    "\n",
    "ax.add_patch(rect)\n",
    "plt.axis(\"equal\")"
   ]
  },
  {
   "cell_type": "code",
   "execution_count": 6,
   "metadata": {},
   "outputs": [
    {
     "data": {
      "text/plain": [
       "(10000, 28, 28)"
      ]
     },
     "execution_count": 6,
     "metadata": {},
     "output_type": "execute_result"
    }
   ],
   "source": [
    "x_test.shape"
   ]
  },
  {
   "cell_type": "markdown",
   "metadata": {},
   "source": [
    "---\n",
    "\n",
    "## Seleccionando el data set\n",
    "\n",
    "Como el data set de mnist es demasiado grande lo reduciremos hasta 5000 imagenes de las 60000 imagenes originales en el train, para test se usaran solo 50"
   ]
  },
  {
   "cell_type": "code",
   "execution_count": 7,
   "metadata": {},
   "outputs": [],
   "source": [
    "def separarDataSet(Xtrain:np.array, ytrain:np.array, Xtest:np.array, ytest:np.array, x_train_max:int=5000, x_test_max:int=50):\n",
    "    \"\"\"\n",
    "        sperarDataSet sirve para separar el data set hasta un cierto datos seleccionado\n",
    "        \n",
    "        PRAMETROS\n",
    "        =========\n",
    "        \n",
    "            Xtrain: np.array, obligatoria\n",
    "                el conjunto de entrenamiento X\n",
    "            \n",
    "            ytrain: np.array, obligatoria\n",
    "                el conjunto de entrenamiento\n",
    "            \n",
    "            Xtest: np.array, obligatoria\n",
    "                el conjunto de prueba X\n",
    "            \n",
    "            ytest: np.array, obligatoria\n",
    "                el conjunto de prueba y\n",
    "        \n",
    "            x_train_max: int, default=5000\n",
    "                separa el conjunto de entrenamiento hasta un cierto numero, ytrain sera separado del mismo tamaño que este parametro\n",
    "                \n",
    "            x_test_max: int, default=600\n",
    "                separa el conjunto de entrenamiento hasta un cierto numero, ytest sera separado del mismo tamaño que este parametro\n",
    "                \n",
    "        \n",
    "        REGRESA\n",
    "        =======\n",
    "            4 subconjuntos de datos del data set original (x_train,y_train,x_test,y_test)\n",
    "    \"\"\"\n",
    "    \n",
    "                            ###################################\n",
    "                            # Validacion de valores iniciales #\n",
    "                            ###################################\n",
    "                \n",
    "    \n",
    "    #Si x_train_max es un flotante todabia se hace el intento al convertirlo en int pero con una advertencia\n",
    "    if(isinstance(x_train_max,int) or isinstance(x_train_max,float)):\n",
    "        if(isinstance(x_train_max,float)):\n",
    "            warnings.warn(\"x_train_max is a float It was converted to int \" + str(x_train_max) + \" -> \" + str(int(x_train_max)))\n",
    "        x_train_max = int(x_train_max)\n",
    "    #Si x_train_max no es un int o float entonces regresamos error\n",
    "    else:\n",
    "        raise TypeError(\"x_train_max must be a int not a \" + str(type(x_train_max)))\n",
    "    \n",
    "    #Si x_test_max es float todabia se hace el intento al convertirlo en int pero con una advertencia \n",
    "    if(isinstance(x_test_max,int) or isinstance(x_test_max,float)):\n",
    "        if(isinstance(x_test_max,float)):\n",
    "            warnings.warn(\"x_test_max is a float It was converted to int \" + str(x_test_max) + \" -> \" + str(int(x_test_max)))\n",
    "        x_test_max = int(x_test_max)\n",
    "    #Si x_test_max no es int o float entonces regresamos error\n",
    "    else:\n",
    "        raise TypeError(\"x_test_max must be a int not a \" + str(type(x_test_max)))\n",
    "    \n",
    "    #Si Xtrain no es un np.array entonces regresamos error\n",
    "    if(type(Xtrain) != type(np.array([]))):\n",
    "        raise TypeError(\"Xtrain must be a np.array not a \" + str(type(Xtrain)))\n",
    "    \n",
    "    #Si ytrain no es un np.array entonces regresamos error\n",
    "    if(type(ytrain) != type(np.array([]))):\n",
    "        raise TypeError(\"ytrain must be a np.array not a \" + str(type(ytrain)))\n",
    "    \n",
    "    #Si Xtest no es np.array entonces regresamos error\n",
    "    if(type(Xtest) != type(np.array([]))):\n",
    "        raise TypeError(\"Xtest must be a np.array not a \" + str(type(Xtest)))\n",
    "    \n",
    "    #Si ytrain no es np.array entonces regresamos error\n",
    "    if(type(ytrain) != type(np.array([]))):\n",
    "        raise TypeError(\"ytrain must be a np.array not a \" + str(type(ytrain)))\n",
    "    \n",
    "    #Si x_train_max es mayor que el conjunto de datos de Xtrain.shape[0] entonces regresamos error\n",
    "    if(x_train_max > Xtrain.shape[0]):\n",
    "        raise TypeError(\"x_train_max:\" + str(x_train_max) + \" must be less than Xtrain.shape[0]:\" + str(X.train.shape[0]))\n",
    "    \n",
    "    #Si x_test_max es mayor que el conjunto de datos de Xtest.shape[0] entonces regresamos error\n",
    "    if(x_test_max > Xtest.shape[0]):\n",
    "        raise TypeError(\"x_test_max:\" + str(x_test_max) + \" must be less than Xtest.shape[0]:\" + str(X.test.shape[0]))\n",
    "        \n",
    "        \n",
    "                            #####################\n",
    "                            # Ejcutar el codigo #\n",
    "                            #####################\n",
    "    #Si todo las condiciones son correctas entonces ahora si podemos ejecutar el codigo normal\n",
    "    \n",
    "    return Xtrain[:x_train_max],ytrain[:x_train_max],Xtest[:x_test_max],ytest[:x_test_max]"
   ]
  },
  {
   "cell_type": "code",
   "execution_count": 8,
   "metadata": {},
   "outputs": [],
   "source": [
    "x_train, y_train, x_test, y_test = separarDataSet(x_train,y_train,x_test,y_test)"
   ]
  },
  {
   "cell_type": "code",
   "execution_count": 9,
   "metadata": {},
   "outputs": [
    {
     "data": {
      "text/plain": [
       "array([[0, 0, 0, 0, ..., 0, 0, 0, 0],\n",
       "       [0, 0, 0, 0, ..., 0, 0, 0, 0],\n",
       "       [0, 0, 0, 0, ..., 0, 0, 0, 0],\n",
       "       [0, 0, 0, 0, ..., 0, 0, 0, 0],\n",
       "       ...,\n",
       "       [0, 0, 0, 0, ..., 0, 0, 0, 0],\n",
       "       [0, 0, 0, 0, ..., 0, 0, 0, 0],\n",
       "       [0, 0, 0, 0, ..., 0, 0, 0, 0],\n",
       "       [0, 0, 0, 0, ..., 0, 0, 0, 0]], dtype=uint8)"
      ]
     },
     "execution_count": 9,
     "metadata": {},
     "output_type": "execute_result"
    }
   ],
   "source": [
    "x_train[0]"
   ]
  },
  {
   "cell_type": "markdown",
   "metadata": {},
   "source": [
    "## Nomalizar datos\n",
    "\n",
    "Si recordamos los datos originales, los colores tienen un rango [0,1] por lo que necesitamos normalizar la evaluacion $f$ "
   ]
  },
  {
   "cell_type": "code",
   "execution_count": 10,
   "metadata": {},
   "outputs": [],
   "source": [
    "def NormalizarDatos(X,Xmin,Xmax):\n",
    "    \"\"\"\n",
    "        X: El valor actual para normalizar\n",
    "        \n",
    "        Xmin: El valor minimo de todo el data set\n",
    "        \n",
    "        Xmax: El valor max de todo el data set\n",
    "        \n",
    "        REGRESA\n",
    "        =======\n",
    "            El valor normalizado\n",
    "    \"\"\"\n",
    "    return (X-Xmin)/(Xmax-Xmin)"
   ]
  },
  {
   "cell_type": "markdown",
   "metadata": {},
   "source": [
    "## EVALUACION $f$\n",
    "\n",
    "Es la encargada de que asignarle un valor a cada pixel de la imagen\n",
    "\n",
    "$f(c,x,y)\\ = \\ c*(x+y)$"
   ]
  },
  {
   "cell_type": "code",
   "execution_count": 11,
   "metadata": {},
   "outputs": [],
   "source": [
    "def F(C,X,Y):\n",
    "    \"\"\"\n",
    "        C: Color\n",
    "        X: Coordenada en x\n",
    "        Y: Coordenada en y\n",
    "        \n",
    "        REGRESA\n",
    "        =======\n",
    "            C*(X+Y)\n",
    "    \"\"\"\n",
    "    C = float(C)\n",
    "    X = float(X)\n",
    "    Y = float(Y)\n",
    "    return C*(X+Y)"
   ]
  },
  {
   "cell_type": "markdown",
   "metadata": {},
   "source": [
    "## Codigo de \"Entrenamiento\"\n",
    "\n",
    "Esta parte solo es una muestra de lo que ya puede hacer nuestro modelo para poder detectar un numero. Más sin embargo aun no es capaz de poder clasificarlos."
   ]
  },
  {
   "cell_type": "code",
   "execution_count": 12,
   "metadata": {},
   "outputs": [],
   "source": [
    "lista_nums = {}\n",
    "_vals = {}"
   ]
  },
  {
   "cell_type": "code",
   "execution_count": 13,
   "metadata": {
    "scrolled": true
   },
   "outputs": [],
   "source": [
    "_iterator = 0\n",
    "for h,i in enumerate(x_train):\n",
    "    for y,j in enumerate(i):\n",
    "        for x,c in enumerate(j):\n",
    "            #if x != 27:\n",
    "            #    print(c,end=\" \")\n",
    "            #else:\n",
    "            #    print(c)\n",
    "            if _iterator == 0:\n",
    "                _vals[h] = [F(c,x,y)]\n",
    "                lista_nums[h] = [F(c,x,y)]\n",
    "                _iterator += 1\n",
    "            else:\n",
    "                lista_nums[h].append(F(c,x,y))\n",
    "                _vals[h].append(F(c,x,y))\n",
    "    _iterator = 0"
   ]
  },
  {
   "cell_type": "code",
   "execution_count": 14,
   "metadata": {},
   "outputs": [],
   "source": [
    "for i in _vals:\n",
    "    _vals[i] = (min(_vals[i]),max(_vals[i]))\n",
    "for k,i in enumerate(lista_nums):\n",
    "    for m,j in enumerate(lista_nums[i]):\n",
    "        lista_nums[i][m] = NormalizarDatos(lista_nums[i][m],_vals[k][0],_vals[k][1])"
   ]
  },
  {
   "cell_type": "code",
   "execution_count": 15,
   "metadata": {},
   "outputs": [],
   "source": [
    "for k,i in enumerate(lista_nums):\n",
    "    for m,j in enumerate(lista_nums[i]):\n",
    "        lista_nums[i][m] = lista_nums[i][m]*7"
   ]
  },
  {
   "cell_type": "code",
   "execution_count": 56,
   "metadata": {},
   "outputs": [],
   "source": [
    "def OrdenarConD(X,D):\n",
    "    _0 = []\n",
    "    _1 = []\n",
    "    \n",
    "    #print(D)\n",
    "    \n",
    "    for i in X:\n",
    "        for j in i:\n",
    "            #print(i)\n",
    "            if j <= D:\n",
    "                _0.append(i)\n",
    "            else:\n",
    "                _1.append(i)\n",
    "    #print(_0,_1)\n",
    "    return (_0,_1)"
   ]
  },
  {
   "cell_type": "code",
   "execution_count": 57,
   "metadata": {},
   "outputs": [],
   "source": [
    "D = range(5)"
   ]
  },
  {
   "cell_type": "code",
   "execution_count": 58,
   "metadata": {},
   "outputs": [
    {
     "name": "stdout",
     "output_type": "stream",
     "text": [
      "[array([0, 0, 0, 0, 0, 0, 0, 0, 0, 0, 0, 0, 0, 0, 0, 0, 0, 0, 0, 0, 0, 0, 0, 0, 0, 0, 0, 0], dtype=uint8), array([0, 0, 0, 0, 0, 0, 0, 0, 0, 0, 0, 0, 0, 0, 0, 0, 0, 0, 0, 0, 0, 0, 0, 0, 0, 0, 0, 0], dtype=uint8), array([0, 0, 0, 0, 0, 0, 0, 0, 0, 0, 0, 0, 0, 0, 0, 0, 0, 0, 0, 0, 0, 0, 0, 0, 0, 0, 0, 0], dtype=uint8), array([0, 0, 0, 0, 0, 0, 0, 0, 0, 0, 0, 0, 0, 0, 0, 0, 0, 0, 0, 0, 0, 0, 0, 0, 0, 0, 0, 0], dtype=uint8), array([0, 0, 0, 0, 0, 0, 0, 0, 0, 0, 0, 0, 0, 0, 0, 0, 0, 0, 0, 0, 0, 0, 0, 0, 0, 0, 0, 0], dtype=uint8), array([0, 0, 0, 0, 0, 0, 0, 0, 0, 0, 0, 0, 0, 0, 0, 0, 0, 0, 0, 0, 0, 0, 0, 0, 0, 0, 0, 0], dtype=uint8), array([0, 0, 0, 0, 0, 0, 0, 0, 0, 0, 0, 0, 0, 0, 0, 0, 0, 0, 0, 0, 0, 0, 0, 0, 0, 0, 0, 0], dtype=uint8), array([0, 0, 0, 0, 0, 0, 0, 0, 0, 0, 0, 0, 0, 0, 0, 0, 0, 0, 0, 0, 0, 0, 0, 0, 0, 0, 0, 0], dtype=uint8), array([0, 0, 0, 0, 0, 0, 0, 0, 0, 0, 0, 0, 0, 0, 0, 0, 0, 0, 0, 0, 0, 0, 0, 0, 0, 0, 0, 0], dtype=uint8), array([0, 0, 0, 0, 0, 0, 0, 0, 0, 0, 0, 0, 0, 0, 0, 0, 0, 0, 0, 0, 0, 0, 0, 0, 0, 0, 0, 0], dtype=uint8), array([0, 0, 0, 0, 0, 0, 0, 0, 0, 0, 0, 0, 0, 0, 0, 0, 0, 0, 0, 0, 0, 0, 0, 0, 0, 0, 0, 0], dtype=uint8), array([0, 0, 0, 0, 0, 0, 0, 0, 0, 0, 0, 0, 0, 0, 0, 0, 0, 0, 0, 0, 0, 0, 0, 0, 0, 0, 0, 0], dtype=uint8), array([0, 0, 0, 0, 0, 0, 0, 0, 0, 0, 0, 0, 0, 0, 0, 0, 0, 0, 0, 0, 0, 0, 0, 0, 0, 0, 0, 0], dtype=uint8), array([0, 0, 0, 0, 0, 0, 0, 0, 0, 0, 0, 0, 0, 0, 0, 0, 0, 0, 0, 0, 0, 0, 0, 0, 0, 0, 0, 0], dtype=uint8), array([0, 0, 0, 0, 0, 0, 0, 0, 0, 0, 0, 0, 0, 0, 0, 0, 0, 0, 0, 0, 0, 0, 0, 0, 0, 0, 0, 0], dtype=uint8), array([0, 0, 0, 0, 0, 0, 0, 0, 0, 0, 0, 0, 0, 0, 0, 0, 0, 0, 0, 0, 0, 0, 0, 0, 0, 0, 0, 0], dtype=uint8), array([0, 0, 0, 0, 0, 0, 0, 0, 0, 0, 0, 0, 0, 0, 0, 0, 0, 0, 0, 0, 0, 0, 0, 0, 0, 0, 0, 0], dtype=uint8), array([0, 0, 0, 0, 0, 0, 0, 0, 0, 0, 0, 0, 0, 0, 0, 0, 0, 0, 0, 0, 0, 0, 0, 0, 0, 0, 0, 0], dtype=uint8), array([0, 0, 0, 0, 0, 0, 0, 0, 0, 0, 0, 0, 0, 0, 0, 0, 0, 0, 0, 0, 0, 0, 0, 0, 0, 0, 0, 0], dtype=uint8), array([0, 0, 0, 0, 0, 0, 0, 0, 0, 0, 0, 0, 0, 0, 0, 0, 0, 0, 0, 0, 0, 0, 0, 0, 0, 0, 0, 0], dtype=uint8), array([0, 0, 0, 0, 0, 0, 0, 0, 0, 0, 0, 0, 0, 0, 0, 0, 0, 0, 0, 0, 0, 0, 0, 0, 0, 0, 0, 0], dtype=uint8), array([0, 0, 0, 0, 0, 0, 0, 0, 0, 0, 0, 0, 0, 0, 0, 0, 0, 0, 0, 0, 0, 0, 0, 0, 0, 0, 0, 0], dtype=uint8), array([0, 0, 0, 0, 0, 0, 0, 0, 0, 0, 0, 0, 0, 0, 0, 0, 0, 0, 0, 0, 0, 0, 0, 0, 0, 0, 0, 0], dtype=uint8), array([0, 0, 0, 0, 0, 0, 0, 0, 0, 0, 0, 0, 0, 0, 0, 0, 0, 0, 0, 0, 0, 0, 0, 0, 0, 0, 0, 0], dtype=uint8), array([0, 0, 0, 0, 0, 0, 0, 0, 0, 0, 0, 0, 0, 0, 0, 0, 0, 0, 0, 0, 0, 0, 0, 0, 0, 0, 0, 0], dtype=uint8), array([0, 0, 0, 0, 0, 0, 0, 0, 0, 0, 0, 0, 0, 0, 0, 0, 0, 0, 0, 0, 0, 0, 0, 0, 0, 0, 0, 0], dtype=uint8), array([0, 0, 0, 0, 0, 0, 0, 0, 0, 0, 0, 0, 0, 0, 0, 0, 0, 0, 0, 0, 0, 0, 0, 0, 0, 0, 0, 0], dtype=uint8), array([0, 0, 0, 0, 0, 0, 0, 0, 0, 0, 0, 0, 0, 0, 0, 0, 0, 0, 0, 0, 0, 0, 0, 0, 0, 0, 0, 0], dtype=uint8), array([0, 0, 0, 0, 0, 0, 0, 0, 0, 0, 0, 0, 0, 0, 0, 0, 0, 0, 0, 0, 0, 0, 0, 0, 0, 0, 0, 0], dtype=uint8), array([0, 0, 0, 0, 0, 0, 0, 0, 0, 0, 0, 0, 0, 0, 0, 0, 0, 0, 0, 0, 0, 0, 0, 0, 0, 0, 0, 0], dtype=uint8), array([0, 0, 0, 0, 0, 0, 0, 0, 0, 0, 0, 0, 0, 0, 0, 0, 0, 0, 0, 0, 0, 0, 0, 0, 0, 0, 0, 0], dtype=uint8), array([0, 0, 0, 0, 0, 0, 0, 0, 0, 0, 0, 0, 0, 0, 0, 0, 0, 0, 0, 0, 0, 0, 0, 0, 0, 0, 0, 0], dtype=uint8), array([0, 0, 0, 0, 0, 0, 0, 0, 0, 0, 0, 0, 0, 0, 0, 0, 0, 0, 0, 0, 0, 0, 0, 0, 0, 0, 0, 0], dtype=uint8), array([0, 0, 0, 0, 0, 0, 0, 0, 0, 0, 0, 0, 0, 0, 0, 0, 0, 0, 0, 0, 0, 0, 0, 0, 0, 0, 0, 0], dtype=uint8), array([0, 0, 0, 0, 0, 0, 0, 0, 0, 0, 0, 0, 0, 0, 0, 0, 0, 0, 0, 0, 0, 0, 0, 0, 0, 0, 0, 0], dtype=uint8), array([0, 0, 0, 0, 0, 0, 0, 0, 0, 0, 0, 0, 0, 0, 0, 0, 0, 0, 0, 0, 0, 0, 0, 0, 0, 0, 0, 0], dtype=uint8), array([0, 0, 0, 0, 0, 0, 0, 0, 0, 0, 0, 0, 0, 0, 0, 0, 0, 0, 0, 0, 0, 0, 0, 0, 0, 0, 0, 0], dtype=uint8), array([0, 0, 0, 0, 0, 0, 0, 0, 0, 0, 0, 0, 0, 0, 0, 0, 0, 0, 0, 0, 0, 0, 0, 0, 0, 0, 0, 0], dtype=uint8), array([0, 0, 0, 0, 0, 0, 0, 0, 0, 0, 0, 0, 0, 0, 0, 0, 0, 0, 0, 0, 0, 0, 0, 0, 0, 0, 0, 0], dtype=uint8), array([0, 0, 0, 0, 0, 0, 0, 0, 0, 0, 0, 0, 0, 0, 0, 0, 0, 0, 0, 0, 0, 0, 0, 0, 0, 0, 0, 0], dtype=uint8), array([0, 0, 0, 0, 0, 0, 0, 0, 0, 0, 0, 0, 0, 0, 0, 0, 0, 0, 0, 0, 0, 0, 0, 0, 0, 0, 0, 0], dtype=uint8), array([0, 0, 0, 0, 0, 0, 0, 0, 0, 0, 0, 0, 0, 0, 0, 0, 0, 0, 0, 0, 0, 0, 0, 0, 0, 0, 0, 0], dtype=uint8), array([0, 0, 0, 0, 0, 0, 0, 0, 0, 0, 0, 0, 0, 0, 0, 0, 0, 0, 0, 0, 0, 0, 0, 0, 0, 0, 0, 0], dtype=uint8), array([0, 0, 0, 0, 0, 0, 0, 0, 0, 0, 0, 0, 0, 0, 0, 0, 0, 0, 0, 0, 0, 0, 0, 0, 0, 0, 0, 0], dtype=uint8), array([0, 0, 0, 0, 0, 0, 0, 0, 0, 0, 0, 0, 0, 0, 0, 0, 0, 0, 0, 0, 0, 0, 0, 0, 0, 0, 0, 0], dtype=uint8), array([0, 0, 0, 0, 0, 0, 0, 0, 0, 0, 0, 0, 0, 0, 0, 0, 0, 0, 0, 0, 0, 0, 0, 0, 0, 0, 0, 0], dtype=uint8), array([0, 0, 0, 0, 0, 0, 0, 0, 0, 0, 0, 0, 0, 0, 0, 0, 0, 0, 0, 0, 0, 0, 0, 0, 0, 0, 0, 0], dtype=uint8), array([0, 0, 0, 0, 0, 0, 0, 0, 0, 0, 0, 0, 0, 0, 0, 0, 0, 0, 0, 0, 0, 0, 0, 0, 0, 0, 0, 0], dtype=uint8), array([0, 0, 0, 0, 0, 0, 0, 0, 0, 0, 0, 0, 0, 0, 0, 0, 0, 0, 0, 0, 0, 0, 0, 0, 0, 0, 0, 0], dtype=uint8), array([0, 0, 0, 0, 0, 0, 0, 0, 0, 0, 0, 0, 0, 0, 0, 0, 0, 0, 0, 0, 0, 0, 0, 0, 0, 0, 0, 0], dtype=uint8), array([0, 0, 0, 0, 0, 0, 0, 0, 0, 0, 0, 0, 0, 0, 0, 0, 0, 0, 0, 0, 0, 0, 0, 0, 0, 0, 0, 0], dtype=uint8), array([0, 0, 0, 0, 0, 0, 0, 0, 0, 0, 0, 0, 0, 0, 0, 0, 0, 0, 0, 0, 0, 0, 0, 0, 0, 0, 0, 0], dtype=uint8), array([0, 0, 0, 0, 0, 0, 0, 0, 0, 0, 0, 0, 0, 0, 0, 0, 0, 0, 0, 0, 0, 0, 0, 0, 0, 0, 0, 0], dtype=uint8), array([0, 0, 0, 0, 0, 0, 0, 0, 0, 0, 0, 0, 0, 0, 0, 0, 0, 0, 0, 0, 0, 0, 0, 0, 0, 0, 0, 0], dtype=uint8), array([0, 0, 0, 0, 0, 0, 0, 0, 0, 0, 0, 0, 0, 0, 0, 0, 0, 0, 0, 0, 0, 0, 0, 0, 0, 0, 0, 0], dtype=uint8), array([0, 0, 0, 0, 0, 0, 0, 0, 0, 0, 0, 0, 0, 0, 0, 0, 0, 0, 0, 0, 0, 0, 0, 0, 0, 0, 0, 0], dtype=uint8), array([0, 0, 0, 0, 0, 0, 0, 0, 0, 0, 0, 0, 0, 0, 0, 0, 0, 0, 0, 0, 0, 0, 0, 0, 0, 0, 0, 0], dtype=uint8), array([0, 0, 0, 0, 0, 0, 0, 0, 0, 0, 0, 0, 0, 0, 0, 0, 0, 0, 0, 0, 0, 0, 0, 0, 0, 0, 0, 0], dtype=uint8), array([0, 0, 0, 0, 0, 0, 0, 0, 0, 0, 0, 0, 0, 0, 0, 0, 0, 0, 0, 0, 0, 0, 0, 0, 0, 0, 0, 0], dtype=uint8), array([0, 0, 0, 0, 0, 0, 0, 0, 0, 0, 0, 0, 0, 0, 0, 0, 0, 0, 0, 0, 0, 0, 0, 0, 0, 0, 0, 0], dtype=uint8), array([0, 0, 0, 0, 0, 0, 0, 0, 0, 0, 0, 0, 0, 0, 0, 0, 0, 0, 0, 0, 0, 0, 0, 0, 0, 0, 0, 0], dtype=uint8), array([0, 0, 0, 0, 0, 0, 0, 0, 0, 0, 0, 0, 0, 0, 0, 0, 0, 0, 0, 0, 0, 0, 0, 0, 0, 0, 0, 0], dtype=uint8), array([0, 0, 0, 0, 0, 0, 0, 0, 0, 0, 0, 0, 0, 0, 0, 0, 0, 0, 0, 0, 0, 0, 0, 0, 0, 0, 0, 0], dtype=uint8), array([0, 0, 0, 0, 0, 0, 0, 0, 0, 0, 0, 0, 0, 0, 0, 0, 0, 0, 0, 0, 0, 0, 0, 0, 0, 0, 0, 0], dtype=uint8), array([0, 0, 0, 0, 0, 0, 0, 0, 0, 0, 0, 0, 0, 0, 0, 0, 0, 0, 0, 0, 0, 0, 0, 0, 0, 0, 0, 0], dtype=uint8), array([0, 0, 0, 0, 0, 0, 0, 0, 0, 0, 0, 0, 0, 0, 0, 0, 0, 0, 0, 0, 0, 0, 0, 0, 0, 0, 0, 0], dtype=uint8), array([0, 0, 0, 0, 0, 0, 0, 0, 0, 0, 0, 0, 0, 0, 0, 0, 0, 0, 0, 0, 0, 0, 0, 0, 0, 0, 0, 0], dtype=uint8), array([0, 0, 0, 0, 0, 0, 0, 0, 0, 0, 0, 0, 0, 0, 0, 0, 0, 0, 0, 0, 0, 0, 0, 0, 0, 0, 0, 0], dtype=uint8), array([0, 0, 0, 0, 0, 0, 0, 0, 0, 0, 0, 0, 0, 0, 0, 0, 0, 0, 0, 0, 0, 0, 0, 0, 0, 0, 0, 0], dtype=uint8), array([0, 0, 0, 0, 0, 0, 0, 0, 0, 0, 0, 0, 0, 0, 0, 0, 0, 0, 0, 0, 0, 0, 0, 0, 0, 0, 0, 0], dtype=uint8), array([0, 0, 0, 0, 0, 0, 0, 0, 0, 0, 0, 0, 0, 0, 0, 0, 0, 0, 0, 0, 0, 0, 0, 0, 0, 0, 0, 0], dtype=uint8), array([0, 0, 0, 0, 0, 0, 0, 0, 0, 0, 0, 0, 0, 0, 0, 0, 0, 0, 0, 0, 0, 0, 0, 0, 0, 0, 0, 0], dtype=uint8), array([0, 0, 0, 0, 0, 0, 0, 0, 0, 0, 0, 0, 0, 0, 0, 0, 0, 0, 0, 0, 0, 0, 0, 0, 0, 0, 0, 0], dtype=uint8), array([0, 0, 0, 0, 0, 0, 0, 0, 0, 0, 0, 0, 0, 0, 0, 0, 0, 0, 0, 0, 0, 0, 0, 0, 0, 0, 0, 0], dtype=uint8), array([0, 0, 0, 0, 0, 0, 0, 0, 0, 0, 0, 0, 0, 0, 0, 0, 0, 0, 0, 0, 0, 0, 0, 0, 0, 0, 0, 0], dtype=uint8), array([0, 0, 0, 0, 0, 0, 0, 0, 0, 0, 0, 0, 0, 0, 0, 0, 0, 0, 0, 0, 0, 0, 0, 0, 0, 0, 0, 0], dtype=uint8), array([0, 0, 0, 0, 0, 0, 0, 0, 0, 0, 0, 0, 0, 0, 0, 0, 0, 0, 0, 0, 0, 0, 0, 0, 0, 0, 0, 0], dtype=uint8), array([0, 0, 0, 0, 0, 0, 0, 0, 0, 0, 0, 0, 0, 0, 0, 0, 0, 0, 0, 0, 0, 0, 0, 0, 0, 0, 0, 0], dtype=uint8), array([0, 0, 0, 0, 0, 0, 0, 0, 0, 0, 0, 0, 0, 0, 0, 0, 0, 0, 0, 0, 0, 0, 0, 0, 0, 0, 0, 0], dtype=uint8), array([0, 0, 0, 0, 0, 0, 0, 0, 0, 0, 0, 0, 0, 0, 0, 0, 0, 0, 0, 0, 0, 0, 0, 0, 0, 0, 0, 0], dtype=uint8), array([0, 0, 0, 0, 0, 0, 0, 0, 0, 0, 0, 0, 0, 0, 0, 0, 0, 0, 0, 0, 0, 0, 0, 0, 0, 0, 0, 0], dtype=uint8), array([0, 0, 0, 0, 0, 0, 0, 0, 0, 0, 0, 0, 0, 0, 0, 0, 0, 0, 0, 0, 0, 0, 0, 0, 0, 0, 0, 0], dtype=uint8), array([0, 0, 0, 0, 0, 0, 0, 0, 0, 0, 0, 0, 0, 0, 0, 0, 0, 0, 0, 0, 0, 0, 0, 0, 0, 0, 0, 0], dtype=uint8), array([0, 0, 0, 0, 0, 0, 0, 0, 0, 0, 0, 0, 0, 0, 0, 0, 0, 0, 0, 0, 0, 0, 0, 0, 0, 0, 0, 0], dtype=uint8), array([0, 0, 0, 0, 0, 0, 0, 0, 0, 0, 0, 0, 0, 0, 0, 0, 0, 0, 0, 0, 0, 0, 0, 0, 0, 0, 0, 0], dtype=uint8), array([0, 0, 0, 0, 0, 0, 0, 0, 0, 0, 0, 0, 0, 0, 0, 0, 0, 0, 0, 0, 0, 0, 0, 0, 0, 0, 0, 0], dtype=uint8), array([0, 0, 0, 0, 0, 0, 0, 0, 0, 0, 0, 0, 0, 0, 0, 0, 0, 0, 0, 0, 0, 0, 0, 0, 0, 0, 0, 0], dtype=uint8), array([0, 0, 0, 0, 0, 0, 0, 0, 0, 0, 0, 0, 0, 0, 0, 0, 0, 0, 0, 0, 0, 0, 0, 0, 0, 0, 0, 0], dtype=uint8), array([0, 0, 0, 0, 0, 0, 0, 0, 0, 0, 0, 0, 0, 0, 0, 0, 0, 0, 0, 0, 0, 0, 0, 0, 0, 0, 0, 0], dtype=uint8), array([0, 0, 0, 0, 0, 0, 0, 0, 0, 0, 0, 0, 0, 0, 0, 0, 0, 0, 0, 0, 0, 0, 0, 0, 0, 0, 0, 0], dtype=uint8), array([0, 0, 0, 0, 0, 0, 0, 0, 0, 0, 0, 0, 0, 0, 0, 0, 0, 0, 0, 0, 0, 0, 0, 0, 0, 0, 0, 0], dtype=uint8), array([0, 0, 0, 0, 0, 0, 0, 0, 0, 0, 0, 0, 0, 0, 0, 0, 0, 0, 0, 0, 0, 0, 0, 0, 0, 0, 0, 0], dtype=uint8), array([0, 0, 0, 0, 0, 0, 0, 0, 0, 0, 0, 0, 0, 0, 0, 0, 0, 0, 0, 0, 0, 0, 0, 0, 0, 0, 0, 0], dtype=uint8), array([0, 0, 0, 0, 0, 0, 0, 0, 0, 0, 0, 0, 0, 0, 0, 0, 0, 0, 0, 0, 0, 0, 0, 0, 0, 0, 0, 0], dtype=uint8), array([0, 0, 0, 0, 0, 0, 0, 0, 0, 0, 0, 0, 0, 0, 0, 0, 0, 0, 0, 0, 0, 0, 0, 0, 0, 0, 0, 0], dtype=uint8), array([0, 0, 0, 0, 0, 0, 0, 0, 0, 0, 0, 0, 0, 0, 0, 0, 0, 0, 0, 0, 0, 0, 0, 0, 0, 0, 0, 0], dtype=uint8), array([0, 0, 0, 0, 0, 0, 0, 0, 0, 0, 0, 0, 0, 0, 0, 0, 0, 0, 0, 0, 0, 0, 0, 0, 0, 0, 0, 0], dtype=uint8), array([0, 0, 0, 0, 0, 0, 0, 0, 0, 0, 0, 0, 0, 0, 0, 0, 0, 0, 0, 0, 0, 0, 0, 0, 0, 0, 0, 0], dtype=uint8), array([0, 0, 0, 0, 0, 0, 0, 0, 0, 0, 0, 0, 0, 0, 0, 0, 0, 0, 0, 0, 0, 0, 0, 0, 0, 0, 0, 0], dtype=uint8), array([0, 0, 0, 0, 0, 0, 0, 0, 0, 0, 0, 0, 0, 0, 0, 0, 0, 0, 0, 0, 0, 0, 0, 0, 0, 0, 0, 0], dtype=uint8), array([0, 0, 0, 0, 0, 0, 0, 0, 0, 0, 0, 0, 0, 0, 0, 0, 0, 0, 0, 0, 0, 0, 0, 0, 0, 0, 0, 0], dtype=uint8), array([0, 0, 0, 0, 0, 0, 0, 0, 0, 0, 0, 0, 0, 0, 0, 0, 0, 0, 0, 0, 0, 0, 0, 0, 0, 0, 0, 0], dtype=uint8), array([0, 0, 0, 0, 0, 0, 0, 0, 0, 0, 0, 0, 0, 0, 0, 0, 0, 0, 0, 0, 0, 0, 0, 0, 0, 0, 0, 0], dtype=uint8), array([0, 0, 0, 0, 0, 0, 0, 0, 0, 0, 0, 0, 0, 0, 0, 0, 0, 0, 0, 0, 0, 0, 0, 0, 0, 0, 0, 0], dtype=uint8), array([0, 0, 0, 0, 0, 0, 0, 0, 0, 0, 0, 0, 0, 0, 0, 0, 0, 0, 0, 0, 0, 0, 0, 0, 0, 0, 0, 0], dtype=uint8), array([0, 0, 0, 0, 0, 0, 0, 0, 0, 0, 0, 0, 0, 0, 0, 0, 0, 0, 0, 0, 0, 0, 0, 0, 0, 0, 0, 0], dtype=uint8), array([0, 0, 0, 0, 0, 0, 0, 0, 0, 0, 0, 0, 0, 0, 0, 0, 0, 0, 0, 0, 0, 0, 0, 0, 0, 0, 0, 0], dtype=uint8), array([0, 0, 0, 0, 0, 0, 0, 0, 0, 0, 0, 0, 0, 0, 0, 0, 0, 0, 0, 0, 0, 0, 0, 0, 0, 0, 0, 0], dtype=uint8), array([0, 0, 0, 0, 0, 0, 0, 0, 0, 0, 0, 0, 0, 0, 0, 0, 0, 0, 0, 0, 0, 0, 0, 0, 0, 0, 0, 0], dtype=uint8), array([0, 0, 0, 0, 0, 0, 0, 0, 0, 0, 0, 0, 0, 0, 0, 0, 0, 0, 0, 0, 0, 0, 0, 0, 0, 0, 0, 0], dtype=uint8), array([0, 0, 0, 0, 0, 0, 0, 0, 0, 0, 0, 0, 0, 0, 0, 0, 0, 0, 0, 0, 0, 0, 0, 0, 0, 0, 0, 0], dtype=uint8), array([0, 0, 0, 0, 0, 0, 0, 0, 0, 0, 0, 0, 0, 0, 0, 0, 0, 0, 0, 0, 0, 0, 0, 0, 0, 0, 0, 0], dtype=uint8), array([  0,   0,   0,   0,   0,   0,   0,   0,   0,   0,   0,  26, 220, 224,  31,   0,   0,   0,   0,   0,   0,   0,\n",
      "         0,   0,   0,   0,   0,   0], dtype=uint8), array([  0,   0,   0,   0,   0,   0,   0,   0,   0,   0,   0,  26, 220, 224,  31,   0,   0,   0,   0,   0,   0,   0,\n",
      "         0,   0,   0,   0,   0,   0], dtype=uint8), array([  0,   0,   0,   0,   0,   0,   0,   0,   0,   0,   0,  26, 220, 224,  31,   0,   0,   0,   0,   0,   0,   0,\n",
      "         0,   0,   0,   0,   0,   0], dtype=uint8), array([  0,   0,   0,   0,   0,   0,   0,   0,   0,   0,   0,  26, 220, 224,  31,   0,   0,   0,   0,   0,   0,   0,\n",
      "         0,   0,   0,   0,   0,   0], dtype=uint8), array([  0,   0,   0,   0,   0,   0,   0,   0,   0,   0,   0,  26, 220, 224,  31,   0,   0,   0,   0,   0,   0,   0,\n",
      "         0,   0,   0,   0,   0,   0], dtype=uint8), array([  0,   0,   0,   0,   0,   0,   0,   0,   0,   0,   0,  26, 220, 224,  31,   0,   0,   0,   0,   0,   0,   0,\n",
      "         0,   0,   0,   0,   0,   0], dtype=uint8), array([  0,   0,   0,   0,   0,   0,   0,   0,   0,   0,   0,  26, 220, 224,  31,   0,   0,   0,   0,   0,   0,   0,\n",
      "         0,   0,   0,   0,   0,   0], dtype=uint8), array([  0,   0,   0,   0,   0,   0,   0,   0,   0,   0,   0,  26, 220, 224,  31,   0,   0,   0,   0,   0,   0,   0,\n",
      "         0,   0,   0,   0,   0,   0], dtype=uint8), array([  0,   0,   0,   0,   0,   0,   0,   0,   0,   0,   0,  26, 220, 224,  31,   0,   0,   0,   0,   0,   0,   0,\n",
      "         0,   0,   0,   0,   0,   0], dtype=uint8), array([  0,   0,   0,   0,   0,   0,   0,   0,   0,   0,   0,  26, 220, 224,  31,   0,   0,   0,   0,   0,   0,   0,\n",
      "         0,   0,   0,   0,   0,   0], dtype=uint8), array([  0,   0,   0,   0,   0,   0,   0,   0,   0,   0,   0,  26, 220, 224,  31,   0,   0,   0,   0,   0,   0,   0,\n",
      "         0,   0,   0,   0,   0,   0], dtype=uint8), array([  0,   0,   0,   0,   0,   0,   0,   0,   0,   0,   0,  26, 220, 224,  31,   0,   0,   0,   0,   0,   0,   0,\n",
      "         0,   0,   0,   0,   0,   0], dtype=uint8), array([  0,   0,   0,   0,   0,   0,   0,   0,   0,   0,   0,  26, 220, 224,  31,   0,   0,   0,   0,   0,   0,   0,\n",
      "         0,   0,   0,   0,   0,   0], dtype=uint8), array([  0,   0,   0,   0,   0,   0,   0,   0,   0,   0,   0,  26, 220, 224,  31,   0,   0,   0,   0,   0,   0,   0,\n",
      "         0,   0,   0,   0,   0,   0], dtype=uint8), array([  0,   0,   0,   0,   0,   0,   0,   0,   0,   0,   0,  26, 220, 224,  31,   0,   0,   0,   0,   0,   0,   0,\n",
      "         0,   0,   0,   0,   0,   0], dtype=uint8), array([  0,   0,   0,   0,   0,   0,   0,   0,   0,   0,   0,  26, 220, 224,  31,   0,   0,   0,   0,   0,   0,   0,\n",
      "         0,   0,   0,   0,   0,   0], dtype=uint8), array([  0,   0,   0,   0,   0,   0,   0,   0,   0,   0,   0,  26, 220, 224,  31,   0,   0,   0,   0,   0,   0,   0,\n",
      "         0,   0,   0,   0,   0,   0], dtype=uint8), array([  0,   0,   0,   0,   0,   0,   0,   0,   0,   0,   0,  26, 220, 224,  31,   0,   0,   0,   0,   0,   0,   0,\n",
      "         0,   0,   0,   0,   0,   0], dtype=uint8), array([  0,   0,   0,   0,   0,   0,   0,   0,   0,   0,   0,  26, 220, 224,  31,   0,   0,   0,   0,   0,   0,   0,\n",
      "         0,   0,   0,   0,   0,   0], dtype=uint8), array([  0,   0,   0,   0,   0,   0,   0,   0,   0,   0,   0,  26, 220, 224,  31,   0,   0,   0,   0,   0,   0,   0,\n",
      "         0,   0,   0,   0,   0,   0], dtype=uint8), array([  0,   0,   0,   0,   0,   0,   0,   0,   0,   0,   0,  26, 220, 224,  31,   0,   0,   0,   0,   0,   0,   0,\n",
      "         0,   0,   0,   0,   0,   0], dtype=uint8), array([  0,   0,   0,   0,   0,   0,   0,   0,   0,   0,   0,  26, 220, 224,  31,   0,   0,   0,   0,   0,   0,   0,\n",
      "         0,   0,   0,   0,   0,   0], dtype=uint8), array([  0,   0,   0,   0,   0,   0,   0,   0,   0,   0,   0,  26, 220, 224,  31,   0,   0,   0,   0,   0,   0,   0,\n",
      "         0,   0,   0,   0,   0,   0], dtype=uint8), array([  0,   0,   0,   0,   0,   0,   0,   0,   0,   0,   0,  26, 220, 224,  31,   0,   0,   0,   0,   0,   0,   0,\n",
      "         0,   0,   0,   0,   0,   0], dtype=uint8), array([  0,   0,   0,   0,   0,   0,   0,   0,   0,   2,  13, 122, 252, 122,   0,   0,   0,   0,   0,   0,   0,   0,\n",
      "         0,   0,   0,   0,   0,   0], dtype=uint8), array([  0,   0,   0,   0,   0,   0,   0,   0,   0,   2,  13, 122, 252, 122,   0,   0,   0,   0,   0,   0,   0,   0,\n",
      "         0,   0,   0,   0,   0,   0], dtype=uint8), array([  0,   0,   0,   0,   0,   0,   0,   0,   0,   2,  13, 122, 252, 122,   0,   0,   0,   0,   0,   0,   0,   0,\n",
      "         0,   0,   0,   0,   0,   0], dtype=uint8), array([  0,   0,   0,   0,   0,   0,   0,   0,   0,   2,  13, 122, 252, 122,   0,   0,   0,   0,   0,   0,   0,   0,\n",
      "         0,   0,   0,   0,   0,   0], dtype=uint8), array([  0,   0,   0,   0,   0,   0,   0,   0,   0,   2,  13, 122, 252, 122,   0,   0,   0,   0,   0,   0,   0,   0,\n",
      "         0,   0,   0,   0,   0,   0], dtype=uint8), array([  0,   0,   0,   0,   0,   0,   0,   0,   0,   2,  13, 122, 252, 122,   0,   0,   0,   0,   0,   0,   0,   0,\n",
      "         0,   0,   0,   0,   0,   0], dtype=uint8), array([  0,   0,   0,   0,   0,   0,   0,   0,   0,   2,  13, 122, 252, 122,   0,   0,   0,   0,   0,   0,   0,   0,\n",
      "         0,   0,   0,   0,   0,   0], dtype=uint8), array([  0,   0,   0,   0,   0,   0,   0,   0,   0,   2,  13, 122, 252, 122,   0,   0,   0,   0,   0,   0,   0,   0,\n",
      "         0,   0,   0,   0,   0,   0], dtype=uint8), array([  0,   0,   0,   0,   0,   0,   0,   0,   0,   2,  13, 122, 252, 122,   0,   0,   0,   0,   0,   0,   0,   0,\n",
      "         0,   0,   0,   0,   0,   0], dtype=uint8), array([  0,   0,   0,   0,   0,   0,   0,   0,   0,   2,  13, 122, 252, 122,   0,   0,   0,   0,   0,   0,   0,   0,\n",
      "         0,   0,   0,   0,   0,   0], dtype=uint8), array([  0,   0,   0,   0,   0,   0,   0,   0,   0,   2,  13, 122, 252, 122,   0,   0,   0,   0,   0,   0,   0,   0,\n",
      "         0,   0,   0,   0,   0,   0], dtype=uint8), array([  0,   0,   0,   0,   0,   0,   0,   0,   0,   2,  13, 122, 252, 122,   0,   0,   0,   0,   0,   0,   0,   0,\n",
      "         0,   0,   0,   0,   0,   0], dtype=uint8), array([  0,   0,   0,   0,   0,   0,   0,   0,   0,   2,  13, 122, 252, 122,   0,   0,   0,   0,   0,   0,   0,   0,\n",
      "         0,   0,   0,   0,   0,   0], dtype=uint8), array([  0,   0,   0,   0,   0,   0,   0,   0,   0,   2,  13, 122, 252, 122,   0,   0,   0,   0,   0,   0,   0,   0,\n",
      "         0,   0,   0,   0,   0,   0], dtype=uint8), array([  0,   0,   0,   0,   0,   0,   0,   0,   0,   2,  13, 122, 252, 122,   0,   0,   0,   0,   0,   0,   0,   0,\n",
      "         0,   0,   0,   0,   0,   0], dtype=uint8), array([  0,   0,   0,   0,   0,   0,   0,   0,   0,   2,  13, 122, 252, 122,   0,   0,   0,   0,   0,   0,   0,   0,\n",
      "         0,   0,   0,   0,   0,   0], dtype=uint8), array([  0,   0,   0,   0,   0,   0,   0,   0,   0,   2,  13, 122, 252, 122,   0,   0,   0,   0,   0,   0,   0,   0,\n",
      "         0,   0,   0,   0,   0,   0], dtype=uint8), array([  0,   0,   0,   0,   0,   0,   0,   0,   0,   2,  13, 122, 252, 122,   0,   0,   0,   0,   0,   0,   0,   0,\n",
      "         0,   0,   0,   0,   0,   0], dtype=uint8), array([  0,   0,   0,   0,   0,   0,   0,   0,   0,   2,  13, 122, 252, 122,   0,   0,   0,   0,   0,   0,   0,   0,\n",
      "         0,   0,   0,   0,   0,   0], dtype=uint8), array([  0,   0,   0,   0,   0,   0,   0,   0,   0,   2,  13, 122, 252, 122,   0,   0,   0,   0,   0,   0,   0,   0,\n",
      "         0,   0,   0,   0,   0,   0], dtype=uint8), array([  0,   0,   0,   0,   0,   0,   0,   0,   0,   2,  13, 122, 252, 122,   0,   0,   0,   0,   0,   0,   0,   0,\n",
      "         0,   0,   0,   0,   0,   0], dtype=uint8), array([  0,   0,   0,   0,   0,   0,   0,   0,   0,   2,  13, 122, 252, 122,   0,   0,   0,   0,   0,   0,   0,   0,\n",
      "         0,   0,   0,   0,   0,   0], dtype=uint8), array([  0,   0,   0,   0,   0,   0,   0,   0,   0,   2,  13, 122, 252, 122,   0,   0,   0,   0,   0,   0,   0,   0,\n",
      "         0,   0,   0,   0,   0,   0], dtype=uint8), array([  0,   0,   0,   0,   0,   0,   0,   0,   0,  47, 254, 254, 189,   0,   0,   0,   0,   0,   0,   0,   0,   0,\n",
      "         0,   0,   0,   0,   0,   0], dtype=uint8), array([  0,   0,   0,   0,   0,   0,   0,   0,   0,  47, 254, 254, 189,   0,   0,   0,   0,   0,   0,   0,   0,   0,\n",
      "         0,   0,   0,   0,   0,   0], dtype=uint8), array([  0,   0,   0,   0,   0,   0,   0,   0,   0,  47, 254, 254, 189,   0,   0,   0,   0,   0,   0,   0,   0,   0,\n",
      "         0,   0,   0,   0,   0,   0], dtype=uint8), array([  0,   0,   0,   0,   0,   0,   0,   0,   0,  47, 254, 254, 189,   0,   0,   0,   0,   0,   0,   0,   0,   0,\n",
      "         0,   0,   0,   0,   0,   0], dtype=uint8), array([  0,   0,   0,   0,   0,   0,   0,   0,   0,  47, 254, 254, 189,   0,   0,   0,   0,   0,   0,   0,   0,   0,\n",
      "         0,   0,   0,   0,   0,   0], dtype=uint8), array([  0,   0,   0,   0,   0,   0,   0,   0,   0,  47, 254, 254, 189,   0,   0,   0,   0,   0,   0,   0,   0,   0,\n",
      "         0,   0,   0,   0,   0,   0], dtype=uint8), array([  0,   0,   0,   0,   0,   0,   0,   0,   0,  47, 254, 254, 189,   0,   0,   0,   0,   0,   0,   0,   0,   0,\n",
      "         0,   0,   0,   0,   0,   0], dtype=uint8), array([  0,   0,   0,   0,   0,   0,   0,   0,   0,  47, 254, 254, 189,   0,   0,   0,   0,   0,   0,   0,   0,   0,\n",
      "         0,   0,   0,   0,   0,   0], dtype=uint8), array([  0,   0,   0,   0,   0,   0,   0,   0,   0,  47, 254, 254, 189,   0,   0,   0,   0,   0,   0,   0,   0,   0,\n",
      "         0,   0,   0,   0,   0,   0], dtype=uint8), array([  0,   0,   0,   0,   0,   0,   0,   0,   0,  47, 254, 254, 189,   0,   0,   0,   0,   0,   0,   0,   0,   0,\n",
      "         0,   0,   0,   0,   0,   0], dtype=uint8), array([  0,   0,   0,   0,   0,   0,   0,   0,   0,  47, 254, 254, 189,   0,   0,   0,   0,   0,   0,   0,   0,   0,\n",
      "         0,   0,   0,   0,   0,   0], dtype=uint8), array([  0,   0,   0,   0,   0,   0,   0,   0,   0,  47, 254, 254, 189,   0,   0,   0,   0,   0,   0,   0,   0,   0,\n",
      "         0,   0,   0,   0,   0,   0], dtype=uint8), array([  0,   0,   0,   0,   0,   0,   0,   0,   0,  47, 254, 254, 189,   0,   0,   0,   0,   0,   0,   0,   0,   0,\n",
      "         0,   0,   0,   0,   0,   0], dtype=uint8), array([  0,   0,   0,   0,   0,   0,   0,   0,   0,  47, 254, 254, 189,   0,   0,   0,   0,   0,   0,   0,   0,   0,\n",
      "         0,   0,   0,   0,   0,   0], dtype=uint8), array([  0,   0,   0,   0,   0,   0,   0,   0,   0,  47, 254, 254, 189,   0,   0,   0,   0,   0,   0,   0,   0,   0,\n",
      "         0,   0,   0,   0,   0,   0], dtype=uint8), array([  0,   0,   0,   0,   0,   0,   0,   0,   0,  47, 254, 254, 189,   0,   0,   0,   0,   0,   0,   0,   0,   0,\n",
      "         0,   0,   0,   0,   0,   0], dtype=uint8), array([  0,   0,   0,   0,   0,   0,   0,   0,   0,  47, 254, 254, 189,   0,   0,   0,   0,   0,   0,   0,   0,   0,\n",
      "         0,   0,   0,   0,   0,   0], dtype=uint8), array([  0,   0,   0,   0,   0,   0,   0,   0,   0,  47, 254, 254, 189,   0,   0,   0,   0,   0,   0,   0,   0,   0,\n",
      "         0,   0,   0,   0,   0,   0], dtype=uint8), array([  0,   0,   0,   0,   0,   0,   0,   0,   0,  47, 254, 254, 189,   0,   0,   0,   0,   0,   0,   0,   0,   0,\n",
      "         0,   0,   0,   0,   0,   0], dtype=uint8), array([  0,   0,   0,   0,   0,   0,   0,   0,   0,  47, 254, 254, 189,   0,   0,   0,   0,   0,   0,   0,   0,   0,\n",
      "         0,   0,   0,   0,   0,   0], dtype=uint8), array([  0,   0,   0,   0,   0,   0,   0,   0,   0,  47, 254, 254, 189,   0,   0,   0,   0,   0,   0,   0,   0,   0,\n",
      "         0,   0,   0,   0,   0,   0], dtype=uint8), array([  0,   0,   0,   0,   0,   0,   0,   0,   0,  47, 254, 254, 189,   0,   0,   0,   0,   0,   0,   0,   0,   0,\n",
      "         0,   0,   0,   0,   0,   0], dtype=uint8), array([  0,   0,   0,   0,   0,   0,   0,   0,   0,  47, 254, 254, 189,   0,   0,   0,   0,   0,   0,   0,   0,   0,\n",
      "         0,   0,   0,   0,   0,   0], dtype=uint8), array([  0,   0,   0,   0,   0,   0,   0,   0,   0,  47, 254, 254, 189,   0,   0,   0,   0,   0,   0,   0,   0,   0,\n",
      "         0,   0,   0,   0,   0,   0], dtype=uint8), array([  0,   0,   0,   0,   0,   0,   0,   0,  92, 216, 254, 213,  31,   0,   0,   0,   0,   0,  56, 149,  98,   2,\n",
      "         0,   0,   0,   0,   0,   0], dtype=uint8), array([  0,   0,   0,   0,   0,   0,   0,   0,  92, 216, 254, 213,  31,   0,   0,   0,   0,   0,  56, 149,  98,   2,\n",
      "         0,   0,   0,   0,   0,   0], dtype=uint8), array([  0,   0,   0,   0,   0,   0,   0,   0,  92, 216, 254, 213,  31,   0,   0,   0,   0,   0,  56, 149,  98,   2,\n",
      "         0,   0,   0,   0,   0,   0], dtype=uint8), array([  0,   0,   0,   0,   0,   0,   0,   0,  92, 216, 254, 213,  31,   0,   0,   0,   0,   0,  56, 149,  98,   2,\n",
      "         0,   0,   0,   0,   0,   0], dtype=uint8), array([  0,   0,   0,   0,   0,   0,   0,   0,  92, 216, 254, 213,  31,   0,   0,   0,   0,   0,  56, 149,  98,   2,\n",
      "         0,   0,   0,   0,   0,   0], dtype=uint8), array([  0,   0,   0,   0,   0,   0,   0,   0,  92, 216, 254, 213,  31,   0,   0,   0,   0,   0,  56, 149,  98,   2,\n",
      "         0,   0,   0,   0,   0,   0], dtype=uint8), array([  0,   0,   0,   0,   0,   0,   0,   0,  92, 216, 254, 213,  31,   0,   0,   0,   0,   0,  56, 149,  98,   2,\n",
      "         0,   0,   0,   0,   0,   0], dtype=uint8), array([  0,   0,   0,   0,   0,   0,   0,   0,  92, 216, 254, 213,  31,   0,   0,   0,   0,   0,  56, 149,  98,   2,\n",
      "         0,   0,   0,   0,   0,   0], dtype=uint8), array([  0,   0,   0,   0,   0,   0,   0,   0,  92, 216, 254, 213,  31,   0,   0,   0,   0,   0,  56, 149,  98,   2,\n",
      "         0,   0,   0,   0,   0,   0], dtype=uint8), array([  0,   0,   0,   0,   0,   0,   0,   0,  92, 216, 254, 213,  31,   0,   0,   0,   0,   0,  56, 149,  98,   2,\n",
      "         0,   0,   0,   0,   0,   0], dtype=uint8), array([  0,   0,   0,   0,   0,   0,   0,   0,  92, 216, 254, 213,  31,   0,   0,   0,   0,   0,  56, 149,  98,   2,\n",
      "         0,   0,   0,   0,   0,   0], dtype=uint8), array([  0,   0,   0,   0,   0,   0,   0,   0,  92, 216, 254, 213,  31,   0,   0,   0,   0,   0,  56, 149,  98,   2,\n",
      "         0,   0,   0,   0,   0,   0], dtype=uint8), array([  0,   0,   0,   0,   0,   0,   0,   0,  92, 216, 254, 213,  31,   0,   0,   0,   0,   0,  56, 149,  98,   2,\n",
      "         0,   0,   0,   0,   0,   0], dtype=uint8), array([  0,   0,   0,   0,   0,   0,   0,   0,  92, 216, 254, 213,  31,   0,   0,   0,   0,   0,  56, 149,  98,   2,\n",
      "         0,   0,   0,   0,   0,   0], dtype=uint8), array([  0,   0,   0,   0,   0,   0,   0,   0,  92, 216, 254, 213,  31,   0,   0,   0,   0,   0,  56, 149,  98,   2,\n",
      "         0,   0,   0,   0,   0,   0], dtype=uint8), array([  0,   0,   0,   0,   0,   0,   0,   0,  92, 216, 254, 213,  31,   0,   0,   0,   0,   0,  56, 149,  98,   2,\n",
      "         0,   0,   0,   0,   0,   0], dtype=uint8), array([  0,   0,   0,   0,   0,   0,   0,   0,  92, 216, 254, 213,  31,   0,   0,   0,   0,   0,  56, 149,  98,   2,\n",
      "         0,   0,   0,   0,   0,   0], dtype=uint8), array([  0,   0,   0,   0,   0,   0,   0,   0,  92, 216, 254, 213,  31,   0,   0,   0,   0,   0,  56, 149,  98,   2,\n",
      "         0,   0,   0,   0,   0,   0], dtype=uint8), array([  0,   0,   0,   0,   0,   0,   0,   0,  92, 216, 254, 213,  31,   0,   0,   0,   0,   0,  56, 149,  98,   2,\n",
      "         0,   0,   0,   0,   0,   0], dtype=uint8), array([  0,   0,   0,   0,   0,   0,   0,   4, 168, 254, 228,  31,   0,   0,   0,   0,   0,   0,  94, 254, 255,  18,\n",
      "         0,   0,   0,   0,   0,   0], dtype=uint8), array([  0,   0,   0,   0,   0,   0,   0,   4, 168, 254, 228,  31,   0,   0,   0,   0,   0,   0,  94, 254, 255,  18,\n",
      "         0,   0,   0,   0,   0,   0], dtype=uint8), array([  0,   0,   0,   0,   0,   0,   0,   4, 168, 254, 228,  31,   0,   0,   0,   0,   0,   0,  94, 254, 255,  18,\n",
      "         0,   0,   0,   0,   0,   0], dtype=uint8), array([  0,   0,   0,   0,   0,   0,   0,   4, 168, 254, 228,  31,   0,   0,   0,   0,   0,   0,  94, 254, 255,  18,\n",
      "         0,   0,   0,   0,   0,   0], dtype=uint8), array([  0,   0,   0,   0,   0,   0,   0,   4, 168, 254, 228,  31,   0,   0,   0,   0,   0,   0,  94, 254, 255,  18,\n",
      "         0,   0,   0,   0,   0,   0], dtype=uint8), array([  0,   0,   0,   0,   0,   0,   0,   4, 168, 254, 228,  31,   0,   0,   0,   0,   0,   0,  94, 254, 255,  18,\n",
      "         0,   0,   0,   0,   0,   0], dtype=uint8), array([  0,   0,   0,   0,   0,   0,   0,   4, 168, 254, 228,  31,   0,   0,   0,   0,   0,   0,  94, 254, 255,  18,\n",
      "         0,   0,   0,   0,   0,   0], dtype=uint8), array([  0,   0,   0,   0,   0,   0,   0,   4, 168, 254, 228,  31,   0,   0,   0,   0,   0,   0,  94, 254, 255,  18,\n",
      "         0,   0,   0,   0,   0,   0], dtype=uint8), array([  0,   0,   0,   0,   0,   0,   0,   4, 168, 254, 228,  31,   0,   0,   0,   0,   0,   0,  94, 254, 255,  18,\n",
      "         0,   0,   0,   0,   0,   0], dtype=uint8), array([  0,   0,   0,   0,   0,   0,   0,   4, 168, 254, 228,  31,   0,   0,   0,   0,   0,   0,  94, 254, 255,  18,\n",
      "         0,   0,   0,   0,   0,   0], dtype=uint8), array([  0,   0,   0,   0,   0,   0,   0,   4, 168, 254, 228,  31,   0,   0,   0,   0,   0,   0,  94, 254, 255,  18,\n",
      "         0,   0,   0,   0,   0,   0], dtype=uint8), array([  0,   0,   0,   0,   0,   0,   0,   4, 168, 254, 228,  31,   0,   0,   0,   0,   0,   0,  94, 254, 255,  18,\n",
      "         0,   0,   0,   0,   0,   0], dtype=uint8), array([  0,   0,   0,   0,   0,   0,   0,   4, 168, 254, 228,  31,   0,   0,   0,   0,   0,   0,  94, 254, 255,  18,\n",
      "         0,   0,   0,   0,   0,   0], dtype=uint8), array([  0,   0,   0,   0,   0,   0,   0,   4, 168, 254, 228,  31,   0,   0,   0,   0,   0,   0,  94, 254, 255,  18,\n",
      "         0,   0,   0,   0,   0,   0], dtype=uint8), array([  0,   0,   0,   0,   0,   0,   0,   4, 168, 254, 228,  31,   0,   0,   0,   0,   0,   0,  94, 254, 255,  18,\n",
      "         0,   0,   0,   0,   0,   0], dtype=uint8), array([  0,   0,   0,   0,   0,   0,   0,   4, 168, 254, 228,  31,   0,   0,   0,   0,   0,   0,  94, 254, 255,  18,\n",
      "         0,   0,   0,   0,   0,   0], dtype=uint8), array([  0,   0,   0,   0,   0,   0,   0,   4, 168, 254, 228,  31,   0,   0,   0,   0,   0,   0,  94, 254, 255,  18,\n",
      "         0,   0,   0,   0,   0,   0], dtype=uint8), array([  0,   0,   0,   0,   0,   0,   0,   4, 168, 254, 228,  31,   0,   0,   0,   0,   0,   0,  94, 254, 255,  18,\n",
      "         0,   0,   0,   0,   0,   0], dtype=uint8), array([  0,   0,   0,   0,   0,   0,   0,   4, 168, 254, 228,  31,   0,   0,   0,   0,   0,   0,  94, 254, 255,  18,\n",
      "         0,   0,   0,   0,   0,   0], dtype=uint8), array([  0,   0,   0,   0,   0,   0,   3, 121, 254, 249, 119,   0,   0,   0,   0,   0,   0,   0,  94, 254, 254,  18,\n",
      "         0,   0,   0,   0,   0,   0], dtype=uint8), array([  0,   0,   0,   0,   0,   0,   3, 121, 254, 249, 119,   0,   0,   0,   0,   0,   0,   0,  94, 254, 254,  18,\n",
      "         0,   0,   0,   0,   0,   0], dtype=uint8), array([  0,   0,   0,   0,   0,   0,   3, 121, 254, 249, 119,   0,   0,   0,   0,   0,   0,   0,  94, 254, 254,  18,\n",
      "         0,   0,   0,   0,   0,   0], dtype=uint8), array([  0,   0,   0,   0,   0,   0,   3, 121, 254, 249, 119,   0,   0,   0,   0,   0,   0,   0,  94, 254, 254,  18,\n",
      "         0,   0,   0,   0,   0,   0], dtype=uint8), array([  0,   0,   0,   0,   0,   0,   3, 121, 254, 249, 119,   0,   0,   0,   0,   0,   0,   0,  94, 254, 254,  18,\n",
      "         0,   0,   0,   0,   0,   0], dtype=uint8), array([  0,   0,   0,   0,   0,   0,   3, 121, 254, 249, 119,   0,   0,   0,   0,   0,   0,   0,  94, 254, 254,  18,\n",
      "         0,   0,   0,   0,   0,   0], dtype=uint8), array([  0,   0,   0,   0,   0,   0,   3, 121, 254, 249, 119,   0,   0,   0,   0,   0,   0,   0,  94, 254, 254,  18,\n",
      "         0,   0,   0,   0,   0,   0], dtype=uint8), array([  0,   0,   0,   0,   0,   0,   3, 121, 254, 249, 119,   0,   0,   0,   0,   0,   0,   0,  94, 254, 254,  18,\n",
      "         0,   0,   0,   0,   0,   0], dtype=uint8), array([  0,   0,   0,   0,   0,   0,   3, 121, 254, 249, 119,   0,   0,   0,   0,   0,   0,   0,  94, 254, 254,  18,\n",
      "         0,   0,   0,   0,   0,   0], dtype=uint8), array([  0,   0,   0,   0,   0,   0,   3, 121, 254, 249, 119,   0,   0,   0,   0,   0,   0,   0,  94, 254, 254,  18,\n",
      "         0,   0,   0,   0,   0,   0], dtype=uint8), array([  0,   0,   0,   0,   0,   0,   3, 121, 254, 249, 119,   0,   0,   0,   0,   0,   0,   0,  94, 254, 254,  18,\n",
      "         0,   0,   0,   0,   0,   0], dtype=uint8), array([  0,   0,   0,   0,   0,   0,   3, 121, 254, 249, 119,   0,   0,   0,   0,   0,   0,   0,  94, 254, 254,  18,\n",
      "         0,   0,   0,   0,   0,   0], dtype=uint8), array([  0,   0,   0,   0,   0,   0,   3, 121, 254, 249, 119,   0,   0,   0,   0,   0,   0,   0,  94, 254, 254,  18,\n",
      "         0,   0,   0,   0,   0,   0], dtype=uint8), array([  0,   0,   0,   0,   0,   0,   3, 121, 254, 249, 119,   0,   0,   0,   0,   0,   0,   0,  94, 254, 254,  18,\n",
      "         0,   0,   0,   0,   0,   0], dtype=uint8), array([  0,   0,   0,   0,   0,   0,   3, 121, 254, 249, 119,   0,   0,   0,   0,   0,   0,   0,  94, 254, 254,  18,\n",
      "         0,   0,   0,   0,   0,   0], dtype=uint8), array([  0,   0,   0,   0,   0,   0,   3, 121, 254, 249, 119,   0,   0,   0,   0,   0,   0,   0,  94, 254, 254,  18,\n",
      "         0,   0,   0,   0,   0,   0], dtype=uint8), array([  0,   0,   0,   0,   0,   0,   3, 121, 254, 249, 119,   0,   0,   0,   0,   0,   0,   0,  94, 254, 254,  18,\n",
      "         0,   0,   0,   0,   0,   0], dtype=uint8), array([  0,   0,   0,   0,   0,   0,   3, 121, 254, 249, 119,   0,   0,   0,   0,   0,   0,   0,  94, 254, 254,  18,\n",
      "         0,   0,   0,   0,   0,   0], dtype=uint8), array([  0,   0,   0,   0,   0,   0,   3, 121, 254, 249, 119,   0,   0,   0,   0,   0,   0,   0,  94, 254, 254,  18,\n",
      "         0,   0,   0,   0,   0,   0], dtype=uint8), array([  0,   0,   0,   0,   0,   0,  19, 254, 254, 217,   0,   0,   0,   0,   0,   0,   0,   0,  94, 254, 254,  18,\n",
      "         0,   0,   0,   0,   0,   0], dtype=uint8), array([  0,   0,   0,   0,   0,   0,  19, 254, 254, 217,   0,   0,   0,   0,   0,   0,   0,   0,  94, 254, 254,  18,\n",
      "         0,   0,   0,   0,   0,   0], dtype=uint8), array([  0,   0,   0,   0,   0,   0,  19, 254, 254, 217,   0,   0,   0,   0,   0,   0,   0,   0,  94, 254, 254,  18,\n",
      "         0,   0,   0,   0,   0,   0], dtype=uint8), array([  0,   0,   0,   0,   0,   0,  19, 254, 254, 217,   0,   0,   0,   0,   0,   0,   0,   0,  94, 254, 254,  18,\n",
      "         0,   0,   0,   0,   0,   0], dtype=uint8), array([  0,   0,   0,   0,   0,   0,  19, 254, 254, 217,   0,   0,   0,   0,   0,   0,   0,   0,  94, 254, 254,  18,\n",
      "         0,   0,   0,   0,   0,   0], dtype=uint8), array([  0,   0,   0,   0,   0,   0,  19, 254, 254, 217,   0,   0,   0,   0,   0,   0,   0,   0,  94, 254, 254,  18,\n",
      "         0,   0,   0,   0,   0,   0], dtype=uint8), array([  0,   0,   0,   0,   0,   0,  19, 254, 254, 217,   0,   0,   0,   0,   0,   0,   0,   0,  94, 254, 254,  18,\n",
      "         0,   0,   0,   0,   0,   0], dtype=uint8), array([  0,   0,   0,   0,   0,   0,  19, 254, 254, 217,   0,   0,   0,   0,   0,   0,   0,   0,  94, 254, 254,  18,\n",
      "         0,   0,   0,   0,   0,   0], dtype=uint8), array([  0,   0,   0,   0,   0,   0,  19, 254, 254, 217,   0,   0,   0,   0,   0,   0,   0,   0,  94, 254, 254,  18,\n",
      "         0,   0,   0,   0,   0,   0], dtype=uint8), array([  0,   0,   0,   0,   0,   0,  19, 254, 254, 217,   0,   0,   0,   0,   0,   0,   0,   0,  94, 254, 254,  18,\n",
      "         0,   0,   0,   0,   0,   0], dtype=uint8), array([  0,   0,   0,   0,   0,   0,  19, 254, 254, 217,   0,   0,   0,   0,   0,   0,   0,   0,  94, 254, 254,  18,\n",
      "         0,   0,   0,   0,   0,   0], dtype=uint8), array([  0,   0,   0,   0,   0,   0,  19, 254, 254, 217,   0,   0,   0,   0,   0,   0,   0,   0,  94, 254, 254,  18,\n",
      "         0,   0,   0,   0,   0,   0], dtype=uint8), array([  0,   0,   0,   0,   0,   0,  19, 254, 254, 217,   0,   0,   0,   0,   0,   0,   0,   0,  94, 254, 254,  18,\n",
      "         0,   0,   0,   0,   0,   0], dtype=uint8), array([  0,   0,   0,   0,   0,   0,  19, 254, 254, 217,   0,   0,   0,   0,   0,   0,   0,   0,  94, 254, 254,  18,\n",
      "         0,   0,   0,   0,   0,   0], dtype=uint8), array([  0,   0,   0,   0,   0,   0,  19, 254, 254, 217,   0,   0,   0,   0,   0,   0,   0,   0,  94, 254, 254,  18,\n",
      "         0,   0,   0,   0,   0,   0], dtype=uint8), array([  0,   0,   0,   0,   0,   0,  19, 254, 254, 217,   0,   0,   0,   0,   0,   0,   0,   0,  94, 254, 254,  18,\n",
      "         0,   0,   0,   0,   0,   0], dtype=uint8), array([  0,   0,   0,   0,   0,   0,  19, 254, 254, 217,   0,   0,   0,   0,   0,   0,   0,   0,  94, 254, 254,  18,\n",
      "         0,   0,   0,   0,   0,   0], dtype=uint8), array([  0,   0,   0,   0,   0,   0,  19, 254, 254, 217,   0,   0,   0,   0,   0,   0,   0,   0,  94, 254, 254,  18,\n",
      "         0,   0,   0,   0,   0,   0], dtype=uint8), array([  0,   0,   0,   0,   0,   0,  19, 254, 254, 217,   0,   0,   0,   0,   0,   0,   0,   0,  94, 254, 254,  18,\n",
      "         0,   0,   0,   0,   0,   0], dtype=uint8), array([  0,   0,   0,   0,   0,   0,  19, 254, 254, 217,   0,   0,   0,   0,   0,   0,   0,   0,  94, 254, 254,  18,\n",
      "         0,   0,   0,   0,   0,   0], dtype=uint8), array([  0,   0,   0,   0,   0,   0,  19, 254, 254, 217,   0,   0,   0,   0,   0,   0,   0,   0, 179, 254, 255,  18,\n",
      "         0,   0,   0,   0,   0,   0], dtype=uint8), array([  0,   0,   0,   0,   0,   0,  19, 254, 254, 217,   0,   0,   0,   0,   0,   0,   0,   0, 179, 254, 255,  18,\n",
      "         0,   0,   0,   0,   0,   0], dtype=uint8), array([  0,   0,   0,   0,   0,   0,  19, 254, 254, 217,   0,   0,   0,   0,   0,   0,   0,   0, 179, 254, 255,  18,\n",
      "         0,   0,   0,   0,   0,   0], dtype=uint8), array([  0,   0,   0,   0,   0,   0,  19, 254, 254, 217,   0,   0,   0,   0,   0,   0,   0,   0, 179, 254, 255,  18,\n",
      "         0,   0,   0,   0,   0,   0], dtype=uint8), array([  0,   0,   0,   0,   0,   0,  19, 254, 254, 217,   0,   0,   0,   0,   0,   0,   0,   0, 179, 254, 255,  18,\n",
      "         0,   0,   0,   0,   0,   0], dtype=uint8), array([  0,   0,   0,   0,   0,   0,  19, 254, 254, 217,   0,   0,   0,   0,   0,   0,   0,   0, 179, 254, 255,  18,\n",
      "         0,   0,   0,   0,   0,   0], dtype=uint8), array([  0,   0,   0,   0,   0,   0,  19, 254, 254, 217,   0,   0,   0,   0,   0,   0,   0,   0, 179, 254, 255,  18,\n",
      "         0,   0,   0,   0,   0,   0], dtype=uint8), array([  0,   0,   0,   0,   0,   0,  19, 254, 254, 217,   0,   0,   0,   0,   0,   0,   0,   0, 179, 254, 255,  18,\n",
      "         0,   0,   0,   0,   0,   0], dtype=uint8), array([  0,   0,   0,   0,   0,   0,  19, 254, 254, 217,   0,   0,   0,   0,   0,   0,   0,   0, 179, 254, 255,  18,\n",
      "         0,   0,   0,   0,   0,   0], dtype=uint8), array([  0,   0,   0,   0,   0,   0,  19, 254, 254, 217,   0,   0,   0,   0,   0,   0,   0,   0, 179, 254, 255,  18,\n",
      "         0,   0,   0,   0,   0,   0], dtype=uint8), array([  0,   0,   0,   0,   0,   0,  19, 254, 254, 217,   0,   0,   0,   0,   0,   0,   0,   0, 179, 254, 255,  18,\n",
      "         0,   0,   0,   0,   0,   0], dtype=uint8), array([  0,   0,   0,   0,   0,   0,  19, 254, 254, 217,   0,   0,   0,   0,   0,   0,   0,   0, 179, 254, 255,  18,\n",
      "         0,   0,   0,   0,   0,   0], dtype=uint8), array([  0,   0,   0,   0,   0,   0,  19, 254, 254, 217,   0,   0,   0,   0,   0,   0,   0,   0, 179, 254, 255,  18,\n",
      "         0,   0,   0,   0,   0,   0], dtype=uint8), array([  0,   0,   0,   0,   0,   0,  19, 254, 254, 217,   0,   0,   0,   0,   0,   0,   0,   0, 179, 254, 255,  18,\n",
      "         0,   0,   0,   0,   0,   0], dtype=uint8), array([  0,   0,   0,   0,   0,   0,  19, 254, 254, 217,   0,   0,   0,   0,   0,   0,   0,   0, 179, 254, 255,  18,\n",
      "         0,   0,   0,   0,   0,   0], dtype=uint8), array([  0,   0,   0,   0,   0,   0,  19, 254, 254, 217,   0,   0,   0,   0,   0,   0,   0,   0, 179, 254, 255,  18,\n",
      "         0,   0,   0,   0,   0,   0], dtype=uint8), array([  0,   0,   0,   0,   0,   0,  19, 254, 254, 217,   0,   0,   0,   0,   0,   0,   0,   0, 179, 254, 255,  18,\n",
      "         0,   0,   0,   0,   0,   0], dtype=uint8), array([  0,   0,   0,   0,   0,   0,  19, 254, 254, 217,   0,   0,   0,   0,   0,   0,   0,   0, 179, 254, 255,  18,\n",
      "         0,   0,   0,   0,   0,   0], dtype=uint8), array([  0,   0,   0,   0,   0,   0,  19, 254, 254, 217,   0,   0,   0,   0,   0,   0,   0,   0, 179, 254, 255,  18,\n",
      "         0,   0,   0,   0,   0,   0], dtype=uint8), array([  0,   0,   0,   0,   0,   0,  19, 254, 254, 217,   0,   0,   0,   0,   0,   0,   0,   0, 179, 254, 255,  18,\n",
      "         0,   0,   0,   0,   0,   0], dtype=uint8), array([  0,   0,   0,   0,   0,   0,  19, 254, 254, 217,   0,   0,   0,   0,   0,   0,   0,   0, 218, 254, 254,  18,\n",
      "         0,   0,   0,   0,   0,   0], dtype=uint8), array([  0,   0,   0,   0,   0,   0,  19, 254, 254, 217,   0,   0,   0,   0,   0,   0,   0,   0, 218, 254, 254,  18,\n",
      "         0,   0,   0,   0,   0,   0], dtype=uint8), array([  0,   0,   0,   0,   0,   0,  19, 254, 254, 217,   0,   0,   0,   0,   0,   0,   0,   0, 218, 254, 254,  18,\n",
      "         0,   0,   0,   0,   0,   0], dtype=uint8), array([  0,   0,   0,   0,   0,   0,  19, 254, 254, 217,   0,   0,   0,   0,   0,   0,   0,   0, 218, 254, 254,  18,\n",
      "         0,   0,   0,   0,   0,   0], dtype=uint8), array([  0,   0,   0,   0,   0,   0,  19, 254, 254, 217,   0,   0,   0,   0,   0,   0,   0,   0, 218, 254, 254,  18,\n",
      "         0,   0,   0,   0,   0,   0], dtype=uint8), array([  0,   0,   0,   0,   0,   0,  19, 254, 254, 217,   0,   0,   0,   0,   0,   0,   0,   0, 218, 254, 254,  18,\n",
      "         0,   0,   0,   0,   0,   0], dtype=uint8), array([  0,   0,   0,   0,   0,   0,  19, 254, 254, 217,   0,   0,   0,   0,   0,   0,   0,   0, 218, 254, 254,  18,\n",
      "         0,   0,   0,   0,   0,   0], dtype=uint8), array([  0,   0,   0,   0,   0,   0,  19, 254, 254, 217,   0,   0,   0,   0,   0,   0,   0,   0, 218, 254, 254,  18,\n",
      "         0,   0,   0,   0,   0,   0], dtype=uint8), array([  0,   0,   0,   0,   0,   0,  19, 254, 254, 217,   0,   0,   0,   0,   0,   0,   0,   0, 218, 254, 254,  18,\n",
      "         0,   0,   0,   0,   0,   0], dtype=uint8), array([  0,   0,   0,   0,   0,   0,  19, 254, 254, 217,   0,   0,   0,   0,   0,   0,   0,   0, 218, 254, 254,  18,\n",
      "         0,   0,   0,   0,   0,   0], dtype=uint8), array([  0,   0,   0,   0,   0,   0,  19, 254, 254, 217,   0,   0,   0,   0,   0,   0,   0,   0, 218, 254, 254,  18,\n",
      "         0,   0,   0,   0,   0,   0], dtype=uint8), array([  0,   0,   0,   0,   0,   0,  19, 254, 254, 217,   0,   0,   0,   0,   0,   0,   0,   0, 218, 254, 254,  18,\n",
      "         0,   0,   0,   0,   0,   0], dtype=uint8), array([  0,   0,   0,   0,   0,   0,  19, 254, 254, 217,   0,   0,   0,   0,   0,   0,   0,   0, 218, 254, 254,  18,\n",
      "         0,   0,   0,   0,   0,   0], dtype=uint8), array([  0,   0,   0,   0,   0,   0,  19, 254, 254, 217,   0,   0,   0,   0,   0,   0,   0,   0, 218, 254, 254,  18,\n",
      "         0,   0,   0,   0,   0,   0], dtype=uint8), array([  0,   0,   0,   0,   0,   0,  19, 254, 254, 217,   0,   0,   0,   0,   0,   0,   0,   0, 218, 254, 254,  18,\n",
      "         0,   0,   0,   0,   0,   0], dtype=uint8), array([  0,   0,   0,   0,   0,   0,  19, 254, 254, 217,   0,   0,   0,   0,   0,   0,   0,   0, 218, 254, 254,  18,\n",
      "         0,   0,   0,   0,   0,   0], dtype=uint8), array([  0,   0,   0,   0,   0,   0,  19, 254, 254, 217,   0,   0,   0,   0,   0,   0,   0,   0, 218, 254, 254,  18,\n",
      "         0,   0,   0,   0,   0,   0], dtype=uint8), array([  0,   0,   0,   0,   0,   0,  19, 254, 254, 217,   0,   0,   0,   0,   0,   0,   0,   0, 218, 254, 254,  18,\n",
      "         0,   0,   0,   0,   0,   0], dtype=uint8), array([  0,   0,   0,   0,   0,   0,  19, 254, 254, 217,   0,   0,   0,   0,   0,   0,   0,   0, 218, 254, 254,  18,\n",
      "         0,   0,   0,   0,   0,   0], dtype=uint8), array([  0,   0,   0,   0,   0,   0,  19, 254, 254, 217,   0,   0,   0,   0,   0,   0,   0,   0, 218, 254, 254,  18,\n",
      "         0,   0,   0,   0,   0,   0], dtype=uint8), array([  0,   0,   0,   0,   0,   0,  15, 229, 254, 245, 105,  20,   0,   0,   0,   0,   0,  22, 227, 254, 254,  18,\n",
      "         0,   0,   0,   0,   0,   0], dtype=uint8), array([  0,   0,   0,   0,   0,   0,  15, 229, 254, 245, 105,  20,   0,   0,   0,   0,   0,  22, 227, 254, 254,  18,\n",
      "         0,   0,   0,   0,   0,   0], dtype=uint8), array([  0,   0,   0,   0,   0,   0,  15, 229, 254, 245, 105,  20,   0,   0,   0,   0,   0,  22, 227, 254, 254,  18,\n",
      "         0,   0,   0,   0,   0,   0], dtype=uint8), array([  0,   0,   0,   0,   0,   0,  15, 229, 254, 245, 105,  20,   0,   0,   0,   0,   0,  22, 227, 254, 254,  18,\n",
      "         0,   0,   0,   0,   0,   0], dtype=uint8), array([  0,   0,   0,   0,   0,   0,  15, 229, 254, 245, 105,  20,   0,   0,   0,   0,   0,  22, 227, 254, 254,  18,\n",
      "         0,   0,   0,   0,   0,   0], dtype=uint8), array([  0,   0,   0,   0,   0,   0,  15, 229, 254, 245, 105,  20,   0,   0,   0,   0,   0,  22, 227, 254, 254,  18,\n",
      "         0,   0,   0,   0,   0,   0], dtype=uint8), array([  0,   0,   0,   0,   0,   0,  15, 229, 254, 245, 105,  20,   0,   0,   0,   0,   0,  22, 227, 254, 254,  18,\n",
      "         0,   0,   0,   0,   0,   0], dtype=uint8), array([  0,   0,   0,   0,   0,   0,  15, 229, 254, 245, 105,  20,   0,   0,   0,   0,   0,  22, 227, 254, 254,  18,\n",
      "         0,   0,   0,   0,   0,   0], dtype=uint8), array([  0,   0,   0,   0,   0,   0,  15, 229, 254, 245, 105,  20,   0,   0,   0,   0,   0,  22, 227, 254, 254,  18,\n",
      "         0,   0,   0,   0,   0,   0], dtype=uint8), array([  0,   0,   0,   0,   0,   0,  15, 229, 254, 245, 105,  20,   0,   0,   0,   0,   0,  22, 227, 254, 254,  18,\n",
      "         0,   0,   0,   0,   0,   0], dtype=uint8), array([  0,   0,   0,   0,   0,   0,  15, 229, 254, 245, 105,  20,   0,   0,   0,   0,   0,  22, 227, 254, 254,  18,\n",
      "         0,   0,   0,   0,   0,   0], dtype=uint8), array([  0,   0,   0,   0,   0,   0,  15, 229, 254, 245, 105,  20,   0,   0,   0,   0,   0,  22, 227, 254, 254,  18,\n",
      "         0,   0,   0,   0,   0,   0], dtype=uint8), array([  0,   0,   0,   0,   0,   0,  15, 229, 254, 245, 105,  20,   0,   0,   0,   0,   0,  22, 227, 254, 254,  18,\n",
      "         0,   0,   0,   0,   0,   0], dtype=uint8), array([  0,   0,   0,   0,   0,   0,  15, 229, 254, 245, 105,  20,   0,   0,   0,   0,   0,  22, 227, 254, 254,  18,\n",
      "         0,   0,   0,   0,   0,   0], dtype=uint8), array([  0,   0,   0,   0,   0,   0,  15, 229, 254, 245, 105,  20,   0,   0,   0,   0,   0,  22, 227, 254, 254,  18,\n",
      "         0,   0,   0,   0,   0,   0], dtype=uint8), array([  0,   0,   0,   0,   0,   0,  15, 229, 254, 245, 105,  20,   0,   0,   0,   0,   0,  22, 227, 254, 254,  18,\n",
      "         0,   0,   0,   0,   0,   0], dtype=uint8), array([  0,   0,   0,   0,   0,   0,  15, 229, 254, 245, 105,  20,   0,   0,   0,   0,   0,  22, 227, 254, 254,  18,\n",
      "         0,   0,   0,   0,   0,   0], dtype=uint8), array([  0,   0,   0,   0,   0,   0,   0,  49, 228, 254, 254, 212, 166,  69,  17,   0,   0,  88, 254, 254, 174,   5,\n",
      "         0,   0,   0,   0,   0,   0], dtype=uint8), array([  0,   0,   0,   0,   0,   0,   0,  49, 228, 254, 254, 212, 166,  69,  17,   0,   0,  88, 254, 254, 174,   5,\n",
      "         0,   0,   0,   0,   0,   0], dtype=uint8), array([  0,   0,   0,   0,   0,   0,   0,  49, 228, 254, 254, 212, 166,  69,  17,   0,   0,  88, 254, 254, 174,   5,\n",
      "         0,   0,   0,   0,   0,   0], dtype=uint8), array([  0,   0,   0,   0,   0,   0,   0,  49, 228, 254, 254, 212, 166,  69,  17,   0,   0,  88, 254, 254, 174,   5,\n",
      "         0,   0,   0,   0,   0,   0], dtype=uint8), array([  0,   0,   0,   0,   0,   0,   0,  49, 228, 254, 254, 212, 166,  69,  17,   0,   0,  88, 254, 254, 174,   5,\n",
      "         0,   0,   0,   0,   0,   0], dtype=uint8), array([  0,   0,   0,   0,   0,   0,   0,  49, 228, 254, 254, 212, 166,  69,  17,   0,   0,  88, 254, 254, 174,   5,\n",
      "         0,   0,   0,   0,   0,   0], dtype=uint8), array([  0,   0,   0,   0,   0,   0,   0,  49, 228, 254, 254, 212, 166,  69,  17,   0,   0,  88, 254, 254, 174,   5,\n",
      "         0,   0,   0,   0,   0,   0], dtype=uint8), array([  0,   0,   0,   0,   0,   0,   0,  49, 228, 254, 254, 212, 166,  69,  17,   0,   0,  88, 254, 254, 174,   5,\n",
      "         0,   0,   0,   0,   0,   0], dtype=uint8), array([  0,   0,   0,   0,   0,   0,   0,  49, 228, 254, 254, 212, 166,  69,  17,   0,   0,  88, 254, 254, 174,   5,\n",
      "         0,   0,   0,   0,   0,   0], dtype=uint8), array([  0,   0,   0,   0,   0,   0,   0,  49, 228, 254, 254, 212, 166,  69,  17,   0,   0,  88, 254, 254, 174,   5,\n",
      "         0,   0,   0,   0,   0,   0], dtype=uint8), array([  0,   0,   0,   0,   0,   0,   0,  49, 228, 254, 254, 212, 166,  69,  17,   0,   0,  88, 254, 254, 174,   5,\n",
      "         0,   0,   0,   0,   0,   0], dtype=uint8), array([  0,   0,   0,   0,   0,   0,   0,  49, 228, 254, 254, 212, 166,  69,  17,   0,   0,  88, 254, 254, 174,   5,\n",
      "         0,   0,   0,   0,   0,   0], dtype=uint8), array([  0,   0,   0,   0,   0,   0,   0,  49, 228, 254, 254, 212, 166,  69,  17,   0,   0,  88, 254, 254, 174,   5,\n",
      "         0,   0,   0,   0,   0,   0], dtype=uint8), array([  0,   0,   0,   0,   0,   0,   0,  49, 228, 254, 254, 212, 166,  69,  17,   0,   0,  88, 254, 254, 174,   5,\n",
      "         0,   0,   0,   0,   0,   0], dtype=uint8), array([  0,   0,   0,   0,   0,   0,   0,  49, 228, 254, 254, 212, 166,  69,  17,   0,   0,  88, 254, 254, 174,   5,\n",
      "         0,   0,   0,   0,   0,   0], dtype=uint8), array([  0,   0,   0,   0,   0,   0,   0,   0, 120, 254, 254, 254, 254, 254, 179,  17,   0,  88, 254, 254, 148,   0,\n",
      "         0,   0,   0,   0,   0,   0], dtype=uint8), array([  0,   0,   0,   0,   0,   0,   0,   0, 120, 254, 254, 254, 254, 254, 179,  17,   0,  88, 254, 254, 148,   0,\n",
      "         0,   0,   0,   0,   0,   0], dtype=uint8), array([  0,   0,   0,   0,   0,   0,   0,   0, 120, 254, 254, 254, 254, 254, 179,  17,   0,  88, 254, 254, 148,   0,\n",
      "         0,   0,   0,   0,   0,   0], dtype=uint8), array([  0,   0,   0,   0,   0,   0,   0,   0, 120, 254, 254, 254, 254, 254, 179,  17,   0,  88, 254, 254, 148,   0,\n",
      "         0,   0,   0,   0,   0,   0], dtype=uint8), array([  0,   0,   0,   0,   0,   0,   0,   0, 120, 254, 254, 254, 254, 254, 179,  17,   0,  88, 254, 254, 148,   0,\n",
      "         0,   0,   0,   0,   0,   0], dtype=uint8), array([  0,   0,   0,   0,   0,   0,   0,   0, 120, 254, 254, 254, 254, 254, 179,  17,   0,  88, 254, 254, 148,   0,\n",
      "         0,   0,   0,   0,   0,   0], dtype=uint8), array([  0,   0,   0,   0,   0,   0,   0,   0, 120, 254, 254, 254, 254, 254, 179,  17,   0,  88, 254, 254, 148,   0,\n",
      "         0,   0,   0,   0,   0,   0], dtype=uint8), array([  0,   0,   0,   0,   0,   0,   0,   0, 120, 254, 254, 254, 254, 254, 179,  17,   0,  88, 254, 254, 148,   0,\n",
      "         0,   0,   0,   0,   0,   0], dtype=uint8), array([  0,   0,   0,   0,   0,   0,   0,   0, 120, 254, 254, 254, 254, 254, 179,  17,   0,  88, 254, 254, 148,   0,\n",
      "         0,   0,   0,   0,   0,   0], dtype=uint8), array([  0,   0,   0,   0,   0,   0,   0,   0, 120, 254, 254, 254, 254, 254, 179,  17,   0,  88, 254, 254, 148,   0,\n",
      "         0,   0,   0,   0,   0,   0], dtype=uint8), array([  0,   0,   0,   0,   0,   0,   0,   0, 120, 254, 254, 254, 254, 254, 179,  17,   0,  88, 254, 254, 148,   0,\n",
      "         0,   0,   0,   0,   0,   0], dtype=uint8), array([  0,   0,   0,   0,   0,   0,   0,   0, 120, 254, 254, 254, 254, 254, 179,  17,   0,  88, 254, 254, 148,   0,\n",
      "         0,   0,   0,   0,   0,   0], dtype=uint8), array([  0,   0,   0,   0,   0,   0,   0,   0, 120, 254, 254, 254, 254, 254, 179,  17,   0,  88, 254, 254, 148,   0,\n",
      "         0,   0,   0,   0,   0,   0], dtype=uint8), array([  0,   0,   0,   0,   0,   0,   0,   0, 120, 254, 254, 254, 254, 254, 179,  17,   0,  88, 254, 254, 148,   0,\n",
      "         0,   0,   0,   0,   0,   0], dtype=uint8), array([  0,   0,   0,   0,   0,   0,   0,   0, 120, 254, 254, 254, 254, 254, 179,  17,   0,  88, 254, 254, 148,   0,\n",
      "         0,   0,   0,   0,   0,   0], dtype=uint8), array([  0,   0,   0,   0,   0,   0,   0,   0, 120, 254, 254, 254, 254, 254, 179,  17,   0,  88, 254, 254, 148,   0,\n",
      "         0,   0,   0,   0,   0,   0], dtype=uint8), array([  0,   0,   0,   0,   0,   0,   0,   0,   6,  68, 173, 229, 254, 254, 254, 179,  82, 140, 254, 254, 148,   0,\n",
      "         0,   0,   0,   0,   0,   0], dtype=uint8), array([  0,   0,   0,   0,   0,   0,   0,   0,   6,  68, 173, 229, 254, 254, 254, 179,  82, 140, 254, 254, 148,   0,\n",
      "         0,   0,   0,   0,   0,   0], dtype=uint8), array([  0,   0,   0,   0,   0,   0,   0,   0,   6,  68, 173, 229, 254, 254, 254, 179,  82, 140, 254, 254, 148,   0,\n",
      "         0,   0,   0,   0,   0,   0], dtype=uint8), array([  0,   0,   0,   0,   0,   0,   0,   0,   6,  68, 173, 229, 254, 254, 254, 179,  82, 140, 254, 254, 148,   0,\n",
      "         0,   0,   0,   0,   0,   0], dtype=uint8), array([  0,   0,   0,   0,   0,   0,   0,   0,   6,  68, 173, 229, 254, 254, 254, 179,  82, 140, 254, 254, 148,   0,\n",
      "         0,   0,   0,   0,   0,   0], dtype=uint8), array([  0,   0,   0,   0,   0,   0,   0,   0,   6,  68, 173, 229, 254, 254, 254, 179,  82, 140, 254, 254, 148,   0,\n",
      "         0,   0,   0,   0,   0,   0], dtype=uint8), array([  0,   0,   0,   0,   0,   0,   0,   0,   6,  68, 173, 229, 254, 254, 254, 179,  82, 140, 254, 254, 148,   0,\n",
      "         0,   0,   0,   0,   0,   0], dtype=uint8), array([  0,   0,   0,   0,   0,   0,   0,   0,   6,  68, 173, 229, 254, 254, 254, 179,  82, 140, 254, 254, 148,   0,\n",
      "         0,   0,   0,   0,   0,   0], dtype=uint8), array([  0,   0,   0,   0,   0,   0,   0,   0,   6,  68, 173, 229, 254, 254, 254, 179,  82, 140, 254, 254, 148,   0,\n",
      "         0,   0,   0,   0,   0,   0], dtype=uint8), array([  0,   0,   0,   0,   0,   0,   0,   0,   6,  68, 173, 229, 254, 254, 254, 179,  82, 140, 254, 254, 148,   0,\n",
      "         0,   0,   0,   0,   0,   0], dtype=uint8), array([  0,   0,   0,   0,   0,   0,   0,   0,   6,  68, 173, 229, 254, 254, 254, 179,  82, 140, 254, 254, 148,   0,\n",
      "         0,   0,   0,   0,   0,   0], dtype=uint8), array([  0,   0,   0,   0,   0,   0,   0,   0,   6,  68, 173, 229, 254, 254, 254, 179,  82, 140, 254, 254, 148,   0,\n",
      "         0,   0,   0,   0,   0,   0], dtype=uint8), array([  0,   0,   0,   0,   0,   0,   0,   0,   6,  68, 173, 229, 254, 254, 254, 179,  82, 140, 254, 254, 148,   0,\n",
      "         0,   0,   0,   0,   0,   0], dtype=uint8), array([  0,   0,   0,   0,   0,   0,   0,   0,   6,  68, 173, 229, 254, 254, 254, 179,  82, 140, 254, 254, 148,   0,\n",
      "         0,   0,   0,   0,   0,   0], dtype=uint8), array([  0,   0,   0,   0,   0,   0,   0,   0,   6,  68, 173, 229, 254, 254, 254, 179,  82, 140, 254, 254, 148,   0,\n",
      "         0,   0,   0,   0,   0,   0], dtype=uint8), array([  0,   0,   0,   0,   0,   0,   0,   0,   0,   0,   0,  30,  90, 254, 254, 254, 254, 254, 254, 254,  45,   0,\n",
      "         0,   0,   0,   0,   0,   0], dtype=uint8), array([  0,   0,   0,   0,   0,   0,   0,   0,   0,   0,   0,  30,  90, 254, 254, 254, 254, 254, 254, 254,  45,   0,\n",
      "         0,   0,   0,   0,   0,   0], dtype=uint8), array([  0,   0,   0,   0,   0,   0,   0,   0,   0,   0,   0,  30,  90, 254, 254, 254, 254, 254, 254, 254,  45,   0,\n",
      "         0,   0,   0,   0,   0,   0], dtype=uint8), array([  0,   0,   0,   0,   0,   0,   0,   0,   0,   0,   0,  30,  90, 254, 254, 254, 254, 254, 254, 254,  45,   0,\n",
      "         0,   0,   0,   0,   0,   0], dtype=uint8), array([  0,   0,   0,   0,   0,   0,   0,   0,   0,   0,   0,  30,  90, 254, 254, 254, 254, 254, 254, 254,  45,   0,\n",
      "         0,   0,   0,   0,   0,   0], dtype=uint8), array([  0,   0,   0,   0,   0,   0,   0,   0,   0,   0,   0,  30,  90, 254, 254, 254, 254, 254, 254, 254,  45,   0,\n",
      "         0,   0,   0,   0,   0,   0], dtype=uint8), array([  0,   0,   0,   0,   0,   0,   0,   0,   0,   0,   0,  30,  90, 254, 254, 254, 254, 254, 254, 254,  45,   0,\n",
      "         0,   0,   0,   0,   0,   0], dtype=uint8), array([  0,   0,   0,   0,   0,   0,   0,   0,   0,   0,   0,  30,  90, 254, 254, 254, 254, 254, 254, 254,  45,   0,\n",
      "         0,   0,   0,   0,   0,   0], dtype=uint8), array([  0,   0,   0,   0,   0,   0,   0,   0,   0,   0,   0,  30,  90, 254, 254, 254, 254, 254, 254, 254,  45,   0,\n",
      "         0,   0,   0,   0,   0,   0], dtype=uint8), array([  0,   0,   0,   0,   0,   0,   0,   0,   0,   0,   0,  30,  90, 254, 254, 254, 254, 254, 254, 254,  45,   0,\n",
      "         0,   0,   0,   0,   0,   0], dtype=uint8), array([  0,   0,   0,   0,   0,   0,   0,   0,   0,   0,   0,  30,  90, 254, 254, 254, 254, 254, 254, 254,  45,   0,\n",
      "         0,   0,   0,   0,   0,   0], dtype=uint8), array([  0,   0,   0,   0,   0,   0,   0,   0,   0,   0,   0,  30,  90, 254, 254, 254, 254, 254, 254, 254,  45,   0,\n",
      "         0,   0,   0,   0,   0,   0], dtype=uint8), array([  0,   0,   0,   0,   0,   0,   0,   0,   0,   0,   0,  30,  90, 254, 254, 254, 254, 254, 254, 254,  45,   0,\n",
      "         0,   0,   0,   0,   0,   0], dtype=uint8), array([  0,   0,   0,   0,   0,   0,   0,   0,   0,   0,   0,  30,  90, 254, 254, 254, 254, 254, 254, 254,  45,   0,\n",
      "         0,   0,   0,   0,   0,   0], dtype=uint8), array([  0,   0,   0,   0,   0,   0,   0,   0,   0,   0,   0,  30,  90, 254, 254, 254, 254, 254, 254, 254,  45,   0,\n",
      "         0,   0,   0,   0,   0,   0], dtype=uint8), array([  0,   0,   0,   0,   0,   0,   0,   0,   0,   0,   0,  30,  90, 254, 254, 254, 254, 254, 254, 254,  45,   0,\n",
      "         0,   0,   0,   0,   0,   0], dtype=uint8), array([  0,   0,   0,   0,   0,   0,   0,   0,   0,   0,   0,  30,  90, 254, 254, 254, 254, 254, 254, 254,  45,   0,\n",
      "         0,   0,   0,   0,   0,   0], dtype=uint8), array([  0,   0,   0,   0,   0,   0,   0,   0,   0,   0,   0,  30,  90, 254, 254, 254, 254, 254, 254, 254,  45,   0,\n",
      "         0,   0,   0,   0,   0,   0], dtype=uint8), array([  0,   0,   0,   0,   0,   0,   0,   0,   0,   0,   0,   0,   8,  67, 186, 254, 254, 209, 254, 254,  24,   0,\n",
      "         0,   0,   0,   0,   0,   0], dtype=uint8), array([  0,   0,   0,   0,   0,   0,   0,   0,   0,   0,   0,   0,   8,  67, 186, 254, 254, 209, 254, 254,  24,   0,\n",
      "         0,   0,   0,   0,   0,   0], dtype=uint8), array([  0,   0,   0,   0,   0,   0,   0,   0,   0,   0,   0,   0,   8,  67, 186, 254, 254, 209, 254, 254,  24,   0,\n",
      "         0,   0,   0,   0,   0,   0], dtype=uint8), array([  0,   0,   0,   0,   0,   0,   0,   0,   0,   0,   0,   0,   8,  67, 186, 254, 254, 209, 254, 254,  24,   0,\n",
      "         0,   0,   0,   0,   0,   0], dtype=uint8), array([  0,   0,   0,   0,   0,   0,   0,   0,   0,   0,   0,   0,   8,  67, 186, 254, 254, 209, 254, 254,  24,   0,\n",
      "         0,   0,   0,   0,   0,   0], dtype=uint8), array([  0,   0,   0,   0,   0,   0,   0,   0,   0,   0,   0,   0,   8,  67, 186, 254, 254, 209, 254, 254,  24,   0,\n",
      "         0,   0,   0,   0,   0,   0], dtype=uint8), array([  0,   0,   0,   0,   0,   0,   0,   0,   0,   0,   0,   0,   8,  67, 186, 254, 254, 209, 254, 254,  24,   0,\n",
      "         0,   0,   0,   0,   0,   0], dtype=uint8), array([  0,   0,   0,   0,   0,   0,   0,   0,   0,   0,   0,   0,   8,  67, 186, 254, 254, 209, 254, 254,  24,   0,\n",
      "         0,   0,   0,   0,   0,   0], dtype=uint8), array([  0,   0,   0,   0,   0,   0,   0,   0,   0,   0,   0,   0,   8,  67, 186, 254, 254, 209, 254, 254,  24,   0,\n",
      "         0,   0,   0,   0,   0,   0], dtype=uint8), array([  0,   0,   0,   0,   0,   0,   0,   0,   0,   0,   0,   0,   8,  67, 186, 254, 254, 209, 254, 254,  24,   0,\n",
      "         0,   0,   0,   0,   0,   0], dtype=uint8), array([  0,   0,   0,   0,   0,   0,   0,   0,   0,   0,   0,   0,   8,  67, 186, 254, 254, 209, 254, 254,  24,   0,\n",
      "         0,   0,   0,   0,   0,   0], dtype=uint8), array([  0,   0,   0,   0,   0,   0,   0,   0,   0,   0,   0,   0,   8,  67, 186, 254, 254, 209, 254, 254,  24,   0,\n",
      "         0,   0,   0,   0,   0,   0], dtype=uint8), array([  0,   0,   0,   0,   0,   0,   0,   0,   0,   0,   0,   0,   8,  67, 186, 254, 254, 209, 254, 254,  24,   0,\n",
      "         0,   0,   0,   0,   0,   0], dtype=uint8), array([  0,   0,   0,   0,   0,   0,   0,   0,   0,   0,   0,   0,   8,  67, 186, 254, 254, 209, 254, 254,  24,   0,\n",
      "         0,   0,   0,   0,   0,   0], dtype=uint8), array([  0,   0,   0,   0,   0,   0,   0,   0,   0,   0,   0,   0,   8,  67, 186, 254, 254, 209, 254, 254,  24,   0,\n",
      "         0,   0,   0,   0,   0,   0], dtype=uint8), array([  0,   0,   0,   0,   0,   0,   0,   0,   0,   0,   0,   0,   8,  67, 186, 254, 254, 209, 254, 254,  24,   0,\n",
      "         0,   0,   0,   0,   0,   0], dtype=uint8), array([  0,   0,   0,   0,   0,   0,   0,   0,   0,   0,   0,   0,   8,  67, 186, 254, 254, 209, 254, 254,  24,   0,\n",
      "         0,   0,   0,   0,   0,   0], dtype=uint8), array([  0,   0,   0,   0,   0,   0,   0,   0,   0,   0,   0,   0,   8,  67, 186, 254, 254, 209, 254, 254,  24,   0,\n",
      "         0,   0,   0,   0,   0,   0], dtype=uint8), array([  0,   0,   0,   0,   0,   0,   0,   0,   0,   0,   0,   0,   8,  67, 186, 254, 254, 209, 254, 254,  24,   0,\n",
      "         0,   0,   0,   0,   0,   0], dtype=uint8), array([  0,   0,   0,   0,   0,   0,   0,   0,   0,   0,   0,   0,   0,   0,   9,  30,  30, 202, 254, 254,  24,   0,\n",
      "         0,   0,   0,   0,   0,   0], dtype=uint8), array([  0,   0,   0,   0,   0,   0,   0,   0,   0,   0,   0,   0,   0,   0,   9,  30,  30, 202, 254, 254,  24,   0,\n",
      "         0,   0,   0,   0,   0,   0], dtype=uint8), array([  0,   0,   0,   0,   0,   0,   0,   0,   0,   0,   0,   0,   0,   0,   9,  30,  30, 202, 254, 254,  24,   0,\n",
      "         0,   0,   0,   0,   0,   0], dtype=uint8), array([  0,   0,   0,   0,   0,   0,   0,   0,   0,   0,   0,   0,   0,   0,   9,  30,  30, 202, 254, 254,  24,   0,\n",
      "         0,   0,   0,   0,   0,   0], dtype=uint8), array([  0,   0,   0,   0,   0,   0,   0,   0,   0,   0,   0,   0,   0,   0,   9,  30,  30, 202, 254, 254,  24,   0,\n",
      "         0,   0,   0,   0,   0,   0], dtype=uint8), array([  0,   0,   0,   0,   0,   0,   0,   0,   0,   0,   0,   0,   0,   0,   9,  30,  30, 202, 254, 254,  24,   0,\n",
      "         0,   0,   0,   0,   0,   0], dtype=uint8), array([  0,   0,   0,   0,   0,   0,   0,   0,   0,   0,   0,   0,   0,   0,   9,  30,  30, 202, 254, 254,  24,   0,\n",
      "         0,   0,   0,   0,   0,   0], dtype=uint8), array([  0,   0,   0,   0,   0,   0,   0,   0,   0,   0,   0,   0,   0,   0,   9,  30,  30, 202, 254, 254,  24,   0,\n",
      "         0,   0,   0,   0,   0,   0], dtype=uint8), array([  0,   0,   0,   0,   0,   0,   0,   0,   0,   0,   0,   0,   0,   0,   9,  30,  30, 202, 254, 254,  24,   0,\n",
      "         0,   0,   0,   0,   0,   0], dtype=uint8), array([  0,   0,   0,   0,   0,   0,   0,   0,   0,   0,   0,   0,   0,   0,   9,  30,  30, 202, 254, 254,  24,   0,\n",
      "         0,   0,   0,   0,   0,   0], dtype=uint8), array([  0,   0,   0,   0,   0,   0,   0,   0,   0,   0,   0,   0,   0,   0,   9,  30,  30, 202, 254, 254,  24,   0,\n",
      "         0,   0,   0,   0,   0,   0], dtype=uint8), array([  0,   0,   0,   0,   0,   0,   0,   0,   0,   0,   0,   0,   0,   0,   9,  30,  30, 202, 254, 254,  24,   0,\n",
      "         0,   0,   0,   0,   0,   0], dtype=uint8), array([  0,   0,   0,   0,   0,   0,   0,   0,   0,   0,   0,   0,   0,   0,   9,  30,  30, 202, 254, 254,  24,   0,\n",
      "         0,   0,   0,   0,   0,   0], dtype=uint8), array([  0,   0,   0,   0,   0,   0,   0,   0,   0,   0,   0,   0,   0,   0,   9,  30,  30, 202, 254, 254,  24,   0,\n",
      "         0,   0,   0,   0,   0,   0], dtype=uint8), array([  0,   0,   0,   0,   0,   0,   0,   0,   0,   0,   0,   0,   0,   0,   9,  30,  30, 202, 254, 254,  24,   0,\n",
      "         0,   0,   0,   0,   0,   0], dtype=uint8), array([  0,   0,   0,   0,   0,   0,   0,   0,   0,   0,   0,   0,   0,   0,   9,  30,  30, 202, 254, 254,  24,   0,\n",
      "         0,   0,   0,   0,   0,   0], dtype=uint8), array([  0,   0,   0,   0,   0,   0,   0,   0,   0,   0,   0,   0,   0,   0,   9,  30,  30, 202, 254, 254,  24,   0,\n",
      "         0,   0,   0,   0,   0,   0], dtype=uint8), array([  0,   0,   0,   0,   0,   0,   0,   0,   0,   0,   0,   0,   0,   0,   9,  30,  30, 202, 254, 254,  24,   0,\n",
      "         0,   0,   0,   0,   0,   0], dtype=uint8), array([  0,   0,   0,   0,   0,   0,   0,   0,   0,   0,   0,   0,   0,   0,   9,  30,  30, 202, 254, 254,  24,   0,\n",
      "         0,   0,   0,   0,   0,   0], dtype=uint8), array([  0,   0,   0,   0,   0,   0,   0,   0,   0,   0,   0,   0,   0,   0,   9,  30,  30, 202, 254, 254,  24,   0,\n",
      "         0,   0,   0,   0,   0,   0], dtype=uint8), array([  0,   0,   0,   0,   0,   0,   0,   0,   0,   0,   0,   0,   0,   0,   9,  30,  30, 202, 254, 254,  24,   0,\n",
      "         0,   0,   0,   0,   0,   0], dtype=uint8), array([  0,   0,   0,   0,   0,   0,   0,   0,   0,   0,   0,   0,   0,   0,   0,   0,   0, 212, 254, 254,  24,   0,\n",
      "         0,   0,   0,   0,   0,   0], dtype=uint8), array([  0,   0,   0,   0,   0,   0,   0,   0,   0,   0,   0,   0,   0,   0,   0,   0,   0, 212, 254, 254,  24,   0,\n",
      "         0,   0,   0,   0,   0,   0], dtype=uint8), array([  0,   0,   0,   0,   0,   0,   0,   0,   0,   0,   0,   0,   0,   0,   0,   0,   0, 212, 254, 254,  24,   0,\n",
      "         0,   0,   0,   0,   0,   0], dtype=uint8), array([  0,   0,   0,   0,   0,   0,   0,   0,   0,   0,   0,   0,   0,   0,   0,   0,   0, 212, 254, 254,  24,   0,\n",
      "         0,   0,   0,   0,   0,   0], dtype=uint8), array([  0,   0,   0,   0,   0,   0,   0,   0,   0,   0,   0,   0,   0,   0,   0,   0,   0, 212, 254, 254,  24,   0,\n",
      "         0,   0,   0,   0,   0,   0], dtype=uint8), array([  0,   0,   0,   0,   0,   0,   0,   0,   0,   0,   0,   0,   0,   0,   0,   0,   0, 212, 254, 254,  24,   0,\n",
      "         0,   0,   0,   0,   0,   0], dtype=uint8), array([  0,   0,   0,   0,   0,   0,   0,   0,   0,   0,   0,   0,   0,   0,   0,   0,   0, 212, 254, 254,  24,   0,\n",
      "         0,   0,   0,   0,   0,   0], dtype=uint8), array([  0,   0,   0,   0,   0,   0,   0,   0,   0,   0,   0,   0,   0,   0,   0,   0,   0, 212, 254, 254,  24,   0,\n",
      "         0,   0,   0,   0,   0,   0], dtype=uint8), array([  0,   0,   0,   0,   0,   0,   0,   0,   0,   0,   0,   0,   0,   0,   0,   0,   0, 212, 254, 254,  24,   0,\n",
      "         0,   0,   0,   0,   0,   0], dtype=uint8), array([  0,   0,   0,   0,   0,   0,   0,   0,   0,   0,   0,   0,   0,   0,   0,   0,   0, 212, 254, 254,  24,   0,\n",
      "         0,   0,   0,   0,   0,   0], dtype=uint8), array([  0,   0,   0,   0,   0,   0,   0,   0,   0,   0,   0,   0,   0,   0,   0,   0,   0, 212, 254, 254,  24,   0,\n",
      "         0,   0,   0,   0,   0,   0], dtype=uint8), array([  0,   0,   0,   0,   0,   0,   0,   0,   0,   0,   0,   0,   0,   0,   0,   0,   0, 212, 254, 254,  24,   0,\n",
      "         0,   0,   0,   0,   0,   0], dtype=uint8), array([  0,   0,   0,   0,   0,   0,   0,   0,   0,   0,   0,   0,   0,   0,   0,   0,   0, 212, 254, 254,  24,   0,\n",
      "         0,   0,   0,   0,   0,   0], dtype=uint8), array([  0,   0,   0,   0,   0,   0,   0,   0,   0,   0,   0,   0,   0,   0,   0,   0,   0, 212, 254, 254,  24,   0,\n",
      "         0,   0,   0,   0,   0,   0], dtype=uint8), array([  0,   0,   0,   0,   0,   0,   0,   0,   0,   0,   0,   0,   0,   0,   0,   0,   0, 212, 254, 254,  24,   0,\n",
      "         0,   0,   0,   0,   0,   0], dtype=uint8), array([  0,   0,   0,   0,   0,   0,   0,   0,   0,   0,   0,   0,   0,   0,   0,   0,   0, 212, 254, 254,  24,   0,\n",
      "         0,   0,   0,   0,   0,   0], dtype=uint8), array([  0,   0,   0,   0,   0,   0,   0,   0,   0,   0,   0,   0,   0,   0,   0,   0,   0, 212, 254, 254,  24,   0,\n",
      "         0,   0,   0,   0,   0,   0], dtype=uint8), array([  0,   0,   0,   0,   0,   0,   0,   0,   0,   0,   0,   0,   0,   0,   0,   0,   0, 212, 254, 254,  24,   0,\n",
      "         0,   0,   0,   0,   0,   0], dtype=uint8), array([  0,   0,   0,   0,   0,   0,   0,   0,   0,   0,   0,   0,   0,   0,   0,   0,   0, 212, 254, 254,  24,   0,\n",
      "         0,   0,   0,   0,   0,   0], dtype=uint8), array([  0,   0,   0,   0,   0,   0,   0,   0,   0,   0,   0,   0,   0,   0,   0,   0,   0, 212, 254, 254,  24,   0,\n",
      "         0,   0,   0,   0,   0,   0], dtype=uint8), array([  0,   0,   0,   0,   0,   0,   0,   0,   0,   0,   0,   0,   0,   0,   0,   0,   0, 212, 254, 254,  24,   0,\n",
      "         0,   0,   0,   0,   0,   0], dtype=uint8), array([  0,   0,   0,   0,   0,   0,   0,   0,   0,   0,   0,   0,   0,   0,   0,   0,   0, 212, 254, 254,  24,   0,\n",
      "         0,   0,   0,   0,   0,   0], dtype=uint8), array([  0,   0,   0,   0,   0,   0,   0,   0,   0,   0,   0,   0,   0,   0,   0,   0,   0, 212, 254, 254,  24,   0,\n",
      "         0,   0,   0,   0,   0,   0], dtype=uint8), array([  0,   0,   0,   0,   0,   0,   0,   0,   0,   0,   0,   0,   0,   0,   0,   0,   0, 212, 254, 254,  24,   0,\n",
      "         0,   0,   0,   0,   0,   0], dtype=uint8), array([  0,   0,   0,   0,   0,   0,   0,   0,   0,   0,   0,   0,   0,   0,   0,   0,  36, 231, 254, 210,  14,   0,\n",
      "         0,   0,   0,   0,   0,   0], dtype=uint8), array([  0,   0,   0,   0,   0,   0,   0,   0,   0,   0,   0,   0,   0,   0,   0,   0,  36, 231, 254, 210,  14,   0,\n",
      "         0,   0,   0,   0,   0,   0], dtype=uint8), array([  0,   0,   0,   0,   0,   0,   0,   0,   0,   0,   0,   0,   0,   0,   0,   0,  36, 231, 254, 210,  14,   0,\n",
      "         0,   0,   0,   0,   0,   0], dtype=uint8), array([  0,   0,   0,   0,   0,   0,   0,   0,   0,   0,   0,   0,   0,   0,   0,   0,  36, 231, 254, 210,  14,   0,\n",
      "         0,   0,   0,   0,   0,   0], dtype=uint8), array([  0,   0,   0,   0,   0,   0,   0,   0,   0,   0,   0,   0,   0,   0,   0,   0,  36, 231, 254, 210,  14,   0,\n",
      "         0,   0,   0,   0,   0,   0], dtype=uint8), array([  0,   0,   0,   0,   0,   0,   0,   0,   0,   0,   0,   0,   0,   0,   0,   0,  36, 231, 254, 210,  14,   0,\n",
      "         0,   0,   0,   0,   0,   0], dtype=uint8), array([  0,   0,   0,   0,   0,   0,   0,   0,   0,   0,   0,   0,   0,   0,   0,   0,  36, 231, 254, 210,  14,   0,\n",
      "         0,   0,   0,   0,   0,   0], dtype=uint8), array([  0,   0,   0,   0,   0,   0,   0,   0,   0,   0,   0,   0,   0,   0,   0,   0,  36, 231, 254, 210,  14,   0,\n",
      "         0,   0,   0,   0,   0,   0], dtype=uint8), array([  0,   0,   0,   0,   0,   0,   0,   0,   0,   0,   0,   0,   0,   0,   0,   0,  36, 231, 254, 210,  14,   0,\n",
      "         0,   0,   0,   0,   0,   0], dtype=uint8), array([  0,   0,   0,   0,   0,   0,   0,   0,   0,   0,   0,   0,   0,   0,   0,   0,  36, 231, 254, 210,  14,   0,\n",
      "         0,   0,   0,   0,   0,   0], dtype=uint8), array([  0,   0,   0,   0,   0,   0,   0,   0,   0,   0,   0,   0,   0,   0,   0,   0,  36, 231, 254, 210,  14,   0,\n",
      "         0,   0,   0,   0,   0,   0], dtype=uint8), array([  0,   0,   0,   0,   0,   0,   0,   0,   0,   0,   0,   0,   0,   0,   0,   0,  36, 231, 254, 210,  14,   0,\n",
      "         0,   0,   0,   0,   0,   0], dtype=uint8), array([  0,   0,   0,   0,   0,   0,   0,   0,   0,   0,   0,   0,   0,   0,   0,   0,  36, 231, 254, 210,  14,   0,\n",
      "         0,   0,   0,   0,   0,   0], dtype=uint8), array([  0,   0,   0,   0,   0,   0,   0,   0,   0,   0,   0,   0,   0,   0,   0,   0,  36, 231, 254, 210,  14,   0,\n",
      "         0,   0,   0,   0,   0,   0], dtype=uint8), array([  0,   0,   0,   0,   0,   0,   0,   0,   0,   0,   0,   0,   0,   0,   0,   0,  36, 231, 254, 210,  14,   0,\n",
      "         0,   0,   0,   0,   0,   0], dtype=uint8), array([  0,   0,   0,   0,   0,   0,   0,   0,   0,   0,   0,   0,   0,   0,   0,   0,  36, 231, 254, 210,  14,   0,\n",
      "         0,   0,   0,   0,   0,   0], dtype=uint8), array([  0,   0,   0,   0,   0,   0,   0,   0,   0,   0,   0,   0,   0,   0,   0,   0,  36, 231, 254, 210,  14,   0,\n",
      "         0,   0,   0,   0,   0,   0], dtype=uint8), array([  0,   0,   0,   0,   0,   0,   0,   0,   0,   0,   0,   0,   0,   0,   0,   0,  36, 231, 254, 210,  14,   0,\n",
      "         0,   0,   0,   0,   0,   0], dtype=uint8), array([  0,   0,   0,   0,   0,   0,   0,   0,   0,   0,   0,   0,   0,   0,   0,   0,  36, 231, 254, 210,  14,   0,\n",
      "         0,   0,   0,   0,   0,   0], dtype=uint8), array([  0,   0,   0,   0,   0,   0,   0,   0,   0,   0,   0,   0,   0,   0,   0,   0,  36, 231, 254, 210,  14,   0,\n",
      "         0,   0,   0,   0,   0,   0], dtype=uint8), array([  0,   0,   0,   0,   0,   0,   0,   0,   0,   0,   0,   0,   0,   0,   0,   0,  36, 231, 254, 210,  14,   0,\n",
      "         0,   0,   0,   0,   0,   0], dtype=uint8), array([  0,   0,   0,   0,   0,   0,   0,   0,   0,   0,   0,   0,   0,   0,   0,   0,  36, 231, 254, 210,  14,   0,\n",
      "         0,   0,   0,   0,   0,   0], dtype=uint8), array([  0,   0,   0,   0,   0,   0,   0,   0,   0,   0,   0,   0,   0,   0,   0,   0,  36, 231, 254, 210,  14,   0,\n",
      "         0,   0,   0,   0,   0,   0], dtype=uint8), array([  0,   0,   0,   0,   0,   0,   0,   0,   0,   0,   0,   0,   0,   0,   0,   0,  82, 254, 254, 201,  12,   0,\n",
      "         0,   0,   0,   0,   0,   0], dtype=uint8), array([  0,   0,   0,   0,   0,   0,   0,   0,   0,   0,   0,   0,   0,   0,   0,   0,  82, 254, 254, 201,  12,   0,\n",
      "         0,   0,   0,   0,   0,   0], dtype=uint8), array([  0,   0,   0,   0,   0,   0,   0,   0,   0,   0,   0,   0,   0,   0,   0,   0,  82, 254, 254, 201,  12,   0,\n",
      "         0,   0,   0,   0,   0,   0], dtype=uint8), array([  0,   0,   0,   0,   0,   0,   0,   0,   0,   0,   0,   0,   0,   0,   0,   0,  82, 254, 254, 201,  12,   0,\n",
      "         0,   0,   0,   0,   0,   0], dtype=uint8), array([  0,   0,   0,   0,   0,   0,   0,   0,   0,   0,   0,   0,   0,   0,   0,   0,  82, 254, 254, 201,  12,   0,\n",
      "         0,   0,   0,   0,   0,   0], dtype=uint8), array([  0,   0,   0,   0,   0,   0,   0,   0,   0,   0,   0,   0,   0,   0,   0,   0,  82, 254, 254, 201,  12,   0,\n",
      "         0,   0,   0,   0,   0,   0], dtype=uint8), array([  0,   0,   0,   0,   0,   0,   0,   0,   0,   0,   0,   0,   0,   0,   0,   0,  82, 254, 254, 201,  12,   0,\n",
      "         0,   0,   0,   0,   0,   0], dtype=uint8), array([  0,   0,   0,   0,   0,   0,   0,   0,   0,   0,   0,   0,   0,   0,   0,   0,  82, 254, 254, 201,  12,   0,\n",
      "         0,   0,   0,   0,   0,   0], dtype=uint8), array([  0,   0,   0,   0,   0,   0,   0,   0,   0,   0,   0,   0,   0,   0,   0,   0,  82, 254, 254, 201,  12,   0,\n",
      "         0,   0,   0,   0,   0,   0], dtype=uint8), array([  0,   0,   0,   0,   0,   0,   0,   0,   0,   0,   0,   0,   0,   0,   0,   0,  82, 254, 254, 201,  12,   0,\n",
      "         0,   0,   0,   0,   0,   0], dtype=uint8), array([  0,   0,   0,   0,   0,   0,   0,   0,   0,   0,   0,   0,   0,   0,   0,   0,  82, 254, 254, 201,  12,   0,\n",
      "         0,   0,   0,   0,   0,   0], dtype=uint8), array([  0,   0,   0,   0,   0,   0,   0,   0,   0,   0,   0,   0,   0,   0,   0,   0,  82, 254, 254, 201,  12,   0,\n",
      "         0,   0,   0,   0,   0,   0], dtype=uint8), array([  0,   0,   0,   0,   0,   0,   0,   0,   0,   0,   0,   0,   0,   0,   0,   0,  82, 254, 254, 201,  12,   0,\n",
      "         0,   0,   0,   0,   0,   0], dtype=uint8), array([  0,   0,   0,   0,   0,   0,   0,   0,   0,   0,   0,   0,   0,   0,   0,   0,  82, 254, 254, 201,  12,   0,\n",
      "         0,   0,   0,   0,   0,   0], dtype=uint8), array([  0,   0,   0,   0,   0,   0,   0,   0,   0,   0,   0,   0,   0,   0,   0,   0,  82, 254, 254, 201,  12,   0,\n",
      "         0,   0,   0,   0,   0,   0], dtype=uint8), array([  0,   0,   0,   0,   0,   0,   0,   0,   0,   0,   0,   0,   0,   0,   0,   0,  82, 254, 254, 201,  12,   0,\n",
      "         0,   0,   0,   0,   0,   0], dtype=uint8), array([  0,   0,   0,   0,   0,   0,   0,   0,   0,   0,   0,   0,   0,   0,   0,   0,  82, 254, 254, 201,  12,   0,\n",
      "         0,   0,   0,   0,   0,   0], dtype=uint8), array([  0,   0,   0,   0,   0,   0,   0,   0,   0,   0,   0,   0,   0,   0,   0,   0,  82, 254, 254, 201,  12,   0,\n",
      "         0,   0,   0,   0,   0,   0], dtype=uint8), array([  0,   0,   0,   0,   0,   0,   0,   0,   0,   0,   0,   0,   0,   0,   0,   0,  82, 254, 254, 201,  12,   0,\n",
      "         0,   0,   0,   0,   0,   0], dtype=uint8), array([  0,   0,   0,   0,   0,   0,   0,   0,   0,   0,   0,   0,   0,   0,   0,   0,  82, 254, 254, 201,  12,   0,\n",
      "         0,   0,   0,   0,   0,   0], dtype=uint8), array([  0,   0,   0,   0,   0,   0,   0,   0,   0,   0,   0,   0,   0,   0,   0,   0,  82, 254, 254, 201,  12,   0,\n",
      "         0,   0,   0,   0,   0,   0], dtype=uint8), array([  0,   0,   0,   0,   0,   0,   0,   0,   0,   0,   0,   0,   0,   0,   0,   0,  82, 254, 254, 201,  12,   0,\n",
      "         0,   0,   0,   0,   0,   0], dtype=uint8), array([  0,   0,   0,   0,   0,   0,   0,   0,   0,   0,   0,   0,   0,   0,   0,   0,  82, 254, 254, 201,  12,   0,\n",
      "         0,   0,   0,   0,   0,   0], dtype=uint8), array([  0,   0,   0,   0,   0,   0,   0,   0,   0,   0,   0,   0,   0,   0,   0,   0,  42, 234, 255, 254,  24,   0,\n",
      "         0,   0,   0,   0,   0,   0], dtype=uint8), array([  0,   0,   0,   0,   0,   0,   0,   0,   0,   0,   0,   0,   0,   0,   0,   0,  42, 234, 255, 254,  24,   0,\n",
      "         0,   0,   0,   0,   0,   0], dtype=uint8), array([  0,   0,   0,   0,   0,   0,   0,   0,   0,   0,   0,   0,   0,   0,   0,   0,  42, 234, 255, 254,  24,   0,\n",
      "         0,   0,   0,   0,   0,   0], dtype=uint8), array([  0,   0,   0,   0,   0,   0,   0,   0,   0,   0,   0,   0,   0,   0,   0,   0,  42, 234, 255, 254,  24,   0,\n",
      "         0,   0,   0,   0,   0,   0], dtype=uint8), array([  0,   0,   0,   0,   0,   0,   0,   0,   0,   0,   0,   0,   0,   0,   0,   0,  42, 234, 255, 254,  24,   0,\n",
      "         0,   0,   0,   0,   0,   0], dtype=uint8), array([  0,   0,   0,   0,   0,   0,   0,   0,   0,   0,   0,   0,   0,   0,   0,   0,  42, 234, 255, 254,  24,   0,\n",
      "         0,   0,   0,   0,   0,   0], dtype=uint8), array([  0,   0,   0,   0,   0,   0,   0,   0,   0,   0,   0,   0,   0,   0,   0,   0,  42, 234, 255, 254,  24,   0,\n",
      "         0,   0,   0,   0,   0,   0], dtype=uint8), array([  0,   0,   0,   0,   0,   0,   0,   0,   0,   0,   0,   0,   0,   0,   0,   0,  42, 234, 255, 254,  24,   0,\n",
      "         0,   0,   0,   0,   0,   0], dtype=uint8), array([  0,   0,   0,   0,   0,   0,   0,   0,   0,   0,   0,   0,   0,   0,   0,   0,  42, 234, 255, 254,  24,   0,\n",
      "         0,   0,   0,   0,   0,   0], dtype=uint8), array([  0,   0,   0,   0,   0,   0,   0,   0,   0,   0,   0,   0,   0,   0,   0,   0,  42, 234, 255, 254,  24,   0,\n",
      "         0,   0,   0,   0,   0,   0], dtype=uint8), array([  0,   0,   0,   0,   0,   0,   0,   0,   0,   0,   0,   0,   0,   0,   0,   0,  42, 234, 255, 254,  24,   0,\n",
      "         0,   0,   0,   0,   0,   0], dtype=uint8), array([  0,   0,   0,   0,   0,   0,   0,   0,   0,   0,   0,   0,   0,   0,   0,   0,  42, 234, 255, 254,  24,   0,\n",
      "         0,   0,   0,   0,   0,   0], dtype=uint8), array([  0,   0,   0,   0,   0,   0,   0,   0,   0,   0,   0,   0,   0,   0,   0,   0,  42, 234, 255, 254,  24,   0,\n",
      "         0,   0,   0,   0,   0,   0], dtype=uint8), array([  0,   0,   0,   0,   0,   0,   0,   0,   0,   0,   0,   0,   0,   0,   0,   0,  42, 234, 255, 254,  24,   0,\n",
      "         0,   0,   0,   0,   0,   0], dtype=uint8), array([  0,   0,   0,   0,   0,   0,   0,   0,   0,   0,   0,   0,   0,   0,   0,   0,  42, 234, 255, 254,  24,   0,\n",
      "         0,   0,   0,   0,   0,   0], dtype=uint8), array([  0,   0,   0,   0,   0,   0,   0,   0,   0,   0,   0,   0,   0,   0,   0,   0,  42, 234, 255, 254,  24,   0,\n",
      "         0,   0,   0,   0,   0,   0], dtype=uint8), array([  0,   0,   0,   0,   0,   0,   0,   0,   0,   0,   0,   0,   0,   0,   0,   0,  42, 234, 255, 254,  24,   0,\n",
      "         0,   0,   0,   0,   0,   0], dtype=uint8), array([  0,   0,   0,   0,   0,   0,   0,   0,   0,   0,   0,   0,   0,   0,   0,   0,  42, 234, 255, 254,  24,   0,\n",
      "         0,   0,   0,   0,   0,   0], dtype=uint8), array([  0,   0,   0,   0,   0,   0,   0,   0,   0,   0,   0,   0,   0,   0,   0,   0,  42, 234, 255, 254,  24,   0,\n",
      "         0,   0,   0,   0,   0,   0], dtype=uint8), array([  0,   0,   0,   0,   0,   0,   0,   0,   0,   0,   0,   0,   0,   0,   0,   0,  42, 234, 255, 254,  24,   0,\n",
      "         0,   0,   0,   0,   0,   0], dtype=uint8), array([  0,   0,   0,   0,   0,   0,   0,   0,   0,   0,   0,   0,   0,   0,   0,   0,  42, 234, 255, 254,  24,   0,\n",
      "         0,   0,   0,   0,   0,   0], dtype=uint8), array([  0,   0,   0,   0,   0,   0,   0,   0,   0,   0,   0,   0,   0,   0,   0,   0,  42, 234, 255, 254,  24,   0,\n",
      "         0,   0,   0,   0,   0,   0], dtype=uint8), array([  0,   0,   0,   0,   0,   0,   0,   0,   0,   0,   0,   0,   0,   0,   0,   0,  42, 234, 255, 254,  24,   0,\n"
     ]
    },
    {
     "name": "stdout",
     "output_type": "stream",
     "text": [
      "         0,   0,   0,   0,   0,   0], dtype=uint8), array([0, 0, 0, 0, 0, 0, 0, 0, 0, 0, 0, 0, 0, 0, 0, 0, 0, 0, 0, 0, 0, 0, 0, 0, 0, 0, 0, 0], dtype=uint8), array([0, 0, 0, 0, 0, 0, 0, 0, 0, 0, 0, 0, 0, 0, 0, 0, 0, 0, 0, 0, 0, 0, 0, 0, 0, 0, 0, 0], dtype=uint8), array([0, 0, 0, 0, 0, 0, 0, 0, 0, 0, 0, 0, 0, 0, 0, 0, 0, 0, 0, 0, 0, 0, 0, 0, 0, 0, 0, 0], dtype=uint8), array([0, 0, 0, 0, 0, 0, 0, 0, 0, 0, 0, 0, 0, 0, 0, 0, 0, 0, 0, 0, 0, 0, 0, 0, 0, 0, 0, 0], dtype=uint8), array([0, 0, 0, 0, 0, 0, 0, 0, 0, 0, 0, 0, 0, 0, 0, 0, 0, 0, 0, 0, 0, 0, 0, 0, 0, 0, 0, 0], dtype=uint8), array([0, 0, 0, 0, 0, 0, 0, 0, 0, 0, 0, 0, 0, 0, 0, 0, 0, 0, 0, 0, 0, 0, 0, 0, 0, 0, 0, 0], dtype=uint8), array([0, 0, 0, 0, 0, 0, 0, 0, 0, 0, 0, 0, 0, 0, 0, 0, 0, 0, 0, 0, 0, 0, 0, 0, 0, 0, 0, 0], dtype=uint8), array([0, 0, 0, 0, 0, 0, 0, 0, 0, 0, 0, 0, 0, 0, 0, 0, 0, 0, 0, 0, 0, 0, 0, 0, 0, 0, 0, 0], dtype=uint8), array([0, 0, 0, 0, 0, 0, 0, 0, 0, 0, 0, 0, 0, 0, 0, 0, 0, 0, 0, 0, 0, 0, 0, 0, 0, 0, 0, 0], dtype=uint8), array([0, 0, 0, 0, 0, 0, 0, 0, 0, 0, 0, 0, 0, 0, 0, 0, 0, 0, 0, 0, 0, 0, 0, 0, 0, 0, 0, 0], dtype=uint8), array([0, 0, 0, 0, 0, 0, 0, 0, 0, 0, 0, 0, 0, 0, 0, 0, 0, 0, 0, 0, 0, 0, 0, 0, 0, 0, 0, 0], dtype=uint8), array([0, 0, 0, 0, 0, 0, 0, 0, 0, 0, 0, 0, 0, 0, 0, 0, 0, 0, 0, 0, 0, 0, 0, 0, 0, 0, 0, 0], dtype=uint8), array([0, 0, 0, 0, 0, 0, 0, 0, 0, 0, 0, 0, 0, 0, 0, 0, 0, 0, 0, 0, 0, 0, 0, 0, 0, 0, 0, 0], dtype=uint8), array([0, 0, 0, 0, 0, 0, 0, 0, 0, 0, 0, 0, 0, 0, 0, 0, 0, 0, 0, 0, 0, 0, 0, 0, 0, 0, 0, 0], dtype=uint8), array([0, 0, 0, 0, 0, 0, 0, 0, 0, 0, 0, 0, 0, 0, 0, 0, 0, 0, 0, 0, 0, 0, 0, 0, 0, 0, 0, 0], dtype=uint8), array([0, 0, 0, 0, 0, 0, 0, 0, 0, 0, 0, 0, 0, 0, 0, 0, 0, 0, 0, 0, 0, 0, 0, 0, 0, 0, 0, 0], dtype=uint8), array([0, 0, 0, 0, 0, 0, 0, 0, 0, 0, 0, 0, 0, 0, 0, 0, 0, 0, 0, 0, 0, 0, 0, 0, 0, 0, 0, 0], dtype=uint8), array([0, 0, 0, 0, 0, 0, 0, 0, 0, 0, 0, 0, 0, 0, 0, 0, 0, 0, 0, 0, 0, 0, 0, 0, 0, 0, 0, 0], dtype=uint8), array([0, 0, 0, 0, 0, 0, 0, 0, 0, 0, 0, 0, 0, 0, 0, 0, 0, 0, 0, 0, 0, 0, 0, 0, 0, 0, 0, 0], dtype=uint8), array([0, 0, 0, 0, 0, 0, 0, 0, 0, 0, 0, 0, 0, 0, 0, 0, 0, 0, 0, 0, 0, 0, 0, 0, 0, 0, 0, 0], dtype=uint8), array([0, 0, 0, 0, 0, 0, 0, 0, 0, 0, 0, 0, 0, 0, 0, 0, 0, 0, 0, 0, 0, 0, 0, 0, 0, 0, 0, 0], dtype=uint8), array([0, 0, 0, 0, 0, 0, 0, 0, 0, 0, 0, 0, 0, 0, 0, 0, 0, 0, 0, 0, 0, 0, 0, 0, 0, 0, 0, 0], dtype=uint8), array([0, 0, 0, 0, 0, 0, 0, 0, 0, 0, 0, 0, 0, 0, 0, 0, 0, 0, 0, 0, 0, 0, 0, 0, 0, 0, 0, 0], dtype=uint8), array([0, 0, 0, 0, 0, 0, 0, 0, 0, 0, 0, 0, 0, 0, 0, 0, 0, 0, 0, 0, 0, 0, 0, 0, 0, 0, 0, 0], dtype=uint8), array([0, 0, 0, 0, 0, 0, 0, 0, 0, 0, 0, 0, 0, 0, 0, 0, 0, 0, 0, 0, 0, 0, 0, 0, 0, 0, 0, 0], dtype=uint8), array([0, 0, 0, 0, 0, 0, 0, 0, 0, 0, 0, 0, 0, 0, 0, 0, 0, 0, 0, 0, 0, 0, 0, 0, 0, 0, 0, 0], dtype=uint8), array([0, 0, 0, 0, 0, 0, 0, 0, 0, 0, 0, 0, 0, 0, 0, 0, 0, 0, 0, 0, 0, 0, 0, 0, 0, 0, 0, 0], dtype=uint8), array([0, 0, 0, 0, 0, 0, 0, 0, 0, 0, 0, 0, 0, 0, 0, 0, 0, 0, 0, 0, 0, 0, 0, 0, 0, 0, 0, 0], dtype=uint8), array([0, 0, 0, 0, 0, 0, 0, 0, 0, 0, 0, 0, 0, 0, 0, 0, 0, 0, 0, 0, 0, 0, 0, 0, 0, 0, 0, 0], dtype=uint8), array([0, 0, 0, 0, 0, 0, 0, 0, 0, 0, 0, 0, 0, 0, 0, 0, 0, 0, 0, 0, 0, 0, 0, 0, 0, 0, 0, 0], dtype=uint8), array([0, 0, 0, 0, 0, 0, 0, 0, 0, 0, 0, 0, 0, 0, 0, 0, 0, 0, 0, 0, 0, 0, 0, 0, 0, 0, 0, 0], dtype=uint8), array([0, 0, 0, 0, 0, 0, 0, 0, 0, 0, 0, 0, 0, 0, 0, 0, 0, 0, 0, 0, 0, 0, 0, 0, 0, 0, 0, 0], dtype=uint8), array([0, 0, 0, 0, 0, 0, 0, 0, 0, 0, 0, 0, 0, 0, 0, 0, 0, 0, 0, 0, 0, 0, 0, 0, 0, 0, 0, 0], dtype=uint8), array([0, 0, 0, 0, 0, 0, 0, 0, 0, 0, 0, 0, 0, 0, 0, 0, 0, 0, 0, 0, 0, 0, 0, 0, 0, 0, 0, 0], dtype=uint8), array([0, 0, 0, 0, 0, 0, 0, 0, 0, 0, 0, 0, 0, 0, 0, 0, 0, 0, 0, 0, 0, 0, 0, 0, 0, 0, 0, 0], dtype=uint8), array([0, 0, 0, 0, 0, 0, 0, 0, 0, 0, 0, 0, 0, 0, 0, 0, 0, 0, 0, 0, 0, 0, 0, 0, 0, 0, 0, 0], dtype=uint8), array([0, 0, 0, 0, 0, 0, 0, 0, 0, 0, 0, 0, 0, 0, 0, 0, 0, 0, 0, 0, 0, 0, 0, 0, 0, 0, 0, 0], dtype=uint8), array([0, 0, 0, 0, 0, 0, 0, 0, 0, 0, 0, 0, 0, 0, 0, 0, 0, 0, 0, 0, 0, 0, 0, 0, 0, 0, 0, 0], dtype=uint8), array([0, 0, 0, 0, 0, 0, 0, 0, 0, 0, 0, 0, 0, 0, 0, 0, 0, 0, 0, 0, 0, 0, 0, 0, 0, 0, 0, 0], dtype=uint8), array([0, 0, 0, 0, 0, 0, 0, 0, 0, 0, 0, 0, 0, 0, 0, 0, 0, 0, 0, 0, 0, 0, 0, 0, 0, 0, 0, 0], dtype=uint8), array([0, 0, 0, 0, 0, 0, 0, 0, 0, 0, 0, 0, 0, 0, 0, 0, 0, 0, 0, 0, 0, 0, 0, 0, 0, 0, 0, 0], dtype=uint8), array([0, 0, 0, 0, 0, 0, 0, 0, 0, 0, 0, 0, 0, 0, 0, 0, 0, 0, 0, 0, 0, 0, 0, 0, 0, 0, 0, 0], dtype=uint8), array([0, 0, 0, 0, 0, 0, 0, 0, 0, 0, 0, 0, 0, 0, 0, 0, 0, 0, 0, 0, 0, 0, 0, 0, 0, 0, 0, 0], dtype=uint8), array([0, 0, 0, 0, 0, 0, 0, 0, 0, 0, 0, 0, 0, 0, 0, 0, 0, 0, 0, 0, 0, 0, 0, 0, 0, 0, 0, 0], dtype=uint8), array([0, 0, 0, 0, 0, 0, 0, 0, 0, 0, 0, 0, 0, 0, 0, 0, 0, 0, 0, 0, 0, 0, 0, 0, 0, 0, 0, 0], dtype=uint8), array([0, 0, 0, 0, 0, 0, 0, 0, 0, 0, 0, 0, 0, 0, 0, 0, 0, 0, 0, 0, 0, 0, 0, 0, 0, 0, 0, 0], dtype=uint8), array([0, 0, 0, 0, 0, 0, 0, 0, 0, 0, 0, 0, 0, 0, 0, 0, 0, 0, 0, 0, 0, 0, 0, 0, 0, 0, 0, 0], dtype=uint8), array([0, 0, 0, 0, 0, 0, 0, 0, 0, 0, 0, 0, 0, 0, 0, 0, 0, 0, 0, 0, 0, 0, 0, 0, 0, 0, 0, 0], dtype=uint8), array([0, 0, 0, 0, 0, 0, 0, 0, 0, 0, 0, 0, 0, 0, 0, 0, 0, 0, 0, 0, 0, 0, 0, 0, 0, 0, 0, 0], dtype=uint8), array([0, 0, 0, 0, 0, 0, 0, 0, 0, 0, 0, 0, 0, 0, 0, 0, 0, 0, 0, 0, 0, 0, 0, 0, 0, 0, 0, 0], dtype=uint8), array([0, 0, 0, 0, 0, 0, 0, 0, 0, 0, 0, 0, 0, 0, 0, 0, 0, 0, 0, 0, 0, 0, 0, 0, 0, 0, 0, 0], dtype=uint8), array([0, 0, 0, 0, 0, 0, 0, 0, 0, 0, 0, 0, 0, 0, 0, 0, 0, 0, 0, 0, 0, 0, 0, 0, 0, 0, 0, 0], dtype=uint8), array([0, 0, 0, 0, 0, 0, 0, 0, 0, 0, 0, 0, 0, 0, 0, 0, 0, 0, 0, 0, 0, 0, 0, 0, 0, 0, 0, 0], dtype=uint8), array([0, 0, 0, 0, 0, 0, 0, 0, 0, 0, 0, 0, 0, 0, 0, 0, 0, 0, 0, 0, 0, 0, 0, 0, 0, 0, 0, 0], dtype=uint8), array([0, 0, 0, 0, 0, 0, 0, 0, 0, 0, 0, 0, 0, 0, 0, 0, 0, 0, 0, 0, 0, 0, 0, 0, 0, 0, 0, 0], dtype=uint8), array([0, 0, 0, 0, 0, 0, 0, 0, 0, 0, 0, 0, 0, 0, 0, 0, 0, 0, 0, 0, 0, 0, 0, 0, 0, 0, 0, 0], dtype=uint8), array([0, 0, 0, 0, 0, 0, 0, 0, 0, 0, 0, 0, 0, 0, 0, 0, 0, 0, 0, 0, 0, 0, 0, 0, 0, 0, 0, 0], dtype=uint8), array([0, 0, 0, 0, 0, 0, 0, 0, 0, 0, 0, 0, 0, 0, 0, 0, 0, 0, 0, 0, 0, 0, 0, 0, 0, 0, 0, 0], dtype=uint8), array([0, 0, 0, 0, 0, 0, 0, 0, 0, 0, 0, 0, 0, 0, 0, 0, 0, 0, 0, 0, 0, 0, 0, 0, 0, 0, 0, 0], dtype=uint8), array([0, 0, 0, 0, 0, 0, 0, 0, 0, 0, 0, 0, 0, 0, 0, 0, 0, 0, 0, 0, 0, 0, 0, 0, 0, 0, 0, 0], dtype=uint8), array([0, 0, 0, 0, 0, 0, 0, 0, 0, 0, 0, 0, 0, 0, 0, 0, 0, 0, 0, 0, 0, 0, 0, 0, 0, 0, 0, 0], dtype=uint8), array([0, 0, 0, 0, 0, 0, 0, 0, 0, 0, 0, 0, 0, 0, 0, 0, 0, 0, 0, 0, 0, 0, 0, 0, 0, 0, 0, 0], dtype=uint8), array([0, 0, 0, 0, 0, 0, 0, 0, 0, 0, 0, 0, 0, 0, 0, 0, 0, 0, 0, 0, 0, 0, 0, 0, 0, 0, 0, 0], dtype=uint8), array([0, 0, 0, 0, 0, 0, 0, 0, 0, 0, 0, 0, 0, 0, 0, 0, 0, 0, 0, 0, 0, 0, 0, 0, 0, 0, 0, 0], dtype=uint8), array([0, 0, 0, 0, 0, 0, 0, 0, 0, 0, 0, 0, 0, 0, 0, 0, 0, 0, 0, 0, 0, 0, 0, 0, 0, 0, 0, 0], dtype=uint8), array([0, 0, 0, 0, 0, 0, 0, 0, 0, 0, 0, 0, 0, 0, 0, 0, 0, 0, 0, 0, 0, 0, 0, 0, 0, 0, 0, 0], dtype=uint8), array([0, 0, 0, 0, 0, 0, 0, 0, 0, 0, 0, 0, 0, 0, 0, 0, 0, 0, 0, 0, 0, 0, 0, 0, 0, 0, 0, 0], dtype=uint8), array([0, 0, 0, 0, 0, 0, 0, 0, 0, 0, 0, 0, 0, 0, 0, 0, 0, 0, 0, 0, 0, 0, 0, 0, 0, 0, 0, 0], dtype=uint8), array([0, 0, 0, 0, 0, 0, 0, 0, 0, 0, 0, 0, 0, 0, 0, 0, 0, 0, 0, 0, 0, 0, 0, 0, 0, 0, 0, 0], dtype=uint8), array([0, 0, 0, 0, 0, 0, 0, 0, 0, 0, 0, 0, 0, 0, 0, 0, 0, 0, 0, 0, 0, 0, 0, 0, 0, 0, 0, 0], dtype=uint8), array([0, 0, 0, 0, 0, 0, 0, 0, 0, 0, 0, 0, 0, 0, 0, 0, 0, 0, 0, 0, 0, 0, 0, 0, 0, 0, 0, 0], dtype=uint8), array([0, 0, 0, 0, 0, 0, 0, 0, 0, 0, 0, 0, 0, 0, 0, 0, 0, 0, 0, 0, 0, 0, 0, 0, 0, 0, 0, 0], dtype=uint8), array([0, 0, 0, 0, 0, 0, 0, 0, 0, 0, 0, 0, 0, 0, 0, 0, 0, 0, 0, 0, 0, 0, 0, 0, 0, 0, 0, 0], dtype=uint8), array([0, 0, 0, 0, 0, 0, 0, 0, 0, 0, 0, 0, 0, 0, 0, 0, 0, 0, 0, 0, 0, 0, 0, 0, 0, 0, 0, 0], dtype=uint8), array([0, 0, 0, 0, 0, 0, 0, 0, 0, 0, 0, 0, 0, 0, 0, 0, 0, 0, 0, 0, 0, 0, 0, 0, 0, 0, 0, 0], dtype=uint8), array([0, 0, 0, 0, 0, 0, 0, 0, 0, 0, 0, 0, 0, 0, 0, 0, 0, 0, 0, 0, 0, 0, 0, 0, 0, 0, 0, 0], dtype=uint8), array([0, 0, 0, 0, 0, 0, 0, 0, 0, 0, 0, 0, 0, 0, 0, 0, 0, 0, 0, 0, 0, 0, 0, 0, 0, 0, 0, 0], dtype=uint8), array([0, 0, 0, 0, 0, 0, 0, 0, 0, 0, 0, 0, 0, 0, 0, 0, 0, 0, 0, 0, 0, 0, 0, 0, 0, 0, 0, 0], dtype=uint8), array([0, 0, 0, 0, 0, 0, 0, 0, 0, 0, 0, 0, 0, 0, 0, 0, 0, 0, 0, 0, 0, 0, 0, 0, 0, 0, 0, 0], dtype=uint8), array([0, 0, 0, 0, 0, 0, 0, 0, 0, 0, 0, 0, 0, 0, 0, 0, 0, 0, 0, 0, 0, 0, 0, 0, 0, 0, 0, 0], dtype=uint8), array([0, 0, 0, 0, 0, 0, 0, 0, 0, 0, 0, 0, 0, 0, 0, 0, 0, 0, 0, 0, 0, 0, 0, 0, 0, 0, 0, 0], dtype=uint8), array([0, 0, 0, 0, 0, 0, 0, 0, 0, 0, 0, 0, 0, 0, 0, 0, 0, 0, 0, 0, 0, 0, 0, 0, 0, 0, 0, 0], dtype=uint8), array([0, 0, 0, 0, 0, 0, 0, 0, 0, 0, 0, 0, 0, 0, 0, 0, 0, 0, 0, 0, 0, 0, 0, 0, 0, 0, 0, 0], dtype=uint8), array([0, 0, 0, 0, 0, 0, 0, 0, 0, 0, 0, 0, 0, 0, 0, 0, 0, 0, 0, 0, 0, 0, 0, 0, 0, 0, 0, 0], dtype=uint8), array([0, 0, 0, 0, 0, 0, 0, 0, 0, 0, 0, 0, 0, 0, 0, 0, 0, 0, 0, 0, 0, 0, 0, 0, 0, 0, 0, 0], dtype=uint8), array([0, 0, 0, 0, 0, 0, 0, 0, 0, 0, 0, 0, 0, 0, 0, 0, 0, 0, 0, 0, 0, 0, 0, 0, 0, 0, 0, 0], dtype=uint8), array([0, 0, 0, 0, 0, 0, 0, 0, 0, 0, 0, 0, 0, 0, 0, 0, 0, 0, 0, 0, 0, 0, 0, 0, 0, 0, 0, 0], dtype=uint8), array([0, 0, 0, 0, 0, 0, 0, 0, 0, 0, 0, 0, 0, 0, 0, 0, 0, 0, 0, 0, 0, 0, 0, 0, 0, 0, 0, 0], dtype=uint8), array([0, 0, 0, 0, 0, 0, 0, 0, 0, 0, 0, 0, 0, 0, 0, 0, 0, 0, 0, 0, 0, 0, 0, 0, 0, 0, 0, 0], dtype=uint8), array([0, 0, 0, 0, 0, 0, 0, 0, 0, 0, 0, 0, 0, 0, 0, 0, 0, 0, 0, 0, 0, 0, 0, 0, 0, 0, 0, 0], dtype=uint8), array([0, 0, 0, 0, 0, 0, 0, 0, 0, 0, 0, 0, 0, 0, 0, 0, 0, 0, 0, 0, 0, 0, 0, 0, 0, 0, 0, 0], dtype=uint8), array([0, 0, 0, 0, 0, 0, 0, 0, 0, 0, 0, 0, 0, 0, 0, 0, 0, 0, 0, 0, 0, 0, 0, 0, 0, 0, 0, 0], dtype=uint8), array([0, 0, 0, 0, 0, 0, 0, 0, 0, 0, 0, 0, 0, 0, 0, 0, 0, 0, 0, 0, 0, 0, 0, 0, 0, 0, 0, 0], dtype=uint8), array([0, 0, 0, 0, 0, 0, 0, 0, 0, 0, 0, 0, 0, 0, 0, 0, 0, 0, 0, 0, 0, 0, 0, 0, 0, 0, 0, 0], dtype=uint8), array([0, 0, 0, 0, 0, 0, 0, 0, 0, 0, 0, 0, 0, 0, 0, 0, 0, 0, 0, 0, 0, 0, 0, 0, 0, 0, 0, 0], dtype=uint8), array([0, 0, 0, 0, 0, 0, 0, 0, 0, 0, 0, 0, 0, 0, 0, 0, 0, 0, 0, 0, 0, 0, 0, 0, 0, 0, 0, 0], dtype=uint8), array([0, 0, 0, 0, 0, 0, 0, 0, 0, 0, 0, 0, 0, 0, 0, 0, 0, 0, 0, 0, 0, 0, 0, 0, 0, 0, 0, 0], dtype=uint8), array([0, 0, 0, 0, 0, 0, 0, 0, 0, 0, 0, 0, 0, 0, 0, 0, 0, 0, 0, 0, 0, 0, 0, 0, 0, 0, 0, 0], dtype=uint8), array([0, 0, 0, 0, 0, 0, 0, 0, 0, 0, 0, 0, 0, 0, 0, 0, 0, 0, 0, 0, 0, 0, 0, 0, 0, 0, 0, 0], dtype=uint8), array([0, 0, 0, 0, 0, 0, 0, 0, 0, 0, 0, 0, 0, 0, 0, 0, 0, 0, 0, 0, 0, 0, 0, 0, 0, 0, 0, 0], dtype=uint8), array([0, 0, 0, 0, 0, 0, 0, 0, 0, 0, 0, 0, 0, 0, 0, 0, 0, 0, 0, 0, 0, 0, 0, 0, 0, 0, 0, 0], dtype=uint8), array([0, 0, 0, 0, 0, 0, 0, 0, 0, 0, 0, 0, 0, 0, 0, 0, 0, 0, 0, 0, 0, 0, 0, 0, 0, 0, 0, 0], dtype=uint8), array([0, 0, 0, 0, 0, 0, 0, 0, 0, 0, 0, 0, 0, 0, 0, 0, 0, 0, 0, 0, 0, 0, 0, 0, 0, 0, 0, 0], dtype=uint8), array([0, 0, 0, 0, 0, 0, 0, 0, 0, 0, 0, 0, 0, 0, 0, 0, 0, 0, 0, 0, 0, 0, 0, 0, 0, 0, 0, 0], dtype=uint8), array([0, 0, 0, 0, 0, 0, 0, 0, 0, 0, 0, 0, 0, 0, 0, 0, 0, 0, 0, 0, 0, 0, 0, 0, 0, 0, 0, 0], dtype=uint8), array([0, 0, 0, 0, 0, 0, 0, 0, 0, 0, 0, 0, 0, 0, 0, 0, 0, 0, 0, 0, 0, 0, 0, 0, 0, 0, 0, 0], dtype=uint8), array([0, 0, 0, 0, 0, 0, 0, 0, 0, 0, 0, 0, 0, 0, 0, 0, 0, 0, 0, 0, 0, 0, 0, 0, 0, 0, 0, 0], dtype=uint8), array([0, 0, 0, 0, 0, 0, 0, 0, 0, 0, 0, 0, 0, 0, 0, 0, 0, 0, 0, 0, 0, 0, 0, 0, 0, 0, 0, 0], dtype=uint8), array([0, 0, 0, 0, 0, 0, 0, 0, 0, 0, 0, 0, 0, 0, 0, 0, 0, 0, 0, 0, 0, 0, 0, 0, 0, 0, 0, 0], dtype=uint8), array([0, 0, 0, 0, 0, 0, 0, 0, 0, 0, 0, 0, 0, 0, 0, 0, 0, 0, 0, 0, 0, 0, 0, 0, 0, 0, 0, 0], dtype=uint8), array([0, 0, 0, 0, 0, 0, 0, 0, 0, 0, 0, 0, 0, 0, 0, 0, 0, 0, 0, 0, 0, 0, 0, 0, 0, 0, 0, 0], dtype=uint8), array([0, 0, 0, 0, 0, 0, 0, 0, 0, 0, 0, 0, 0, 0, 0, 0, 0, 0, 0, 0, 0, 0, 0, 0, 0, 0, 0, 0], dtype=uint8)] "
     ]
    },
    {
     "name": "stdout",
     "output_type": "stream",
     "text": [
      "[array([  0,   0,   0,   0,   0,   0,   0,   0,   0,   0,   0,  26, 220, 224,  31,   0,   0,   0,   0,   0,   0,   0,\n",
      "         0,   0,   0,   0,   0,   0], dtype=uint8), array([  0,   0,   0,   0,   0,   0,   0,   0,   0,   0,   0,  26, 220, 224,  31,   0,   0,   0,   0,   0,   0,   0,\n",
      "         0,   0,   0,   0,   0,   0], dtype=uint8), array([  0,   0,   0,   0,   0,   0,   0,   0,   0,   0,   0,  26, 220, 224,  31,   0,   0,   0,   0,   0,   0,   0,\n",
      "         0,   0,   0,   0,   0,   0], dtype=uint8), array([  0,   0,   0,   0,   0,   0,   0,   0,   0,   0,   0,  26, 220, 224,  31,   0,   0,   0,   0,   0,   0,   0,\n",
      "         0,   0,   0,   0,   0,   0], dtype=uint8), array([  0,   0,   0,   0,   0,   0,   0,   0,   0,   2,  13, 122, 252, 122,   0,   0,   0,   0,   0,   0,   0,   0,\n",
      "         0,   0,   0,   0,   0,   0], dtype=uint8), array([  0,   0,   0,   0,   0,   0,   0,   0,   0,   2,  13, 122, 252, 122,   0,   0,   0,   0,   0,   0,   0,   0,\n",
      "         0,   0,   0,   0,   0,   0], dtype=uint8), array([  0,   0,   0,   0,   0,   0,   0,   0,   0,   2,  13, 122, 252, 122,   0,   0,   0,   0,   0,   0,   0,   0,\n",
      "         0,   0,   0,   0,   0,   0], dtype=uint8), array([  0,   0,   0,   0,   0,   0,   0,   0,   0,   2,  13, 122, 252, 122,   0,   0,   0,   0,   0,   0,   0,   0,\n",
      "         0,   0,   0,   0,   0,   0], dtype=uint8), array([  0,   0,   0,   0,   0,   0,   0,   0,   0,   2,  13, 122, 252, 122,   0,   0,   0,   0,   0,   0,   0,   0,\n",
      "         0,   0,   0,   0,   0,   0], dtype=uint8), array([  0,   0,   0,   0,   0,   0,   0,   0,   0,  47, 254, 254, 189,   0,   0,   0,   0,   0,   0,   0,   0,   0,\n",
      "         0,   0,   0,   0,   0,   0], dtype=uint8), array([  0,   0,   0,   0,   0,   0,   0,   0,   0,  47, 254, 254, 189,   0,   0,   0,   0,   0,   0,   0,   0,   0,\n",
      "         0,   0,   0,   0,   0,   0], dtype=uint8), array([  0,   0,   0,   0,   0,   0,   0,   0,   0,  47, 254, 254, 189,   0,   0,   0,   0,   0,   0,   0,   0,   0,\n",
      "         0,   0,   0,   0,   0,   0], dtype=uint8), array([  0,   0,   0,   0,   0,   0,   0,   0,   0,  47, 254, 254, 189,   0,   0,   0,   0,   0,   0,   0,   0,   0,\n",
      "         0,   0,   0,   0,   0,   0], dtype=uint8), array([  0,   0,   0,   0,   0,   0,   0,   0,  92, 216, 254, 213,  31,   0,   0,   0,   0,   0,  56, 149,  98,   2,\n",
      "         0,   0,   0,   0,   0,   0], dtype=uint8), array([  0,   0,   0,   0,   0,   0,   0,   0,  92, 216, 254, 213,  31,   0,   0,   0,   0,   0,  56, 149,  98,   2,\n",
      "         0,   0,   0,   0,   0,   0], dtype=uint8), array([  0,   0,   0,   0,   0,   0,   0,   0,  92, 216, 254, 213,  31,   0,   0,   0,   0,   0,  56, 149,  98,   2,\n",
      "         0,   0,   0,   0,   0,   0], dtype=uint8), array([  0,   0,   0,   0,   0,   0,   0,   0,  92, 216, 254, 213,  31,   0,   0,   0,   0,   0,  56, 149,  98,   2,\n",
      "         0,   0,   0,   0,   0,   0], dtype=uint8), array([  0,   0,   0,   0,   0,   0,   0,   0,  92, 216, 254, 213,  31,   0,   0,   0,   0,   0,  56, 149,  98,   2,\n",
      "         0,   0,   0,   0,   0,   0], dtype=uint8), array([  0,   0,   0,   0,   0,   0,   0,   0,  92, 216, 254, 213,  31,   0,   0,   0,   0,   0,  56, 149,  98,   2,\n",
      "         0,   0,   0,   0,   0,   0], dtype=uint8), array([  0,   0,   0,   0,   0,   0,   0,   0,  92, 216, 254, 213,  31,   0,   0,   0,   0,   0,  56, 149,  98,   2,\n",
      "         0,   0,   0,   0,   0,   0], dtype=uint8), array([  0,   0,   0,   0,   0,   0,   0,   0,  92, 216, 254, 213,  31,   0,   0,   0,   0,   0,  56, 149,  98,   2,\n",
      "         0,   0,   0,   0,   0,   0], dtype=uint8), array([  0,   0,   0,   0,   0,   0,   0,   0,  92, 216, 254, 213,  31,   0,   0,   0,   0,   0,  56, 149,  98,   2,\n",
      "         0,   0,   0,   0,   0,   0], dtype=uint8), array([  0,   0,   0,   0,   0,   0,   0,   4, 168, 254, 228,  31,   0,   0,   0,   0,   0,   0,  94, 254, 255,  18,\n",
      "         0,   0,   0,   0,   0,   0], dtype=uint8), array([  0,   0,   0,   0,   0,   0,   0,   4, 168, 254, 228,  31,   0,   0,   0,   0,   0,   0,  94, 254, 255,  18,\n",
      "         0,   0,   0,   0,   0,   0], dtype=uint8), array([  0,   0,   0,   0,   0,   0,   0,   4, 168, 254, 228,  31,   0,   0,   0,   0,   0,   0,  94, 254, 255,  18,\n",
      "         0,   0,   0,   0,   0,   0], dtype=uint8), array([  0,   0,   0,   0,   0,   0,   0,   4, 168, 254, 228,  31,   0,   0,   0,   0,   0,   0,  94, 254, 255,  18,\n",
      "         0,   0,   0,   0,   0,   0], dtype=uint8), array([  0,   0,   0,   0,   0,   0,   0,   4, 168, 254, 228,  31,   0,   0,   0,   0,   0,   0,  94, 254, 255,  18,\n",
      "         0,   0,   0,   0,   0,   0], dtype=uint8), array([  0,   0,   0,   0,   0,   0,   0,   4, 168, 254, 228,  31,   0,   0,   0,   0,   0,   0,  94, 254, 255,  18,\n",
      "         0,   0,   0,   0,   0,   0], dtype=uint8), array([  0,   0,   0,   0,   0,   0,   0,   4, 168, 254, 228,  31,   0,   0,   0,   0,   0,   0,  94, 254, 255,  18,\n",
      "         0,   0,   0,   0,   0,   0], dtype=uint8), array([  0,   0,   0,   0,   0,   0,   0,   4, 168, 254, 228,  31,   0,   0,   0,   0,   0,   0,  94, 254, 255,  18,\n",
      "         0,   0,   0,   0,   0,   0], dtype=uint8), array([  0,   0,   0,   0,   0,   0,   0,   4, 168, 254, 228,  31,   0,   0,   0,   0,   0,   0,  94, 254, 255,  18,\n",
      "         0,   0,   0,   0,   0,   0], dtype=uint8), array([  0,   0,   0,   0,   0,   0,   3, 121, 254, 249, 119,   0,   0,   0,   0,   0,   0,   0,  94, 254, 254,  18,\n",
      "         0,   0,   0,   0,   0,   0], dtype=uint8), array([  0,   0,   0,   0,   0,   0,   3, 121, 254, 249, 119,   0,   0,   0,   0,   0,   0,   0,  94, 254, 254,  18,\n",
      "         0,   0,   0,   0,   0,   0], dtype=uint8), array([  0,   0,   0,   0,   0,   0,   3, 121, 254, 249, 119,   0,   0,   0,   0,   0,   0,   0,  94, 254, 254,  18,\n",
      "         0,   0,   0,   0,   0,   0], dtype=uint8), array([  0,   0,   0,   0,   0,   0,   3, 121, 254, 249, 119,   0,   0,   0,   0,   0,   0,   0,  94, 254, 254,  18,\n",
      "         0,   0,   0,   0,   0,   0], dtype=uint8), array([  0,   0,   0,   0,   0,   0,   3, 121, 254, 249, 119,   0,   0,   0,   0,   0,   0,   0,  94, 254, 254,  18,\n",
      "         0,   0,   0,   0,   0,   0], dtype=uint8), array([  0,   0,   0,   0,   0,   0,   3, 121, 254, 249, 119,   0,   0,   0,   0,   0,   0,   0,  94, 254, 254,  18,\n",
      "         0,   0,   0,   0,   0,   0], dtype=uint8), array([  0,   0,   0,   0,   0,   0,   3, 121, 254, 249, 119,   0,   0,   0,   0,   0,   0,   0,  94, 254, 254,  18,\n",
      "         0,   0,   0,   0,   0,   0], dtype=uint8), array([  0,   0,   0,   0,   0,   0,   3, 121, 254, 249, 119,   0,   0,   0,   0,   0,   0,   0,  94, 254, 254,  18,\n",
      "         0,   0,   0,   0,   0,   0], dtype=uint8), array([  0,   0,   0,   0,   0,   0,   3, 121, 254, 249, 119,   0,   0,   0,   0,   0,   0,   0,  94, 254, 254,  18,\n",
      "         0,   0,   0,   0,   0,   0], dtype=uint8), array([  0,   0,   0,   0,   0,   0,  19, 254, 254, 217,   0,   0,   0,   0,   0,   0,   0,   0,  94, 254, 254,  18,\n",
      "         0,   0,   0,   0,   0,   0], dtype=uint8), array([  0,   0,   0,   0,   0,   0,  19, 254, 254, 217,   0,   0,   0,   0,   0,   0,   0,   0,  94, 254, 254,  18,\n",
      "         0,   0,   0,   0,   0,   0], dtype=uint8), array([  0,   0,   0,   0,   0,   0,  19, 254, 254, 217,   0,   0,   0,   0,   0,   0,   0,   0,  94, 254, 254,  18,\n",
      "         0,   0,   0,   0,   0,   0], dtype=uint8), array([  0,   0,   0,   0,   0,   0,  19, 254, 254, 217,   0,   0,   0,   0,   0,   0,   0,   0,  94, 254, 254,  18,\n",
      "         0,   0,   0,   0,   0,   0], dtype=uint8), array([  0,   0,   0,   0,   0,   0,  19, 254, 254, 217,   0,   0,   0,   0,   0,   0,   0,   0,  94, 254, 254,  18,\n",
      "         0,   0,   0,   0,   0,   0], dtype=uint8), array([  0,   0,   0,   0,   0,   0,  19, 254, 254, 217,   0,   0,   0,   0,   0,   0,   0,   0,  94, 254, 254,  18,\n",
      "         0,   0,   0,   0,   0,   0], dtype=uint8), array([  0,   0,   0,   0,   0,   0,  19, 254, 254, 217,   0,   0,   0,   0,   0,   0,   0,   0,  94, 254, 254,  18,\n",
      "         0,   0,   0,   0,   0,   0], dtype=uint8), array([  0,   0,   0,   0,   0,   0,  19, 254, 254, 217,   0,   0,   0,   0,   0,   0,   0,   0,  94, 254, 254,  18,\n",
      "         0,   0,   0,   0,   0,   0], dtype=uint8), array([  0,   0,   0,   0,   0,   0,  19, 254, 254, 217,   0,   0,   0,   0,   0,   0,   0,   0, 179, 254, 255,  18,\n",
      "         0,   0,   0,   0,   0,   0], dtype=uint8), array([  0,   0,   0,   0,   0,   0,  19, 254, 254, 217,   0,   0,   0,   0,   0,   0,   0,   0, 179, 254, 255,  18,\n",
      "         0,   0,   0,   0,   0,   0], dtype=uint8), array([  0,   0,   0,   0,   0,   0,  19, 254, 254, 217,   0,   0,   0,   0,   0,   0,   0,   0, 179, 254, 255,  18,\n",
      "         0,   0,   0,   0,   0,   0], dtype=uint8), array([  0,   0,   0,   0,   0,   0,  19, 254, 254, 217,   0,   0,   0,   0,   0,   0,   0,   0, 179, 254, 255,  18,\n",
      "         0,   0,   0,   0,   0,   0], dtype=uint8), array([  0,   0,   0,   0,   0,   0,  19, 254, 254, 217,   0,   0,   0,   0,   0,   0,   0,   0, 179, 254, 255,  18,\n",
      "         0,   0,   0,   0,   0,   0], dtype=uint8), array([  0,   0,   0,   0,   0,   0,  19, 254, 254, 217,   0,   0,   0,   0,   0,   0,   0,   0, 179, 254, 255,  18,\n",
      "         0,   0,   0,   0,   0,   0], dtype=uint8), array([  0,   0,   0,   0,   0,   0,  19, 254, 254, 217,   0,   0,   0,   0,   0,   0,   0,   0, 179, 254, 255,  18,\n",
      "         0,   0,   0,   0,   0,   0], dtype=uint8), array([  0,   0,   0,   0,   0,   0,  19, 254, 254, 217,   0,   0,   0,   0,   0,   0,   0,   0, 179, 254, 255,  18,\n",
      "         0,   0,   0,   0,   0,   0], dtype=uint8), array([  0,   0,   0,   0,   0,   0,  19, 254, 254, 217,   0,   0,   0,   0,   0,   0,   0,   0, 218, 254, 254,  18,\n",
      "         0,   0,   0,   0,   0,   0], dtype=uint8), array([  0,   0,   0,   0,   0,   0,  19, 254, 254, 217,   0,   0,   0,   0,   0,   0,   0,   0, 218, 254, 254,  18,\n",
      "         0,   0,   0,   0,   0,   0], dtype=uint8), array([  0,   0,   0,   0,   0,   0,  19, 254, 254, 217,   0,   0,   0,   0,   0,   0,   0,   0, 218, 254, 254,  18,\n",
      "         0,   0,   0,   0,   0,   0], dtype=uint8), array([  0,   0,   0,   0,   0,   0,  19, 254, 254, 217,   0,   0,   0,   0,   0,   0,   0,   0, 218, 254, 254,  18,\n",
      "         0,   0,   0,   0,   0,   0], dtype=uint8), array([  0,   0,   0,   0,   0,   0,  19, 254, 254, 217,   0,   0,   0,   0,   0,   0,   0,   0, 218, 254, 254,  18,\n",
      "         0,   0,   0,   0,   0,   0], dtype=uint8), array([  0,   0,   0,   0,   0,   0,  19, 254, 254, 217,   0,   0,   0,   0,   0,   0,   0,   0, 218, 254, 254,  18,\n",
      "         0,   0,   0,   0,   0,   0], dtype=uint8), array([  0,   0,   0,   0,   0,   0,  19, 254, 254, 217,   0,   0,   0,   0,   0,   0,   0,   0, 218, 254, 254,  18,\n",
      "         0,   0,   0,   0,   0,   0], dtype=uint8), array([  0,   0,   0,   0,   0,   0,  19, 254, 254, 217,   0,   0,   0,   0,   0,   0,   0,   0, 218, 254, 254,  18,\n",
      "         0,   0,   0,   0,   0,   0], dtype=uint8), array([  0,   0,   0,   0,   0,   0,  15, 229, 254, 245, 105,  20,   0,   0,   0,   0,   0,  22, 227, 254, 254,  18,\n",
      "         0,   0,   0,   0,   0,   0], dtype=uint8), array([  0,   0,   0,   0,   0,   0,  15, 229, 254, 245, 105,  20,   0,   0,   0,   0,   0,  22, 227, 254, 254,  18,\n",
      "         0,   0,   0,   0,   0,   0], dtype=uint8), array([  0,   0,   0,   0,   0,   0,  15, 229, 254, 245, 105,  20,   0,   0,   0,   0,   0,  22, 227, 254, 254,  18,\n",
      "         0,   0,   0,   0,   0,   0], dtype=uint8), array([  0,   0,   0,   0,   0,   0,  15, 229, 254, 245, 105,  20,   0,   0,   0,   0,   0,  22, 227, 254, 254,  18,\n",
      "         0,   0,   0,   0,   0,   0], dtype=uint8), array([  0,   0,   0,   0,   0,   0,  15, 229, 254, 245, 105,  20,   0,   0,   0,   0,   0,  22, 227, 254, 254,  18,\n",
      "         0,   0,   0,   0,   0,   0], dtype=uint8), array([  0,   0,   0,   0,   0,   0,  15, 229, 254, 245, 105,  20,   0,   0,   0,   0,   0,  22, 227, 254, 254,  18,\n",
      "         0,   0,   0,   0,   0,   0], dtype=uint8), array([  0,   0,   0,   0,   0,   0,  15, 229, 254, 245, 105,  20,   0,   0,   0,   0,   0,  22, 227, 254, 254,  18,\n",
      "         0,   0,   0,   0,   0,   0], dtype=uint8), array([  0,   0,   0,   0,   0,   0,  15, 229, 254, 245, 105,  20,   0,   0,   0,   0,   0,  22, 227, 254, 254,  18,\n",
      "         0,   0,   0,   0,   0,   0], dtype=uint8), array([  0,   0,   0,   0,   0,   0,  15, 229, 254, 245, 105,  20,   0,   0,   0,   0,   0,  22, 227, 254, 254,  18,\n",
      "         0,   0,   0,   0,   0,   0], dtype=uint8), array([  0,   0,   0,   0,   0,   0,  15, 229, 254, 245, 105,  20,   0,   0,   0,   0,   0,  22, 227, 254, 254,  18,\n",
      "         0,   0,   0,   0,   0,   0], dtype=uint8), array([  0,   0,   0,   0,   0,   0,  15, 229, 254, 245, 105,  20,   0,   0,   0,   0,   0,  22, 227, 254, 254,  18,\n",
      "         0,   0,   0,   0,   0,   0], dtype=uint8), array([  0,   0,   0,   0,   0,   0,   0,  49, 228, 254, 254, 212, 166,  69,  17,   0,   0,  88, 254, 254, 174,   5,\n",
      "         0,   0,   0,   0,   0,   0], dtype=uint8), array([  0,   0,   0,   0,   0,   0,   0,  49, 228, 254, 254, 212, 166,  69,  17,   0,   0,  88, 254, 254, 174,   5,\n",
      "         0,   0,   0,   0,   0,   0], dtype=uint8), array([  0,   0,   0,   0,   0,   0,   0,  49, 228, 254, 254, 212, 166,  69,  17,   0,   0,  88, 254, 254, 174,   5,\n",
      "         0,   0,   0,   0,   0,   0], dtype=uint8), array([  0,   0,   0,   0,   0,   0,   0,  49, 228, 254, 254, 212, 166,  69,  17,   0,   0,  88, 254, 254, 174,   5,\n",
      "         0,   0,   0,   0,   0,   0], dtype=uint8), array([  0,   0,   0,   0,   0,   0,   0,  49, 228, 254, 254, 212, 166,  69,  17,   0,   0,  88, 254, 254, 174,   5,\n",
      "         0,   0,   0,   0,   0,   0], dtype=uint8), array([  0,   0,   0,   0,   0,   0,   0,  49, 228, 254, 254, 212, 166,  69,  17,   0,   0,  88, 254, 254, 174,   5,\n",
      "         0,   0,   0,   0,   0,   0], dtype=uint8), array([  0,   0,   0,   0,   0,   0,   0,  49, 228, 254, 254, 212, 166,  69,  17,   0,   0,  88, 254, 254, 174,   5,\n",
      "         0,   0,   0,   0,   0,   0], dtype=uint8), array([  0,   0,   0,   0,   0,   0,   0,  49, 228, 254, 254, 212, 166,  69,  17,   0,   0,  88, 254, 254, 174,   5,\n",
      "         0,   0,   0,   0,   0,   0], dtype=uint8), array([  0,   0,   0,   0,   0,   0,   0,  49, 228, 254, 254, 212, 166,  69,  17,   0,   0,  88, 254, 254, 174,   5,\n",
      "         0,   0,   0,   0,   0,   0], dtype=uint8), array([  0,   0,   0,   0,   0,   0,   0,  49, 228, 254, 254, 212, 166,  69,  17,   0,   0,  88, 254, 254, 174,   5,\n",
      "         0,   0,   0,   0,   0,   0], dtype=uint8), array([  0,   0,   0,   0,   0,   0,   0,  49, 228, 254, 254, 212, 166,  69,  17,   0,   0,  88, 254, 254, 174,   5,\n",
      "         0,   0,   0,   0,   0,   0], dtype=uint8), array([  0,   0,   0,   0,   0,   0,   0,  49, 228, 254, 254, 212, 166,  69,  17,   0,   0,  88, 254, 254, 174,   5,\n",
      "         0,   0,   0,   0,   0,   0], dtype=uint8), array([  0,   0,   0,   0,   0,   0,   0,  49, 228, 254, 254, 212, 166,  69,  17,   0,   0,  88, 254, 254, 174,   5,\n",
      "         0,   0,   0,   0,   0,   0], dtype=uint8), array([  0,   0,   0,   0,   0,   0,   0,   0, 120, 254, 254, 254, 254, 254, 179,  17,   0,  88, 254, 254, 148,   0,\n",
      "         0,   0,   0,   0,   0,   0], dtype=uint8), array([  0,   0,   0,   0,   0,   0,   0,   0, 120, 254, 254, 254, 254, 254, 179,  17,   0,  88, 254, 254, 148,   0,\n",
      "         0,   0,   0,   0,   0,   0], dtype=uint8), array([  0,   0,   0,   0,   0,   0,   0,   0, 120, 254, 254, 254, 254, 254, 179,  17,   0,  88, 254, 254, 148,   0,\n",
      "         0,   0,   0,   0,   0,   0], dtype=uint8), array([  0,   0,   0,   0,   0,   0,   0,   0, 120, 254, 254, 254, 254, 254, 179,  17,   0,  88, 254, 254, 148,   0,\n",
      "         0,   0,   0,   0,   0,   0], dtype=uint8), array([  0,   0,   0,   0,   0,   0,   0,   0, 120, 254, 254, 254, 254, 254, 179,  17,   0,  88, 254, 254, 148,   0,\n",
      "         0,   0,   0,   0,   0,   0], dtype=uint8), array([  0,   0,   0,   0,   0,   0,   0,   0, 120, 254, 254, 254, 254, 254, 179,  17,   0,  88, 254, 254, 148,   0,\n",
      "         0,   0,   0,   0,   0,   0], dtype=uint8), array([  0,   0,   0,   0,   0,   0,   0,   0, 120, 254, 254, 254, 254, 254, 179,  17,   0,  88, 254, 254, 148,   0,\n",
      "         0,   0,   0,   0,   0,   0], dtype=uint8), array([  0,   0,   0,   0,   0,   0,   0,   0, 120, 254, 254, 254, 254, 254, 179,  17,   0,  88, 254, 254, 148,   0,\n",
      "         0,   0,   0,   0,   0,   0], dtype=uint8), array([  0,   0,   0,   0,   0,   0,   0,   0, 120, 254, 254, 254, 254, 254, 179,  17,   0,  88, 254, 254, 148,   0,\n",
      "         0,   0,   0,   0,   0,   0], dtype=uint8), array([  0,   0,   0,   0,   0,   0,   0,   0, 120, 254, 254, 254, 254, 254, 179,  17,   0,  88, 254, 254, 148,   0,\n",
      "         0,   0,   0,   0,   0,   0], dtype=uint8), array([  0,   0,   0,   0,   0,   0,   0,   0, 120, 254, 254, 254, 254, 254, 179,  17,   0,  88, 254, 254, 148,   0,\n",
      "         0,   0,   0,   0,   0,   0], dtype=uint8), array([  0,   0,   0,   0,   0,   0,   0,   0, 120, 254, 254, 254, 254, 254, 179,  17,   0,  88, 254, 254, 148,   0,\n",
      "         0,   0,   0,   0,   0,   0], dtype=uint8), array([  0,   0,   0,   0,   0,   0,   0,   0,   6,  68, 173, 229, 254, 254, 254, 179,  82, 140, 254, 254, 148,   0,\n",
      "         0,   0,   0,   0,   0,   0], dtype=uint8), array([  0,   0,   0,   0,   0,   0,   0,   0,   6,  68, 173, 229, 254, 254, 254, 179,  82, 140, 254, 254, 148,   0,\n",
      "         0,   0,   0,   0,   0,   0], dtype=uint8), array([  0,   0,   0,   0,   0,   0,   0,   0,   6,  68, 173, 229, 254, 254, 254, 179,  82, 140, 254, 254, 148,   0,\n",
      "         0,   0,   0,   0,   0,   0], dtype=uint8), array([  0,   0,   0,   0,   0,   0,   0,   0,   6,  68, 173, 229, 254, 254, 254, 179,  82, 140, 254, 254, 148,   0,\n",
      "         0,   0,   0,   0,   0,   0], dtype=uint8), array([  0,   0,   0,   0,   0,   0,   0,   0,   6,  68, 173, 229, 254, 254, 254, 179,  82, 140, 254, 254, 148,   0,\n",
      "         0,   0,   0,   0,   0,   0], dtype=uint8), array([  0,   0,   0,   0,   0,   0,   0,   0,   6,  68, 173, 229, 254, 254, 254, 179,  82, 140, 254, 254, 148,   0,\n",
      "         0,   0,   0,   0,   0,   0], dtype=uint8), array([  0,   0,   0,   0,   0,   0,   0,   0,   6,  68, 173, 229, 254, 254, 254, 179,  82, 140, 254, 254, 148,   0,\n",
      "         0,   0,   0,   0,   0,   0], dtype=uint8), array([  0,   0,   0,   0,   0,   0,   0,   0,   6,  68, 173, 229, 254, 254, 254, 179,  82, 140, 254, 254, 148,   0,\n",
      "         0,   0,   0,   0,   0,   0], dtype=uint8), array([  0,   0,   0,   0,   0,   0,   0,   0,   6,  68, 173, 229, 254, 254, 254, 179,  82, 140, 254, 254, 148,   0,\n",
      "         0,   0,   0,   0,   0,   0], dtype=uint8), array([  0,   0,   0,   0,   0,   0,   0,   0,   6,  68, 173, 229, 254, 254, 254, 179,  82, 140, 254, 254, 148,   0,\n",
      "         0,   0,   0,   0,   0,   0], dtype=uint8), array([  0,   0,   0,   0,   0,   0,   0,   0,   6,  68, 173, 229, 254, 254, 254, 179,  82, 140, 254, 254, 148,   0,\n",
      "         0,   0,   0,   0,   0,   0], dtype=uint8), array([  0,   0,   0,   0,   0,   0,   0,   0,   6,  68, 173, 229, 254, 254, 254, 179,  82, 140, 254, 254, 148,   0,\n",
      "         0,   0,   0,   0,   0,   0], dtype=uint8), array([  0,   0,   0,   0,   0,   0,   0,   0,   6,  68, 173, 229, 254, 254, 254, 179,  82, 140, 254, 254, 148,   0,\n",
      "         0,   0,   0,   0,   0,   0], dtype=uint8), array([  0,   0,   0,   0,   0,   0,   0,   0,   0,   0,   0,  30,  90, 254, 254, 254, 254, 254, 254, 254,  45,   0,\n",
      "         0,   0,   0,   0,   0,   0], dtype=uint8), array([  0,   0,   0,   0,   0,   0,   0,   0,   0,   0,   0,  30,  90, 254, 254, 254, 254, 254, 254, 254,  45,   0,\n",
      "         0,   0,   0,   0,   0,   0], dtype=uint8), array([  0,   0,   0,   0,   0,   0,   0,   0,   0,   0,   0,  30,  90, 254, 254, 254, 254, 254, 254, 254,  45,   0,\n",
      "         0,   0,   0,   0,   0,   0], dtype=uint8), array([  0,   0,   0,   0,   0,   0,   0,   0,   0,   0,   0,  30,  90, 254, 254, 254, 254, 254, 254, 254,  45,   0,\n",
      "         0,   0,   0,   0,   0,   0], dtype=uint8), array([  0,   0,   0,   0,   0,   0,   0,   0,   0,   0,   0,  30,  90, 254, 254, 254, 254, 254, 254, 254,  45,   0,\n",
      "         0,   0,   0,   0,   0,   0], dtype=uint8), array([  0,   0,   0,   0,   0,   0,   0,   0,   0,   0,   0,  30,  90, 254, 254, 254, 254, 254, 254, 254,  45,   0,\n",
      "         0,   0,   0,   0,   0,   0], dtype=uint8), array([  0,   0,   0,   0,   0,   0,   0,   0,   0,   0,   0,  30,  90, 254, 254, 254, 254, 254, 254, 254,  45,   0,\n",
      "         0,   0,   0,   0,   0,   0], dtype=uint8), array([  0,   0,   0,   0,   0,   0,   0,   0,   0,   0,   0,  30,  90, 254, 254, 254, 254, 254, 254, 254,  45,   0,\n",
      "         0,   0,   0,   0,   0,   0], dtype=uint8), array([  0,   0,   0,   0,   0,   0,   0,   0,   0,   0,   0,  30,  90, 254, 254, 254, 254, 254, 254, 254,  45,   0,\n",
      "         0,   0,   0,   0,   0,   0], dtype=uint8), array([  0,   0,   0,   0,   0,   0,   0,   0,   0,   0,   0,  30,  90, 254, 254, 254, 254, 254, 254, 254,  45,   0,\n",
      "         0,   0,   0,   0,   0,   0], dtype=uint8), array([  0,   0,   0,   0,   0,   0,   0,   0,   0,   0,   0,   0,   8,  67, 186, 254, 254, 209, 254, 254,  24,   0,\n",
      "         0,   0,   0,   0,   0,   0], dtype=uint8), array([  0,   0,   0,   0,   0,   0,   0,   0,   0,   0,   0,   0,   8,  67, 186, 254, 254, 209, 254, 254,  24,   0,\n",
      "         0,   0,   0,   0,   0,   0], dtype=uint8), array([  0,   0,   0,   0,   0,   0,   0,   0,   0,   0,   0,   0,   8,  67, 186, 254, 254, 209, 254, 254,  24,   0,\n",
      "         0,   0,   0,   0,   0,   0], dtype=uint8), array([  0,   0,   0,   0,   0,   0,   0,   0,   0,   0,   0,   0,   8,  67, 186, 254, 254, 209, 254, 254,  24,   0,\n",
      "         0,   0,   0,   0,   0,   0], dtype=uint8), array([  0,   0,   0,   0,   0,   0,   0,   0,   0,   0,   0,   0,   8,  67, 186, 254, 254, 209, 254, 254,  24,   0,\n",
      "         0,   0,   0,   0,   0,   0], dtype=uint8), array([  0,   0,   0,   0,   0,   0,   0,   0,   0,   0,   0,   0,   8,  67, 186, 254, 254, 209, 254, 254,  24,   0,\n",
      "         0,   0,   0,   0,   0,   0], dtype=uint8), array([  0,   0,   0,   0,   0,   0,   0,   0,   0,   0,   0,   0,   8,  67, 186, 254, 254, 209, 254, 254,  24,   0,\n",
      "         0,   0,   0,   0,   0,   0], dtype=uint8), array([  0,   0,   0,   0,   0,   0,   0,   0,   0,   0,   0,   0,   8,  67, 186, 254, 254, 209, 254, 254,  24,   0,\n",
      "         0,   0,   0,   0,   0,   0], dtype=uint8), array([  0,   0,   0,   0,   0,   0,   0,   0,   0,   0,   0,   0,   8,  67, 186, 254, 254, 209, 254, 254,  24,   0,\n",
      "         0,   0,   0,   0,   0,   0], dtype=uint8), array([  0,   0,   0,   0,   0,   0,   0,   0,   0,   0,   0,   0,   0,   0,   9,  30,  30, 202, 254, 254,  24,   0,\n",
      "         0,   0,   0,   0,   0,   0], dtype=uint8), array([  0,   0,   0,   0,   0,   0,   0,   0,   0,   0,   0,   0,   0,   0,   9,  30,  30, 202, 254, 254,  24,   0,\n",
      "         0,   0,   0,   0,   0,   0], dtype=uint8), array([  0,   0,   0,   0,   0,   0,   0,   0,   0,   0,   0,   0,   0,   0,   9,  30,  30, 202, 254, 254,  24,   0,\n",
      "         0,   0,   0,   0,   0,   0], dtype=uint8), array([  0,   0,   0,   0,   0,   0,   0,   0,   0,   0,   0,   0,   0,   0,   9,  30,  30, 202, 254, 254,  24,   0,\n",
      "         0,   0,   0,   0,   0,   0], dtype=uint8), array([  0,   0,   0,   0,   0,   0,   0,   0,   0,   0,   0,   0,   0,   0,   9,  30,  30, 202, 254, 254,  24,   0,\n",
      "         0,   0,   0,   0,   0,   0], dtype=uint8), array([  0,   0,   0,   0,   0,   0,   0,   0,   0,   0,   0,   0,   0,   0,   9,  30,  30, 202, 254, 254,  24,   0,\n",
      "         0,   0,   0,   0,   0,   0], dtype=uint8), array([  0,   0,   0,   0,   0,   0,   0,   0,   0,   0,   0,   0,   0,   0,   9,  30,  30, 202, 254, 254,  24,   0,\n",
      "         0,   0,   0,   0,   0,   0], dtype=uint8), array([  0,   0,   0,   0,   0,   0,   0,   0,   0,   0,   0,   0,   0,   0,   0,   0,   0, 212, 254, 254,  24,   0,\n",
      "         0,   0,   0,   0,   0,   0], dtype=uint8), array([  0,   0,   0,   0,   0,   0,   0,   0,   0,   0,   0,   0,   0,   0,   0,   0,   0, 212, 254, 254,  24,   0,\n",
      "         0,   0,   0,   0,   0,   0], dtype=uint8), array([  0,   0,   0,   0,   0,   0,   0,   0,   0,   0,   0,   0,   0,   0,   0,   0,   0, 212, 254, 254,  24,   0,\n",
      "         0,   0,   0,   0,   0,   0], dtype=uint8), array([  0,   0,   0,   0,   0,   0,   0,   0,   0,   0,   0,   0,   0,   0,   0,   0,   0, 212, 254, 254,  24,   0,\n",
      "         0,   0,   0,   0,   0,   0], dtype=uint8), array([  0,   0,   0,   0,   0,   0,   0,   0,   0,   0,   0,   0,   0,   0,   0,   0,  36, 231, 254, 210,  14,   0,\n",
      "         0,   0,   0,   0,   0,   0], dtype=uint8), array([  0,   0,   0,   0,   0,   0,   0,   0,   0,   0,   0,   0,   0,   0,   0,   0,  36, 231, 254, 210,  14,   0,\n",
      "         0,   0,   0,   0,   0,   0], dtype=uint8), array([  0,   0,   0,   0,   0,   0,   0,   0,   0,   0,   0,   0,   0,   0,   0,   0,  36, 231, 254, 210,  14,   0,\n",
      "         0,   0,   0,   0,   0,   0], dtype=uint8), array([  0,   0,   0,   0,   0,   0,   0,   0,   0,   0,   0,   0,   0,   0,   0,   0,  36, 231, 254, 210,  14,   0,\n",
      "         0,   0,   0,   0,   0,   0], dtype=uint8), array([  0,   0,   0,   0,   0,   0,   0,   0,   0,   0,   0,   0,   0,   0,   0,   0,  36, 231, 254, 210,  14,   0,\n",
      "         0,   0,   0,   0,   0,   0], dtype=uint8), array([  0,   0,   0,   0,   0,   0,   0,   0,   0,   0,   0,   0,   0,   0,   0,   0,  82, 254, 254, 201,  12,   0,\n",
      "         0,   0,   0,   0,   0,   0], dtype=uint8), array([  0,   0,   0,   0,   0,   0,   0,   0,   0,   0,   0,   0,   0,   0,   0,   0,  82, 254, 254, 201,  12,   0,\n",
      "         0,   0,   0,   0,   0,   0], dtype=uint8), array([  0,   0,   0,   0,   0,   0,   0,   0,   0,   0,   0,   0,   0,   0,   0,   0,  82, 254, 254, 201,  12,   0,\n",
      "         0,   0,   0,   0,   0,   0], dtype=uint8), array([  0,   0,   0,   0,   0,   0,   0,   0,   0,   0,   0,   0,   0,   0,   0,   0,  82, 254, 254, 201,  12,   0,\n",
      "         0,   0,   0,   0,   0,   0], dtype=uint8), array([  0,   0,   0,   0,   0,   0,   0,   0,   0,   0,   0,   0,   0,   0,   0,   0,  82, 254, 254, 201,  12,   0,\n",
      "         0,   0,   0,   0,   0,   0], dtype=uint8), array([  0,   0,   0,   0,   0,   0,   0,   0,   0,   0,   0,   0,   0,   0,   0,   0,  42, 234, 255, 254,  24,   0,\n",
      "         0,   0,   0,   0,   0,   0], dtype=uint8), array([  0,   0,   0,   0,   0,   0,   0,   0,   0,   0,   0,   0,   0,   0,   0,   0,  42, 234, 255, 254,  24,   0,\n",
      "         0,   0,   0,   0,   0,   0], dtype=uint8), array([  0,   0,   0,   0,   0,   0,   0,   0,   0,   0,   0,   0,   0,   0,   0,   0,  42, 234, 255, 254,  24,   0,\n",
      "         0,   0,   0,   0,   0,   0], dtype=uint8), array([  0,   0,   0,   0,   0,   0,   0,   0,   0,   0,   0,   0,   0,   0,   0,   0,  42, 234, 255, 254,  24,   0,\n",
      "         0,   0,   0,   0,   0,   0], dtype=uint8), array([  0,   0,   0,   0,   0,   0,   0,   0,   0,   0,   0,   0,   0,   0,   0,   0,  42, 234, 255, 254,  24,   0,\n"
     ]
    },
    {
     "name": "stdout",
     "output_type": "stream",
     "text": [
      "         0,   0,   0,   0,   0,   0], dtype=uint8)]\n"
     ]
    },
    {
     "ename": "ValueError",
     "evalue": "min() arg is an empty sequence",
     "output_type": "error",
     "traceback": [
      "\u001b[1;31m---------------------------------------------------------------------------\u001b[0m",
      "\u001b[1;31mValueError\u001b[0m                                Traceback (most recent call last)",
      "\u001b[1;32m<ipython-input-58-c28db9f40d49>\u001b[0m in \u001b[0;36m<module>\u001b[1;34m\u001b[0m\n\u001b[0;32m     17\u001b[0m     \u001b[0my_min\u001b[0m \u001b[1;33m=\u001b[0m \u001b[1;33m[\u001b[0m\u001b[0mm\u001b[0m\u001b[1;33m//\u001b[0m\u001b[1;36m28\u001b[0m \u001b[1;32mfor\u001b[0m \u001b[0mm\u001b[0m \u001b[1;32min\u001b[0m \u001b[0m_mincoordenates\u001b[0m\u001b[1;33m]\u001b[0m\u001b[1;33m\u001b[0m\u001b[1;33m\u001b[0m\u001b[0m\n\u001b[0;32m     18\u001b[0m \u001b[1;33m\u001b[0m\u001b[0m\n\u001b[1;32m---> 19\u001b[1;33m     \u001b[0m_minX\u001b[0m\u001b[1;33m,\u001b[0m\u001b[0m_minY\u001b[0m \u001b[1;33m=\u001b[0m \u001b[0mmin\u001b[0m\u001b[1;33m(\u001b[0m\u001b[0mx_min\u001b[0m\u001b[1;33m)\u001b[0m\u001b[1;33m,\u001b[0m\u001b[0mmin\u001b[0m\u001b[1;33m(\u001b[0m\u001b[0my_min\u001b[0m\u001b[1;33m)\u001b[0m\u001b[1;33m\u001b[0m\u001b[1;33m\u001b[0m\u001b[0m\n\u001b[0m\u001b[0;32m     20\u001b[0m     \u001b[0m_maxX\u001b[0m\u001b[1;33m,\u001b[0m\u001b[0m_maxY\u001b[0m \u001b[1;33m=\u001b[0m \u001b[0mmax\u001b[0m\u001b[1;33m(\u001b[0m\u001b[0mx_min\u001b[0m\u001b[1;33m)\u001b[0m\u001b[1;33m,\u001b[0m\u001b[0mmax\u001b[0m\u001b[1;33m(\u001b[0m\u001b[0my_min\u001b[0m\u001b[1;33m)\u001b[0m\u001b[1;33m\u001b[0m\u001b[1;33m\u001b[0m\u001b[0m\n\u001b[0;32m     21\u001b[0m \u001b[1;33m\u001b[0m\u001b[0m\n",
      "\u001b[1;31mValueError\u001b[0m: min() arg is an empty sequence"
     ]
    },
    {
     "data": {
      "image/png": "[encoded data removed]",
      "text/plain": [
       "<Figure size 432x288 with 5 Axes>"
      ]
     },
     "metadata": {
      "needs_background": "light"
     },
     "output_type": "display_data"
    }
   ],
   "source": [
    "for i in D:\n",
    "    _random = rd.randint(0,5000)\n",
    "    fig,ax = plt.subplots(5)\n",
    "    ax[i].imshow(x_train[_random], cmap=\"Greys\")\n",
    "    \n",
    "    _labels = OrdenarConD(x_train[_random],i+1)\n",
    "    \n",
    "    _mincoordenates = []\n",
    "    \n",
    "    for h in _labels[1]:\n",
    "    #print((i,j) if i==1 else \"\",end=\"\")\n",
    "        for j,k in enumerate(h):\n",
    "            if k == 1:\n",
    "                _mincoordenates.append(j)\n",
    "    #print(_mincoordenates)\n",
    "    x_min = [m%28 for m in _mincoordenates]\n",
    "    y_min = [m//28 for m in _mincoordenates]\n",
    "    \n",
    "    _minX,_minY = min(x_min),min(y_min)\n",
    "    _maxX,_maxY = max(x_min),max(y_min)\n",
    "    \n",
    "    rect = patches.Rectangle((_minX,_minY),abs(_minX-_maxX),abs(_minY-_maxY),linewidth=2,edgecolor='r',facecolor='none')\n",
    "\n",
    "    ax[i].add_patch(rect)\n",
    "plt.axis(\"equal\")"
   ]
  },
  {
   "cell_type": "code",
   "execution_count": 16,
   "metadata": {},
   "outputs": [],
   "source": [
    "km = KMeans(n_clusters=2,random_state=27)"
   ]
  },
  {
   "cell_type": "code",
   "execution_count": 172,
   "metadata": {},
   "outputs": [
    {
     "data": {
      "text/plain": [
       "KMeans(algorithm='auto', copy_x=True, init='k-means++', max_iter=300,\n",
       "       n_clusters=2, n_init=10, n_jobs=None, precompute_distances='auto',\n",
       "       random_state=27, tol=0.0001, verbose=0)"
      ]
     },
     "execution_count": 172,
     "metadata": {},
     "output_type": "execute_result"
    }
   ],
   "source": [
    "km.fit(np.array(lista_nums[83]).reshape(-1,1))"
   ]
  },
  {
   "cell_type": "code",
   "execution_count": 173,
   "metadata": {},
   "outputs": [],
   "source": [
    "_mincoordenates = []"
   ]
  },
  {
   "cell_type": "code",
   "execution_count": 174,
   "metadata": {},
   "outputs": [
    {
     "name": "stdout",
     "output_type": "stream",
     "text": [
      "(1, 72)(1, 100)(1, 127)(1, 128)(1, 155)(1, 156)(1, 182)(1, 183)(1, 209)(1, 210)(1, 211)(1, 236)(1, 237)(1, 238)(1, 264)(1, 265)(1, 291)(1, 292)(1, 298)(1, 299)(1, 318)(1, 319)(1, 320)(1, 324)(1, 325)(1, 326)(1, 327)(1, 328)(1, 329)(1, 346)(1, 347)(1, 351)(1, 352)(1, 353)(1, 354)(1, 355)(1, 356)(1, 357)(1, 358)(1, 374)(1, 378)(1, 379)(1, 380)(1, 381)(1, 384)(1, 385)(1, 386)(1, 401)(1, 402)(1, 406)(1, 407)(1, 408)(1, 413)(1, 414)(1, 429)(1, 430)(1, 434)(1, 435)(1, 441)(1, 456)(1, 457)(1, 461)(1, 462)(1, 463)(1, 468)(1, 469)(1, 484)(1, 485)(1, 489)(1, 490)(1, 495)(1, 496)(1, 497)(1, 512)(1, 513)(1, 518)(1, 519)(1, 520)(1, 521)(1, 522)(1, 523)(1, 524)(1, 540)(1, 541)(1, 542)(1, 543)(1, 544)(1, 545)(1, 546)(1, 547)(1, 548)(1, 549)(1, 550)(1, 568)(1, 569)(1, 570)(1, 571)(1, 572)(1, 573)(1, 574)(1, 575)(1, 576)(1, 597)(1, 598)(1, 599)(1, 600)(1, 601)(1, 602)"
     ]
    }
   ],
   "source": [
    "for j,i in enumerate(km.labels_):\n",
    "    print((i,j) if i==1 else \"\",end=\"\")\n",
    "    if i == 1:\n",
    "        _mincoordenates.append(j)"
   ]
  },
  {
   "cell_type": "code",
   "execution_count": 175,
   "metadata": {},
   "outputs": [
    {
     "name": "stdout",
     "output_type": "stream",
     "text": [
      "7.2592592592592595\n"
     ]
    }
   ],
   "source": [
    "print(len(km.labels_)/len(_mincoordenates))"
   ]
  },
  {
   "cell_type": "code",
   "execution_count": 176,
   "metadata": {},
   "outputs": [],
   "source": [
    "x_min = [i%28 for i in _mincoordenates]\n",
    "y_min = [i//28 for i in _mincoordenates]"
   ]
  },
  {
   "cell_type": "code",
   "execution_count": 177,
   "metadata": {},
   "outputs": [],
   "source": [
    "_minX,_minY = min(x_min),min(y_min)\n",
    "_maxX,_maxY = max(x_min),max(y_min)"
   ]
  },
  {
   "cell_type": "code",
   "execution_count": 178,
   "metadata": {},
   "outputs": [
    {
     "data": {
      "text/plain": [
       "(-0.5, 27.5, 27.5, -0.5)"
      ]
     },
     "execution_count": 178,
     "metadata": {},
     "output_type": "execute_result"
    },
    {
     "data": {
      "image/png": "[encoded data removed]",
      "text/plain": [
       "<Figure size 432x288 with 1 Axes>"
      ]
     },
     "metadata": {
      "needs_background": "light"
     },
     "output_type": "display_data"
    }
   ],
   "source": [
    "fig,ax = plt.subplots()\n",
    "ax.imshow(x_train[83], cmap=\"Greys\")\n",
    "\n",
    "rect = patches.Rectangle((_minX,_minY),abs(_minX-_maxX),abs(_minY-_maxY),linewidth=2,edgecolor='r',facecolor='none')\n",
    "\n",
    "ax.add_patch(rect)\n",
    "plt.axis(\"equal\")"
   ]
  },
  {
   "cell_type": "markdown",
   "metadata": {},
   "source": [
    "# \"Entrenar\""
   ]
  },
  {
   "cell_type": "code",
   "execution_count": 153,
   "metadata": {},
   "outputs": [],
   "source": [
    "def trainM(i,verbose=False):\n",
    "    km.fit(np.array(lista_nums[i]).reshape(-1,1))\n",
    "    \n",
    "    _mincoordenates = []\n",
    "    \n",
    "    for j,m in enumerate(km.labels_):\n",
    "        if verbose:\n",
    "            print((i,j) if i==1 else \"\",end=\"\")\n",
    "        if m == 1:\n",
    "            _mincoordenates.append(j)\n",
    "    \n",
    "    #print(len(km.labels_)/len(_mincoordenates))\n",
    "    \n",
    "    return len(km.labels_) / len(_mincoordenates)\n",
    "    \n",
    "    #fig,ax = plt.subplots()\n",
    "    #ax.imshow(x_train[i], cmap=\"Greys\")\n",
    "\n",
    "    #rect = patches.Rectangle((_minX,_minY),abs(_minX-_maxX),abs(_minY-_maxY),linewidth=2,edgecolor='r',facecolor='none')\n",
    "\n",
    "    #ax.add_patch(rect)\n",
    "    #plt.axis(\"equal\")"
   ]
  },
  {
   "cell_type": "code",
   "execution_count": 154,
   "metadata": {},
   "outputs": [],
   "source": [
    "select_1 = []\n",
    "select_2 = []\n",
    "select_3 = []\n",
    "select_4 = []\n",
    "select_5 = []\n",
    "select_6 = []\n",
    "select_7 = []\n",
    "select_8 = []\n",
    "select_9 = []"
   ]
  },
  {
   "cell_type": "code",
   "execution_count": 155,
   "metadata": {},
   "outputs": [],
   "source": [
    "for i in range(len(y_train)):\n",
    "    if y_train[i] == 1:\n",
    "        select_1.append(trainM(i))\n",
    "    elif y_train[i] == 2:\n",
    "        select_2.append(trainM(i))\n",
    "    elif y_train[i] == 3:\n",
    "        select_3.append(trainM(i))\n",
    "    elif y_train[i] == 4:\n",
    "        select_4.append(trainM(i))\n",
    "    elif y_train[i] == 5:\n",
    "        select_5.append(trainM(i))\n",
    "    elif y_train[i] == 6:\n",
    "        select_6.append(trainM(i))\n",
    "    elif y_train[i] == 7:\n",
    "        select_7.append(trainM(i))\n",
    "    elif y_train[i] == 8:\n",
    "        select_8.append(trainM(i))\n",
    "    else:\n",
    "        select_9.append(trainM(i))"
   ]
  },
  {
   "cell_type": "code",
   "execution_count": 156,
   "metadata": {},
   "outputs": [
    {
     "data": {
      "text/plain": [
       "(13.13962863853567, 26)"
      ]
     },
     "execution_count": 156,
     "metadata": {},
     "output_type": "execute_result"
    }
   ],
   "source": [
    "sum(select_1)/len(select_1),len(select_1)"
   ]
  },
  {
   "cell_type": "code",
   "execution_count": 157,
   "metadata": {},
   "outputs": [
    {
     "data": {
      "text/plain": [
       "(6.732698785104496, 20)"
      ]
     },
     "execution_count": 157,
     "metadata": {},
     "output_type": "execute_result"
    }
   ],
   "source": [
    "sum(select_2)/len(select_2),len(select_2)"
   ]
  },
  {
   "cell_type": "code",
   "execution_count": 158,
   "metadata": {},
   "outputs": [
    {
     "data": {
      "text/plain": [
       "(7.035577599890579, 21)"
      ]
     },
     "execution_count": 158,
     "metadata": {},
     "output_type": "execute_result"
    }
   ],
   "source": [
    "sum(select_3)/len(select_3),len(select_3)"
   ]
  },
  {
   "cell_type": "code",
   "execution_count": 159,
   "metadata": {},
   "outputs": [
    {
     "data": {
      "text/plain": [
       "(8.573480021656035, 21)"
      ]
     },
     "execution_count": 159,
     "metadata": {},
     "output_type": "execute_result"
    }
   ],
   "source": [
    "sum(select_4)/len(select_4),len(select_4)"
   ]
  },
  {
   "cell_type": "code",
   "execution_count": 160,
   "metadata": {},
   "outputs": [
    {
     "data": {
      "text/plain": [
       "(9.85424310298479, 13)"
      ]
     },
     "execution_count": 160,
     "metadata": {},
     "output_type": "execute_result"
    }
   ],
   "source": [
    "sum(select_5)/len(select_5),len(select_5)"
   ]
  },
  {
   "cell_type": "code",
   "execution_count": 161,
   "metadata": {},
   "outputs": [
    {
     "data": {
      "text/plain": [
       "(7.486275709595735, 19)"
      ]
     },
     "execution_count": 161,
     "metadata": {},
     "output_type": "execute_result"
    }
   ],
   "source": [
    "sum(select_6)/len(select_6),len(select_6)"
   ]
  },
  {
   "cell_type": "code",
   "execution_count": 162,
   "metadata": {},
   "outputs": [
    {
     "data": {
      "text/plain": [
       "(9.602146659267486, 21)"
      ]
     },
     "execution_count": 162,
     "metadata": {},
     "output_type": "execute_result"
    }
   ],
   "source": [
    "sum(select_7)/len(select_7),len(select_7)"
   ]
  },
  {
   "cell_type": "code",
   "execution_count": 163,
   "metadata": {},
   "outputs": [
    {
     "data": {
      "text/plain": [
       "(7.245169950529031, 15)"
      ]
     },
     "execution_count": 163,
     "metadata": {},
     "output_type": "execute_result"
    }
   ],
   "source": [
    "sum(select_8)/len(select_8),len(select_8)"
   ]
  },
  {
   "cell_type": "code",
   "execution_count": 164,
   "metadata": {},
   "outputs": [
    {
     "data": {
      "text/plain": [
       "(7.1416193523189575, 44)"
      ]
     },
     "execution_count": 164,
     "metadata": {},
     "output_type": "execute_result"
    }
   ],
   "source": [
    "sum(select_9)/len(select_9),len(select_9)"
   ]
  },
  {
   "cell_type": "markdown",
   "metadata": {},
   "source": [
    "## Referencias\n",
    "\n",
    "https://towardsdatascience.com/image-classification-in-10-minutes-with-mnist-dataset-54c35b77a38d"
   ]
  },
  {
   "cell_type": "code",
   "execution_count": null,
   "metadata": {},
   "outputs": [],
   "source": []
  }
 ],
 "metadata": {
  "kernelspec": {
   "display_name": "Python 3",
   "language": "python",
   "name": "python3"
  },
  "language_info": {
   "codemirror_mode": {
    "name": "ipython",
    "version": 3
   },
   "file_extension": ".py",
   "mimetype": "text/x-python",
   "name": "python",
   "nbconvert_exporter": "python",
   "pygments_lexer": "ipython3",
   "version": "3.6.7"
  }
 },
 "nbformat": 4,
 "nbformat_minor": 2
}
